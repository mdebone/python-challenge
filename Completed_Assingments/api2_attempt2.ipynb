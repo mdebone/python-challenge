{
 "cells": [
  {
   "cell_type": "code",
   "execution_count": 6,
   "id": "45511497",
   "metadata": {},
   "outputs": [],
   "source": [
    "# Dependencies\n",
    "import json\n",
    "import requests\n",
    "from config import weather_api_key\n",
    "from pprint import pprint"
   ]
  },
  {
   "cell_type": "code",
   "execution_count": 2,
   "id": "451e445f",
   "metadata": {},
   "outputs": [],
   "source": [
    "# Save config information.\n",
    "url = \"http://api.openweathermap.org/data/2.5/weather?\"\n",
    "city = \"Bujumbura\"\n",
    "units = \"metric\""
   ]
  },
  {
   "cell_type": "code",
   "execution_count": 3,
   "id": "00b81db3",
   "metadata": {},
   "outputs": [],
   "source": [
    "# Build query URL and request your results in Celsius\n",
    "query_url = f\"{url}appid={weather_api_key}&q={city}&units={units}\""
   ]
  },
  {
   "cell_type": "code",
   "execution_count": 7,
   "id": "56cce23e",
   "metadata": {},
   "outputs": [
    {
     "name": "stdout",
     "output_type": "stream",
     "text": [
      "{'base': 'stations',\n",
      " 'clouds': {'all': 94},\n",
      " 'cod': 200,\n",
      " 'coord': {'lat': -3.3822, 'lon': 29.3644},\n",
      " 'dt': 1634326298,\n",
      " 'id': 425378,\n",
      " 'main': {'feels_like': 24.13,\n",
      "          'grnd_level': 924,\n",
      "          'humidity': 79,\n",
      "          'pressure': 1013,\n",
      "          'sea_level': 1013,\n",
      "          'temp': 23.65,\n",
      "          'temp_max': 23.65,\n",
      "          'temp_min': 23.65},\n",
      " 'name': 'Bujumbura',\n",
      " 'sys': {'country': 'BI', 'sunrise': 1634269365, 'sunset': 1634313213},\n",
      " 'timezone': 7200,\n",
      " 'visibility': 10000,\n",
      " 'weather': [{'description': 'overcast clouds',\n",
      "              'icon': '04n',\n",
      "              'id': 804,\n",
      "              'main': 'Clouds'}],\n",
      " 'wind': {'deg': 347, 'gust': 2.19, 'speed': 1.38}}\n"
     ]
    }
   ],
   "source": [
    "# Get weather data\n",
    "weather_response = requests.get(query_url)\n",
    "weather_json = weather_response.json()\n",
    "pprint(weather_json)"
   ]
  },
  {
   "cell_type": "code",
   "execution_count": 10,
   "id": "28b7b77e",
   "metadata": {},
   "outputs": [
    {
     "data": {
      "text/plain": [
       "23.65"
      ]
     },
     "execution_count": 10,
     "metadata": {},
     "output_type": "execute_result"
    }
   ],
   "source": [
    "# Get the temperature from JSON response\n",
    "temperature = weather_json[\"main\"][\"temp\"]\n",
    "temperature"
   ]
  },
  {
   "cell_type": "code",
   "execution_count": 11,
   "id": "fe58a4f1",
   "metadata": {},
   "outputs": [
    {
     "name": "stdout",
     "output_type": "stream",
     "text": [
      " The temperature in Bujumbura is 23.65 C.\n"
     ]
    }
   ],
   "source": [
    "# Report temperature\n",
    "print(f\" The temperature in Bujumbura is {temperature} C.\")"
   ]
  },
  {
   "cell_type": "code",
   "execution_count": 13,
   "id": "4de1ae87",
   "metadata": {},
   "outputs": [
    {
     "name": "stdout",
     "output_type": "stream",
     "text": [
      "The temperature in Bujumbura is 23.65C or 74.57F.\n"
     ]
    }
   ],
   "source": [
    "# Bonus\n",
    "\n",
    "# use list of units\n",
    "units = [\"metric\", \"imperial\"]\n",
    "\n",
    "# set up list to hold two different temperatures\n",
    "temperatures = []\n",
    "\n",
    "# loop through the list of units and append them  to temperatures list \n",
    "for unit in units:\n",
    "    # Build query URL based on current element in units\n",
    "    query_url = url + \"appid=\" + weather_api_key + \"&q=\" + city + \"&units=\" + unit\n",
    "    \n",
    "    # Get weather data\n",
    "    weather_response = requests.get(query_url)\n",
    "    weather_json = weather_response.json()\n",
    "    \n",
    "    # Get temperature from JSON response\n",
    "    temperature = weather_json[\"main\"][\"temp\"]\n",
    "    \n",
    "    temperatures.append(temperature)\n",
    "\n",
    "# Report temperature by accessing each element in the list\n",
    "print(f\"The temperature in Bujumbura is {temperatures[0]}C or {temperatures[1]}F.\")"
   ]
  },
  {
   "cell_type": "code",
   "execution_count": 15,
   "id": "31c18aa6",
   "metadata": {},
   "outputs": [],
   "source": [
    "# Dependencies\n",
    "import matplotlib.pyplot as plt\n",
    "import requests\n",
    "import pandas as pd\n",
    "from config import weather_api_key"
   ]
  },
  {
   "cell_type": "code",
   "execution_count": 16,
   "id": "0bda7123",
   "metadata": {},
   "outputs": [],
   "source": [
    "# save config information\n",
    "url = \"http://api.openweathermap.org/data/2.5/weather?\"\n",
    "units = \"imperial\"\n",
    "\n",
    "# build a parial query URL\n",
    "query_url = f\"{url}appid={weather_api_key}&units={units}&q=\""
   ]
  },
  {
   "cell_type": "code",
   "execution_count": 19,
   "id": "81fe4d73",
   "metadata": {},
   "outputs": [
    {
     "name": "stdout",
     "output_type": "stream",
     "text": [
      "The latitude information received is: [29.7633, 42.3584, 48.8534, 51.5085, 59.9127, 39.9075]\n",
      "The temperature information received is: [89.53, 69.42, 54.97, 52.43, 43.3, 44.49]\n"
     ]
    }
   ],
   "source": [
    "cities = [\"Houston\", \"Boston\", \"Paris\", \"London\", \"Oslo\", \"Beijing\"]\n",
    "\n",
    "# set up lists to hold response info\n",
    "lat = []\n",
    "temp = []\n",
    "dic = []\n",
    "\n",
    "# Loop through the cities and perform a request for data on each\n",
    "for city in cities:\n",
    "    response = requests.get(query_url + city).json()\n",
    "    a = {\n",
    "        \"city\": response['name'],\n",
    "        \"lat\": response['coord']['lat'],\n",
    "        \"lon\": response['coord']['lon'],\n",
    "        \"temp\": response['main']['temp']   \n",
    "    }\n",
    "    dic.append(a)\n",
    "    lat.append(response['coord']['lat'])\n",
    "    temp.append(response['main']['temp'])\n",
    "    \n",
    "print(f\"The latitude information received is: {lat}\")\n",
    "print(f\"The temperature information received is: {temp}\")"
   ]
  },
  {
   "cell_type": "code",
   "execution_count": 20,
   "id": "f4e6361a",
   "metadata": {},
   "outputs": [
    {
     "data": {
      "text/plain": [
       "[{'city': 'Houston', 'lat': 29.7633, 'lon': -95.3633, 'temp': 89.53},\n",
       " {'city': 'Boston', 'lat': 42.3584, 'lon': -71.0598, 'temp': 69.42},\n",
       " {'city': 'Paris', 'lat': 48.8534, 'lon': 2.3488, 'temp': 54.97},\n",
       " {'city': 'London', 'lat': 51.5085, 'lon': -0.1257, 'temp': 52.43},\n",
       " {'city': 'Oslo', 'lat': 59.9127, 'lon': 10.7461, 'temp': 43.3},\n",
       " {'city': 'Beijing', 'lat': 39.9075, 'lon': 116.3972, 'temp': 44.49}]"
      ]
     },
     "execution_count": 20,
     "metadata": {},
     "output_type": "execute_result"
    }
   ],
   "source": [
    "dic"
   ]
  },
  {
   "cell_type": "code",
   "execution_count": 27,
   "id": "0507a84e",
   "metadata": {},
   "outputs": [
    {
     "data": {
      "text/html": [
       "<div>\n",
       "<style scoped>\n",
       "    .dataframe tbody tr th:only-of-type {\n",
       "        vertical-align: middle;\n",
       "    }\n",
       "\n",
       "    .dataframe tbody tr th {\n",
       "        vertical-align: top;\n",
       "    }\n",
       "\n",
       "    .dataframe thead th {\n",
       "        text-align: right;\n",
       "    }\n",
       "</style>\n",
       "<table border=\"1\" class=\"dataframe\">\n",
       "  <thead>\n",
       "    <tr style=\"text-align: right;\">\n",
       "      <th></th>\n",
       "      <th>lat</th>\n",
       "      <th>lon</th>\n",
       "      <th>temp</th>\n",
       "    </tr>\n",
       "    <tr>\n",
       "      <th>city</th>\n",
       "      <th></th>\n",
       "      <th></th>\n",
       "      <th></th>\n",
       "    </tr>\n",
       "  </thead>\n",
       "  <tbody>\n",
       "    <tr>\n",
       "      <th>Houston</th>\n",
       "      <td>29.7633</td>\n",
       "      <td>-95.3633</td>\n",
       "      <td>89.53</td>\n",
       "    </tr>\n",
       "    <tr>\n",
       "      <th>Boston</th>\n",
       "      <td>42.3584</td>\n",
       "      <td>-71.0598</td>\n",
       "      <td>69.42</td>\n",
       "    </tr>\n",
       "    <tr>\n",
       "      <th>Paris</th>\n",
       "      <td>48.8534</td>\n",
       "      <td>2.3488</td>\n",
       "      <td>54.97</td>\n",
       "    </tr>\n",
       "    <tr>\n",
       "      <th>London</th>\n",
       "      <td>51.5085</td>\n",
       "      <td>-0.1257</td>\n",
       "      <td>52.43</td>\n",
       "    </tr>\n",
       "    <tr>\n",
       "      <th>Oslo</th>\n",
       "      <td>59.9127</td>\n",
       "      <td>10.7461</td>\n",
       "      <td>43.30</td>\n",
       "    </tr>\n",
       "    <tr>\n",
       "      <th>Beijing</th>\n",
       "      <td>39.9075</td>\n",
       "      <td>116.3972</td>\n",
       "      <td>44.49</td>\n",
       "    </tr>\n",
       "  </tbody>\n",
       "</table>\n",
       "</div>"
      ],
      "text/plain": [
       "             lat       lon   temp\n",
       "city                             \n",
       "Houston  29.7633  -95.3633  89.53\n",
       "Boston   42.3584  -71.0598  69.42\n",
       "Paris    48.8534    2.3488  54.97\n",
       "London   51.5085   -0.1257  52.43\n",
       "Oslo     59.9127   10.7461  43.30\n",
       "Beijing  39.9075  116.3972  44.49"
      ]
     },
     "execution_count": 27,
     "metadata": {},
     "output_type": "execute_result"
    }
   ],
   "source": [
    "weather_data = pd.DataFrame(dic)\n",
    "weather_data.set_index('city')"
   ]
  },
  {
   "cell_type": "code",
   "execution_count": 23,
   "id": "35c8ae74",
   "metadata": {},
   "outputs": [
    {
     "data": {
      "text/html": [
       "<div>\n",
       "<style scoped>\n",
       "    .dataframe tbody tr th:only-of-type {\n",
       "        vertical-align: middle;\n",
       "    }\n",
       "\n",
       "    .dataframe tbody tr th {\n",
       "        vertical-align: top;\n",
       "    }\n",
       "\n",
       "    .dataframe thead th {\n",
       "        text-align: right;\n",
       "    }\n",
       "</style>\n",
       "<table border=\"1\" class=\"dataframe\">\n",
       "  <thead>\n",
       "    <tr style=\"text-align: right;\">\n",
       "      <th></th>\n",
       "      <th>city</th>\n",
       "      <th>lat</th>\n",
       "      <th>temp</th>\n",
       "    </tr>\n",
       "  </thead>\n",
       "  <tbody>\n",
       "    <tr>\n",
       "      <th>0</th>\n",
       "      <td>Houston</td>\n",
       "      <td>29.7633</td>\n",
       "      <td>89.53</td>\n",
       "    </tr>\n",
       "    <tr>\n",
       "      <th>1</th>\n",
       "      <td>Boston</td>\n",
       "      <td>42.3584</td>\n",
       "      <td>69.42</td>\n",
       "    </tr>\n",
       "    <tr>\n",
       "      <th>2</th>\n",
       "      <td>Paris</td>\n",
       "      <td>48.8534</td>\n",
       "      <td>54.97</td>\n",
       "    </tr>\n",
       "    <tr>\n",
       "      <th>3</th>\n",
       "      <td>London</td>\n",
       "      <td>51.5085</td>\n",
       "      <td>52.43</td>\n",
       "    </tr>\n",
       "    <tr>\n",
       "      <th>4</th>\n",
       "      <td>Oslo</td>\n",
       "      <td>59.9127</td>\n",
       "      <td>43.30</td>\n",
       "    </tr>\n",
       "  </tbody>\n",
       "</table>\n",
       "</div>"
      ],
      "text/plain": [
       "      city      lat   temp\n",
       "0  Houston  29.7633  89.53\n",
       "1   Boston  42.3584  69.42\n",
       "2    Paris  48.8534  54.97\n",
       "3   London  51.5085  52.43\n",
       "4     Oslo  59.9127  43.30"
      ]
     },
     "execution_count": 23,
     "metadata": {},
     "output_type": "execute_result"
    }
   ],
   "source": [
    "# create a data frame for cities, lat, and temp\n",
    "weather_dict = {\n",
    "    \"city\": cities,\n",
    "    \"lat\": lat,\n",
    "    \"temp\": temp\n",
    "}\n",
    "\n",
    "weather_dict = pd.DataFrame(weather_dict)\n",
    "weather_dict.head()"
   ]
  },
  {
   "cell_type": "code",
   "execution_count": 25,
   "id": "98873fab",
   "metadata": {},
   "outputs": [
    {
     "data": {
      "image/png": "[encoded data removed]",
      "text/plain": [
       "<Figure size 432x288 with 1 Axes>"
      ]
     },
     "metadata": {
      "needs_background": "light"
     },
     "output_type": "display_data"
    }
   ],
   "source": [
    "# Build a scatter plot for each data type\n",
    "plt.scatter(weather_data[\"lat\"], weather_data[\"temp\"], marker=\"o\")\n",
    "\n",
    "# incorporate the other graph properties\n",
    "plt.title(\"Temperature in World Cities\")\n",
    "plt.xlabel(\"Temperature (Celsius)\")\n",
    "plt.ylabel(\"Latitude\")\n",
    "plt.grid(True)\n",
    "\n",
    "# save the figure\n",
    "plt.savefig(\"TemperatureInWorldCities.png\")\n",
    "\n",
    "# Show plot\n",
    "plt.show()"
   ]
  },
  {
   "cell_type": "code",
   "execution_count": 26,
   "id": "0a3e79a3",
   "metadata": {},
   "outputs": [],
   "source": [
    "# 2.6\n",
    "# Dependencies\n",
    "import requests\n",
    "import json\n",
    "import pandas as pd\n",
    "import numpy as np\n",
    "import matplotlib.pyplot as plt"
   ]
  },
  {
   "cell_type": "code",
   "execution_count": 28,
   "id": "4c3f146b",
   "metadata": {},
   "outputs": [],
   "source": [
    "# store the url\n",
    "base_url = \"https://api.tvmaze.com/search/shows?q=\""
   ]
  },
  {
   "cell_type": "code",
   "execution_count": 40,
   "id": "551eb4a2",
   "metadata": {},
   "outputs": [],
   "source": [
    "# store the name and rating of shows in the list\n",
    "show_title = []\n",
    "rating = []\n",
    "networks = []\n",
    "\n",
    "# Sample shows to query\n",
    "tv_shows = [\"Altered Carbon\", \"Grey's Anatomy\", \"This is Us\", \"The Flash\",\n",
    "            \"Vikings\", \"Shameless\", \"Arrow\", \"Peaky Blinders\", \"Dirk Gently\"]\n",
    "\n",
    "\n",
    "# networks.append(response[0][\"show\"][\"network\"][\"name\"])\n",
    "\n",
    "# loop through tv show titles, make requests and parse\n",
    "for show in tv_shows:\n",
    "    target_url = base_url + show\n",
    "    response = requests.get(target_url).json()\n",
    "    show_title.append(response[0][\"show\"][\"name\"])\n",
    "    rating.append(response[0][\"show\"][\"rating\"][\"average\"])"
   ]
  },
  {
   "cell_type": "code",
   "execution_count": 55,
   "id": "200586bb",
   "metadata": {},
   "outputs": [
    {
     "data": {
      "text/plain": [
       "<bound method DataFrame.append of             title  rating\n",
       "0  Altered Carbon     8.1\n",
       "1  Grey's Anatomy     7.9\n",
       "2      This Is Us     7.9\n",
       "3       The Flash     7.8\n",
       "4         Vikings     8.7\n",
       "5       Shameless     8.5\n",
       "6           Arrow     7.4\n",
       "7  Peaky Blinders     8.7\n",
       "8     Dirk Gently     7.3>"
      ]
     },
     "execution_count": 55,
     "metadata": {},
     "output_type": "execute_result"
    }
   ],
   "source": [
    "# create dataframe\n",
    "show_df = pd.DataFrame({\n",
    "    \"title\": show_title,\n",
    "    \"rating\": rating\n",
    "    \n",
    "})\n",
    "\n",
    "show_df.append"
   ]
  },
  {
   "cell_type": "code",
   "execution_count": 60,
   "id": "c74fabb4",
   "metadata": {},
   "outputs": [],
   "source": [
    "tv_show_networks =(\"Netflix\", \"ABC\", \"NBC\", \"The CW\", \"History\", \"Showtime\", \"The CW\", \"BBC\", \"BBC\")"
   ]
  },
  {
   "cell_type": "code",
   "execution_count": 61,
   "id": "f0ab96f5",
   "metadata": {},
   "outputs": [
    {
     "data": {
      "text/html": [
       "<div>\n",
       "<style scoped>\n",
       "    .dataframe tbody tr th:only-of-type {\n",
       "        vertical-align: middle;\n",
       "    }\n",
       "\n",
       "    .dataframe tbody tr th {\n",
       "        vertical-align: top;\n",
       "    }\n",
       "\n",
       "    .dataframe thead th {\n",
       "        text-align: right;\n",
       "    }\n",
       "</style>\n",
       "<table border=\"1\" class=\"dataframe\">\n",
       "  <thead>\n",
       "    <tr style=\"text-align: right;\">\n",
       "      <th></th>\n",
       "      <th>title</th>\n",
       "      <th>rating</th>\n",
       "      <th>Network</th>\n",
       "    </tr>\n",
       "  </thead>\n",
       "  <tbody>\n",
       "    <tr>\n",
       "      <th>0</th>\n",
       "      <td>Altered Carbon</td>\n",
       "      <td>8.1</td>\n",
       "      <td>Netflix</td>\n",
       "    </tr>\n",
       "    <tr>\n",
       "      <th>1</th>\n",
       "      <td>Grey's Anatomy</td>\n",
       "      <td>7.9</td>\n",
       "      <td>ABC</td>\n",
       "    </tr>\n",
       "    <tr>\n",
       "      <th>2</th>\n",
       "      <td>This Is Us</td>\n",
       "      <td>7.9</td>\n",
       "      <td>NBC</td>\n",
       "    </tr>\n",
       "    <tr>\n",
       "      <th>3</th>\n",
       "      <td>The Flash</td>\n",
       "      <td>7.8</td>\n",
       "      <td>The CW</td>\n",
       "    </tr>\n",
       "    <tr>\n",
       "      <th>4</th>\n",
       "      <td>Vikings</td>\n",
       "      <td>8.7</td>\n",
       "      <td>History</td>\n",
       "    </tr>\n",
       "    <tr>\n",
       "      <th>5</th>\n",
       "      <td>Shameless</td>\n",
       "      <td>8.5</td>\n",
       "      <td>Showtime</td>\n",
       "    </tr>\n",
       "    <tr>\n",
       "      <th>6</th>\n",
       "      <td>Arrow</td>\n",
       "      <td>7.4</td>\n",
       "      <td>The CW</td>\n",
       "    </tr>\n",
       "    <tr>\n",
       "      <th>7</th>\n",
       "      <td>Peaky Blinders</td>\n",
       "      <td>8.7</td>\n",
       "      <td>BBC</td>\n",
       "    </tr>\n",
       "    <tr>\n",
       "      <th>8</th>\n",
       "      <td>Dirk Gently</td>\n",
       "      <td>7.3</td>\n",
       "      <td>BBC</td>\n",
       "    </tr>\n",
       "  </tbody>\n",
       "</table>\n",
       "</div>"
      ],
      "text/plain": [
       "            title  rating   Network\n",
       "0  Altered Carbon     8.1   Netflix\n",
       "1  Grey's Anatomy     7.9       ABC\n",
       "2      This Is Us     7.9       NBC\n",
       "3       The Flash     7.8    The CW\n",
       "4         Vikings     8.7   History\n",
       "5       Shameless     8.5  Showtime\n",
       "6           Arrow     7.4    The CW\n",
       "7  Peaky Blinders     8.7       BBC\n",
       "8     Dirk Gently     7.3       BBC"
      ]
     },
     "execution_count": 61,
     "metadata": {},
     "output_type": "execute_result"
    }
   ],
   "source": [
    "show_df[\"Network\"] = np.array(tv_show_networks)\n",
    "show_df"
   ]
  },
  {
   "cell_type": "code",
   "execution_count": 62,
   "id": "c76fca7d",
   "metadata": {},
   "outputs": [
    {
     "data": {
      "text/plain": [
       "<AxesSubplot:xlabel='title'>"
      ]
     },
     "execution_count": 62,
     "metadata": {},
     "output_type": "execute_result"
    },
    {
     "data": {
      "image/png": "[encoded data removed]",
      "text/plain": [
       "<Figure size 720x360 with 1 Axes>"
      ]
     },
     "metadata": {
      "needs_background": "light"
     },
     "output_type": "display_data"
    }
   ],
   "source": [
    "show_df.plot(x='title', y='rating', kind='bar', figsize=(10,5), rot=45)"
   ]
  },
  {
   "cell_type": "code",
   "execution_count": 65,
   "id": "456230ee",
   "metadata": {},
   "outputs": [
    {
     "data": {
      "text/plain": [
       "<AxesSubplot:xlabel='title'>"
      ]
     },
     "execution_count": 65,
     "metadata": {},
     "output_type": "execute_result"
    },
    {
     "data": {
      "image/png": "[encoded data removed]",
      "text/plain": [
       "<Figure size 432x288 with 1 Axes>"
      ]
     },
     "metadata": {
      "needs_background": "light"
     },
     "output_type": "display_data"
    }
   ],
   "source": [
    "st = show_df[\"rating\"].std()\n",
    "show_df.plot(x='title', y='rating', kind='bar', rot=45, ylim=(show_df[\"rating\"].min()-st, show_df[\"rating\"].max()+st))"
   ]
  },
  {
   "cell_type": "code",
   "execution_count": 66,
   "id": "5b113c4b",
   "metadata": {},
   "outputs": [],
   "source": [
    "#2.7\n",
    "# Dependencies\n",
    "import csv\n",
    "import matplotlib.pyplot as plt\n",
    "import requests\n",
    "from scipy import stats\n",
    "import pandas as pd\n",
    "from config import weather_api_key"
   ]
  },
  {
   "cell_type": "code",
   "execution_count": 68,
   "id": "028d989d",
   "metadata": {},
   "outputs": [],
   "source": [
    "# save config info\n",
    "url = \"http://api.openweathermap.org/data/2.5/weather?\"\n",
    "units = \"metric\"\n",
    "    \n",
    "# Create search query, make request and store in json\n",
    "query_url = f\"{url}appid={api_key}&units={units}&q=\""
   ]
  },
  {
   "cell_type": "code",
   "execution_count": 70,
   "id": "f0b281f0",
   "metadata": {},
   "outputs": [
    {
     "name": "stdout",
     "output_type": "stream",
     "text": [
      "The latitude information received is: [48.8534, 51.5085, 59.9127, 39.9075, 19.0144, 40.7143, 47.6062, 32.7668, 25.0478]\n",
      "The temperature information received is: [11.84, 9.44, 5.75, 3.94, 27.99, 23.06, 14.79, 23.16, 25.94]\n"
     ]
    }
   ],
   "source": [
    "cities = [\"Paris\", \"London\", \"Oslo\", \"Beijing\", \"Mumbai\", \"New York\", \"Seattle\", \"Dallas\", \"Taipei\"]\n",
    "\n",
    "# set up  lists to hold the response info\n",
    "temperature = []\n",
    "latitude = []\n",
    "\n",
    "# Loop through the list of cities and perform a request for data on each\n",
    "for city in cities:\n",
    "    response = requests.get(query_url + city).json()\n",
    "    latitude.append(response['coord']['lat'])\n",
    "    temperature.append(response['main']['temp'])\n",
    "    \n",
    "print(f\"The latitude information received is: {latitude}\")\n",
    "print(f\"The temperature information received is: {temperature}\")"
   ]
  },
  {
   "cell_type": "code",
   "execution_count": 74,
   "id": "cdcc7e6d",
   "metadata": {},
   "outputs": [
    {
     "data": {
      "text/html": [
       "<div>\n",
       "<style scoped>\n",
       "    .dataframe tbody tr th:only-of-type {\n",
       "        vertical-align: middle;\n",
       "    }\n",
       "\n",
       "    .dataframe tbody tr th {\n",
       "        vertical-align: top;\n",
       "    }\n",
       "\n",
       "    .dataframe thead th {\n",
       "        text-align: right;\n",
       "    }\n",
       "</style>\n",
       "<table border=\"1\" class=\"dataframe\">\n",
       "  <thead>\n",
       "    <tr style=\"text-align: right;\">\n",
       "      <th></th>\n",
       "      <th>lat</th>\n",
       "      <th>temp</th>\n",
       "    </tr>\n",
       "    <tr>\n",
       "      <th>city</th>\n",
       "      <th></th>\n",
       "      <th></th>\n",
       "    </tr>\n",
       "  </thead>\n",
       "  <tbody>\n",
       "    <tr>\n",
       "      <th>Paris</th>\n",
       "      <td>48.8534</td>\n",
       "      <td>11.84</td>\n",
       "    </tr>\n",
       "    <tr>\n",
       "      <th>London</th>\n",
       "      <td>51.5085</td>\n",
       "      <td>9.44</td>\n",
       "    </tr>\n",
       "    <tr>\n",
       "      <th>Oslo</th>\n",
       "      <td>59.9127</td>\n",
       "      <td>5.75</td>\n",
       "    </tr>\n",
       "    <tr>\n",
       "      <th>Beijing</th>\n",
       "      <td>39.9075</td>\n",
       "      <td>3.94</td>\n",
       "    </tr>\n",
       "    <tr>\n",
       "      <th>Mumbai</th>\n",
       "      <td>19.0144</td>\n",
       "      <td>27.99</td>\n",
       "    </tr>\n",
       "    <tr>\n",
       "      <th>New York</th>\n",
       "      <td>40.7143</td>\n",
       "      <td>23.06</td>\n",
       "    </tr>\n",
       "    <tr>\n",
       "      <th>Seattle</th>\n",
       "      <td>47.6062</td>\n",
       "      <td>14.79</td>\n",
       "    </tr>\n",
       "    <tr>\n",
       "      <th>Dallas</th>\n",
       "      <td>32.7668</td>\n",
       "      <td>23.16</td>\n",
       "    </tr>\n",
       "    <tr>\n",
       "      <th>Taipei</th>\n",
       "      <td>25.0478</td>\n",
       "      <td>25.94</td>\n",
       "    </tr>\n",
       "  </tbody>\n",
       "</table>\n",
       "</div>"
      ],
      "text/plain": [
       "              lat   temp\n",
       "city                    \n",
       "Paris     48.8534  11.84\n",
       "London    51.5085   9.44\n",
       "Oslo      59.9127   5.75\n",
       "Beijing   39.9075   3.94\n",
       "Mumbai    19.0144  27.99\n",
       "New York  40.7143  23.06\n",
       "Seattle   47.6062  14.79\n",
       "Dallas    32.7668  23.16\n",
       "Taipei    25.0478  25.94"
      ]
     },
     "execution_count": 74,
     "metadata": {},
     "output_type": "execute_result"
    }
   ],
   "source": [
    "# create a dataframe from cities, lat, and temp\n",
    "weather_dict = {\n",
    "    \"city\": cities,\n",
    "    \"lat\": latitude,\n",
    "    \"temp\": temperature\n",
    "    }\n",
    "\n",
    "weather_data = pd.DataFrame(weather_dict)\n",
    "weather_data.set_index(\"city\")"
   ]
  },
  {
   "cell_type": "code",
   "execution_count": 88,
   "id": "30a916cb",
   "metadata": {},
   "outputs": [
    {
     "data": {
      "text/plain": [
       "<AxesSubplot:>"
      ]
     },
     "execution_count": 88,
     "metadata": {},
     "output_type": "execute_result"
    },
    {
     "data": {
      "image/png": "[encoded data removed]",
      "text/plain": [
       "<Figure size 432x288 with 1 Axes>"
      ]
     },
     "metadata": {
      "needs_background": "light"
     },
     "output_type": "display_data"
    }
   ],
   "source": [
    "weather_data[[\"lat\", \"temp\"]].plot()"
   ]
  },
  {
   "cell_type": "code",
   "execution_count": 77,
   "id": "c8fb5cf7",
   "metadata": {},
   "outputs": [
    {
     "data": {
      "text/plain": [
       "<function matplotlib.pyplot.show(close=None, block=None)>"
      ]
     },
     "execution_count": 77,
     "metadata": {},
     "output_type": "execute_result"
    },
    {
     "data": {
      "image/png": "[encoded data removed]",
      "text/plain": [
       "<Figure size 432x288 with 1 Axes>"
      ]
     },
     "metadata": {
      "needs_background": "light"
     },
     "output_type": "display_data"
    }
   ],
   "source": [
    "# create a scatter plot for temperature vs latitude\n",
    "x_values = weather_data['lat']\n",
    "y_values = weather_data['temp']\n",
    "plt.scatter(x_values, y_values)\n",
    "plt.xlabel('Latitude')\n",
    "plt.ylabel('Temperature')\n",
    "plt.title('Temperature relative to Latitude')\n",
    "plt.show"
   ]
  },
  {
   "cell_type": "code",
   "execution_count": 79,
   "id": "94dd6b36",
   "metadata": {},
   "outputs": [
    {
     "name": "stdout",
     "output_type": "stream",
     "text": [
      "0    11.583137\n",
      "1    10.095340\n",
      "2     5.386012\n",
      "3    16.596009\n",
      "4    28.303544\n",
      "5    16.143915\n",
      "6    12.282010\n",
      "7    20.597330\n",
      "8    24.922703\n",
      "Name: lat, dtype: float64\n"
     ]
    }
   ],
   "source": [
    "# Perform a linear regression on temperature vs. latitude\n",
    "(slope, intercept, rvalue, pvalue, stderr) = stats.linregress(x_values, y_values)\n",
    "\n",
    "# get regression values\n",
    "regress_values = x_values * slope + intercept\n",
    "print(regress_values)"
   ]
  },
  {
   "cell_type": "code",
   "execution_count": 80,
   "id": "549f9bb4",
   "metadata": {},
   "outputs": [
    {
     "name": "stdout",
     "output_type": "stream",
     "text": [
      "y = -0.56x +38.96\n"
     ]
    }
   ],
   "source": [
    "# create a line equation string\n",
    "line_eq = \"y = \" + str(round(slope,2)) + \"x +\" + str(round(intercept,2))\n",
    "print(line_eq)"
   ]
  },
  {
   "cell_type": "code",
   "execution_count": 81,
   "id": "a74f3fbb",
   "metadata": {},
   "outputs": [
    {
     "name": "stdout",
     "output_type": "stream",
     "text": [
      "The r-squared is: 0.6604132917822406\n"
     ]
    },
    {
     "data": {
      "text/plain": [
       "<function matplotlib.pyplot.show(close=None, block=None)>"
      ]
     },
     "execution_count": 81,
     "metadata": {},
     "output_type": "execute_result"
    },
    {
     "data": {
      "image/png": "[encoded data removed]",
      "text/plain": [
       "<Figure size 432x288 with 1 Axes>"
      ]
     },
     "metadata": {
      "needs_background": "light"
     },
     "output_type": "display_data"
    }
   ],
   "source": [
    "# create a plot\n",
    "plt.scatter(x_values, y_values)\n",
    "plt.plot(x_values, regress_values, \"r-\")\n",
    "\n",
    "# label plot and annotate the line equation\n",
    "plt.xlabel('latitude')\n",
    "plt.ylabel('temperature')\n",
    "plt.annotate(line_eq,(20,15), fontsize=15, color=\"red\")\n",
    "\n",
    "# print r square values\n",
    "print(f\"The r-squared is: {rvalue**2}\")\n",
    "\n",
    "# show plot\n",
    "plt.show"
   ]
  },
  {
   "cell_type": "code",
   "execution_count": 82,
   "id": "34c0747a",
   "metadata": {},
   "outputs": [
    {
     "name": "stdout",
     "output_type": "stream",
     "text": [
      "The predicited temperature for Florence will be 14.43.\n"
     ]
    }
   ],
   "source": [
    "# Calculate the temperature for Florence at 43.77 degress\n",
    "florence_lat = 43.77\n",
    "florence_predict_temp = round(slope * florence_lat + intercept,2)\n",
    "\n",
    "print(f\"The predicited temperature for Florence will be {florence_predict_temp}.\")"
   ]
  },
  {
   "cell_type": "code",
   "execution_count": 86,
   "id": "729661c6",
   "metadata": {},
   "outputs": [
    {
     "name": "stdout",
     "output_type": "stream",
     "text": [
      "The actual temperature for Florence is 9.4.\n"
     ]
    }
   ],
   "source": [
    "# use the API to determine actual temperature\n",
    "response = requests.get(query_url + \"Florence\").json()\n",
    "florence_actual_temp = response['main']['temp']\n",
    "\n",
    "print(f\"The actual temperature for Florence is {florence_actual_temp}.\")"
   ]
  },
  {
   "cell_type": "code",
   "execution_count": 87,
   "id": "355baf92",
   "metadata": {},
   "outputs": [
    {
     "name": "stdout",
     "output_type": "stream",
     "text": [
      "-0.8126581641639002 0.007760497875457813 0.15187315222351658\n"
     ]
    }
   ],
   "source": [
    "print(rvalue, pvalue, stderr)"
   ]
  },
  {
   "cell_type": "code",
   "execution_count": 91,
   "id": "62d63ec7",
   "metadata": {},
   "outputs": [
    {
     "ename": "KeyError",
     "evalue": "'Jezebel'",
     "output_type": "error",
     "traceback": [
      "\u001b[1;31m---------------------------------------------------------------------------\u001b[0m",
      "\u001b[1;31mKeyError\u001b[0m                                  Traceback (most recent call last)",
      "\u001b[1;32m<ipython-input-91-d9b36c869778>\u001b[0m in \u001b[0;36m<module>\u001b[1;34m\u001b[0m\n\u001b[0;32m      8\u001b[0m }\n\u001b[0;32m      9\u001b[0m \u001b[1;33m\u001b[0m\u001b[0m\n\u001b[1;32m---> 10\u001b[1;33m \u001b[0mprint\u001b[0m\u001b[1;33m(\u001b[0m\u001b[0mstudents\u001b[0m\u001b[1;33m[\u001b[0m\u001b[1;34m\"Jezebel\"\u001b[0m\u001b[1;33m]\u001b[0m\u001b[1;33m)\u001b[0m\u001b[1;33m\u001b[0m\u001b[1;33m\u001b[0m\u001b[0m\n\u001b[0m\u001b[0;32m     11\u001b[0m \u001b[1;33m\u001b[0m\u001b[0m\n\u001b[0;32m     12\u001b[0m \u001b[0mprint\u001b[0m\u001b[1;33m(\u001b[0m\u001b[1;34m\"This line will never print\"\u001b[0m\u001b[1;33m)\u001b[0m\u001b[1;33m\u001b[0m\u001b[1;33m\u001b[0m\u001b[0m\n",
      "\u001b[1;31mKeyError\u001b[0m: 'Jezebel'"
     ]
    }
   ],
   "source": [
    "#2.8 TRY\n",
    "\n",
    "students = {\n",
    "    # Name  : Age\n",
    "    \"James\": 27,\n",
    "    \"Sarah\": 19,\n",
    "    \"Jocelyn\": 28\n",
    "}\n",
    "\n",
    "print(students[\"Jezebel\"])\n",
    "\n",
    "print(\"This line will never print\")"
   ]
  },
  {
   "cell_type": "code",
   "execution_count": 103,
   "id": "0eef8ab1",
   "metadata": {},
   "outputs": [
    {
     "name": "stdout",
     "output_type": "stream",
     "text": [
      "27\n",
      "we have ZeroDivisionError\n",
      "we have unexpected error: sys.exc_info()\n",
      "anaway\n"
     ]
    }
   ],
   "source": [
    "import sys\n",
    "try:\n",
    "    print(students[\"James\"])\n",
    "    a = 4\n",
    "    b = 0 \n",
    "    d = a / b\n",
    "except KeyError:\n",
    "    print(\"we have KeyError\") \n",
    "except ZeroDivisionError:\n",
    "    print(\"we have ZeroDivisionError\")\n",
    "    print(f\"we have unexpected error: sys.exc_info()\")\n",
    "finally:\n",
    "    print(\"anyway\")"
   ]
  },
  {
   "cell_type": "code",
   "execution_count": 104,
   "id": "92bab6b5",
   "metadata": {},
   "outputs": [
    {
     "name": "stdout",
     "output_type": "stream",
     "text": [
      "Oops, that key doesn't exist.\n",
      "This line will be printed anyway!\n",
      "-----------------\n",
      "... But the program doesn't die early!\n"
     ]
    }
   ],
   "source": [
    "students = {\n",
    "    # Name  : Age\n",
    "    \"James\": 27,\n",
    "    \"Sarah\": 19,\n",
    "    \"Jocelyn\": 28\n",
    "}\n",
    "\n",
    "# Try to access key that doesn't exist\n",
    "try:\n",
    "    students[\"Jezebel\"]\n",
    "except KeyError:\n",
    "    print(\"Oops, that key doesn't exist.\")\n",
    "except TypeError:\n",
    "    print(\"Oops, you wrote a typo AGAIN :).\")\n",
    "except (RuntimeError, NameError):\n",
    "    print(\"oops, that key doesn't exist.\")\n",
    "except:\n",
    "    print(f\"Unexpected error: {sys.exc_into()}\")\n",
    "finally:\n",
    "    print(\"This line will be printed anyway!\")\n",
    "    print('-----------------')\n",
    "# Catching the errors lets the rest of our code execute\n",
    "    print(\"... But the program doesn't die early!\")    "
   ]
  },
  {
   "cell_type": "code",
   "execution_count": null,
   "id": "153763f2",
   "metadata": {},
   "outputs": [],
   "source": [
    "#2.9\n"
   ]
  },
  {
   "cell_type": "code",
   "execution_count": 109,
   "id": "58965ece",
   "metadata": {},
   "outputs": [
    {
     "name": "stdout",
     "output_type": "stream",
     "text": [
      "I think you didn't break math\n",
      "You forgot her name\n",
      "You don't have a barcode\n",
      "You made it through the gauntlet--the message survived!\n"
     ]
    }
   ],
   "source": [
    "try:\n",
    "    print(\"Infinity looks like + \" + str(10 / 0) + \".\")\n",
    "except ZeroDivisionError: \n",
    "    print(\"I think you break math\")\n",
    "try:\n",
    "    print(\"I think her name was + \" + name + \"?\")\n",
    "except NameError:\n",
    "    print(\"You forgot her name\")\n",
    "try:\n",
    "    print(\"Your name is a nonsense number. Look: \" + int(\"Gabriel\"))\n",
    "except ValueError:\n",
    "    print(\"You don't have a barcode\")\n",
    "\n",
    "print(\"You made it through the gauntlet--the message survived!\")"
   ]
  },
  {
   "cell_type": "code",
   "execution_count": 113,
   "id": "c0d2e2ed",
   "metadata": {},
   "outputs": [],
   "source": [
    "#2.9 \n",
    "# Dependencies\n",
    "import json\n",
    "import requests\n",
    "import pandas as pd"
   ]
  },
  {
   "cell_type": "code",
   "execution_count": 114,
   "id": "b78b7237",
   "metadata": {},
   "outputs": [
    {
     "name": "stdout",
     "output_type": "stream",
     "text": [
      "R2-D2 found! Appending results\n",
      "Darth Vader found! Appending results\n",
      "Unexpected error: <class 'IndexError'> list index out of range\n",
      "Character Godzilla not found\n",
      "Luke Skywalker found! Appending results\n",
      "Unexpected error: <class 'IndexError'> list index out of range\n",
      "Character Frodo not found\n",
      "Boba Fett found! Appending results\n",
      "Unexpected error: <class 'IndexError'> list index out of range\n",
      "Character Iron Man not found\n",
      "Unexpected error: <class 'IndexError'> list index out of range\n",
      "Character Jon Snow not found\n",
      "Han Solo found! Appending results\n"
     ]
    }
   ],
   "source": [
    "# list of character\n",
    "search_character = ['R2-D2', 'Darth Vader', 'Godzilla', 'Luke Skywalker', 'Frodo', \\\n",
    "              'Boba Fett', 'Iron Man', 'Jon Snow', 'Han Solo']\n",
    "\n",
    "# set url for API\n",
    "url = 'https://swapi.dev/api/people/?search='\n",
    "\n",
    "# set empty lists to hold character's height and mass\n",
    "height = []\n",
    "mass = []\n",
    "sw_character = []\n",
    "\n",
    "# Loop through each character and make API request\n",
    "for character in search_character:\n",
    "    \n",
    "    # create search query, make request and store in json\n",
    "    response_json = requests.get(url + character).json()\n",
    "    \n",
    "    # try to grab  the height and mass if they are in the api\n",
    "    try:\n",
    "        height.append(response_json['results'][0]['height'])\n",
    "        mass.append(response_json['results'][0]['mass'])\n",
    "        sw_character.append(character)\n",
    "        print(f\"{character} found! Appending results\")\n",
    "        \n",
    "    # Handle exceptions for a character that is not available in the Star Wars API\n",
    "    except:\n",
    "        # Append null values\n",
    "        err = sys.exc_info()\n",
    "        print(f\"Unexpected error: {str(err[0])} {str(err[1])}\")\n",
    "        print(f\"Character {character} not found\")\n",
    "        pass"
   ]
  },
  {
   "cell_type": "code",
   "execution_count": 117,
   "id": "ff84e4ff",
   "metadata": {},
   "outputs": [
    {
     "data": {
      "text/html": [
       "<div>\n",
       "<style scoped>\n",
       "    .dataframe tbody tr th:only-of-type {\n",
       "        vertical-align: middle;\n",
       "    }\n",
       "\n",
       "    .dataframe tbody tr th {\n",
       "        vertical-align: top;\n",
       "    }\n",
       "\n",
       "    .dataframe thead th {\n",
       "        text-align: right;\n",
       "    }\n",
       "</style>\n",
       "<table border=\"1\" class=\"dataframe\">\n",
       "  <thead>\n",
       "    <tr style=\"text-align: right;\">\n",
       "      <th></th>\n",
       "      <th>character</th>\n",
       "      <th>height</th>\n",
       "      <th>mass</th>\n",
       "    </tr>\n",
       "  </thead>\n",
       "  <tbody>\n",
       "    <tr>\n",
       "      <th>0</th>\n",
       "      <td>R2-D2</td>\n",
       "      <td>96</td>\n",
       "      <td>32</td>\n",
       "    </tr>\n",
       "    <tr>\n",
       "      <th>1</th>\n",
       "      <td>Darth Vader</td>\n",
       "      <td>202</td>\n",
       "      <td>136</td>\n",
       "    </tr>\n",
       "    <tr>\n",
       "      <th>2</th>\n",
       "      <td>Luke Skywalker</td>\n",
       "      <td>172</td>\n",
       "      <td>77</td>\n",
       "    </tr>\n",
       "    <tr>\n",
       "      <th>3</th>\n",
       "      <td>Boba Fett</td>\n",
       "      <td>183</td>\n",
       "      <td>78.2</td>\n",
       "    </tr>\n",
       "    <tr>\n",
       "      <th>4</th>\n",
       "      <td>Han Solo</td>\n",
       "      <td>180</td>\n",
       "      <td>80</td>\n",
       "    </tr>\n",
       "  </tbody>\n",
       "</table>\n",
       "</div>"
      ],
      "text/plain": [
       "        character height  mass\n",
       "0           R2-D2     96    32\n",
       "1     Darth Vader    202   136\n",
       "2  Luke Skywalker    172    77\n",
       "3       Boba Fett    183  78.2\n",
       "4        Han Solo    180    80"
      ]
     },
     "execution_count": 117,
     "metadata": {},
     "output_type": "execute_result"
    }
   ],
   "source": [
    "# Create DataFrame\n",
    "character_height = pd.DataFrame({\n",
    "    'character': sw_character,\n",
    "    'height': height,\n",
    "    'mass': mass\n",
    "})\n",
    "character_height"
   ]
  },
  {
   "cell_type": "code",
   "execution_count": null,
   "id": "04aa8b94",
   "metadata": {},
   "outputs": [],
   "source": [
    "# This owuld have been cool\n",
    "#  except:\n",
    "#        # Append null values\n",
    "#        err = sys.exc_info()\n",
    "#    try:\n",
    "#        print(f'Help me {name}, youre my only hope!\")\n",
    "#    except NameError:\n",
    "#        print(\"Stop where you are\")\n",
    "#    try:\n",
    "#        print(f\" {height} aren't you a little short to be a stormtrooper?)      \n",
    "#    except ValueError:\n",
    "#        print(f\"These aren't the droids we're looking for)\n",
    "#    print(\"They may go about their business + \" + name + \"?\")3\n",
    "\n",
    "#    except:"
   ]
  },
  {
   "cell_type": "code",
   "execution_count": 132,
   "id": "d303eba8",
   "metadata": {},
   "outputs": [],
   "source": [
    "#2.10\n",
    "# Dependencies\n",
    "import requests\n",
    "\n",
    "url = \"http://api.worldbank.org/v2/\"\n",
    "api_format = \"json\"\n",
    "\n",
    "# get the country info from JSON format\n",
    "countries_response = requests.get(f\"{url}countries?format={api_format}\").json()\n",
    "\n",
    "# first element is general info, and second is country's names\n",
    "countries = countries_response[1]"
   ]
  },
  {
   "cell_type": "code",
   "execution_count": 134,
   "id": "e5c6659f",
   "metadata": {},
   "outputs": [
    {
     "name": "stdout",
     "output_type": "stream",
     "text": [
      "Aruba\n",
      "http://api.worldbank.org/v2/country/AW?format=json\n",
      "Africa Eastern and Southern\n",
      "http://api.worldbank.org/v2/country/ZH?format=json\n",
      "Afghanistan\n",
      "http://api.worldbank.org/v2/country/AF?format=json\n",
      "Africa\n",
      "http://api.worldbank.org/v2/country/A9?format=json\n",
      "Africa Western and Central\n",
      "http://api.worldbank.org/v2/country/ZI?format=json\n",
      "Angola\n",
      "http://api.worldbank.org/v2/country/AO?format=json\n",
      "Albania\n",
      "http://api.worldbank.org/v2/country/AL?format=json\n",
      "Andorra\n",
      "http://api.worldbank.org/v2/country/AD?format=json\n",
      "Arab World\n",
      "http://api.worldbank.org/v2/country/1A?format=json\n",
      "United Arab Emirates\n",
      "http://api.worldbank.org/v2/country/AE?format=json\n",
      "Argentina\n",
      "http://api.worldbank.org/v2/country/AR?format=json\n",
      "Armenia\n",
      "http://api.worldbank.org/v2/country/AM?format=json\n",
      "American Samoa\n",
      "http://api.worldbank.org/v2/country/AS?format=json\n",
      "Antigua and Barbuda\n",
      "http://api.worldbank.org/v2/country/AG?format=json\n",
      "Australia\n",
      "http://api.worldbank.org/v2/country/AU?format=json\n",
      "Austria\n",
      "http://api.worldbank.org/v2/country/AT?format=json\n",
      "Azerbaijan\n",
      "http://api.worldbank.org/v2/country/AZ?format=json\n",
      "Burundi\n",
      "http://api.worldbank.org/v2/country/BI?format=json\n",
      "East Asia & Pacific (IBRD-only countries)\n",
      "http://api.worldbank.org/v2/country/B4?format=json\n",
      "Europe & Central Asia (IBRD-only countries)\n",
      "http://api.worldbank.org/v2/country/B7?format=json\n",
      "Belgium\n",
      "http://api.worldbank.org/v2/country/BE?format=json\n",
      "Benin\n",
      "http://api.worldbank.org/v2/country/BJ?format=json\n",
      "Burkina Faso\n",
      "http://api.worldbank.org/v2/country/BF?format=json\n",
      "Bangladesh\n",
      "http://api.worldbank.org/v2/country/BD?format=json\n",
      "Bulgaria\n",
      "http://api.worldbank.org/v2/country/BG?format=json\n",
      "IBRD countries classified as high income\n",
      "http://api.worldbank.org/v2/country/B1?format=json\n",
      "Bahrain\n",
      "http://api.worldbank.org/v2/country/BH?format=json\n",
      "Bahamas, The\n",
      "http://api.worldbank.org/v2/country/BS?format=json\n",
      "Bosnia and Herzegovina\n",
      "http://api.worldbank.org/v2/country/BA?format=json\n",
      "Latin America & the Caribbean (IBRD-only countries)\n",
      "http://api.worldbank.org/v2/country/B2?format=json\n",
      "Belarus\n",
      "http://api.worldbank.org/v2/country/BY?format=json\n",
      "Belize\n",
      "http://api.worldbank.org/v2/country/BZ?format=json\n",
      "Middle East & North Africa (IBRD-only countries)\n",
      "http://api.worldbank.org/v2/country/B3?format=json\n",
      "Bermuda\n",
      "http://api.worldbank.org/v2/country/BM?format=json\n",
      "Bolivia\n",
      "http://api.worldbank.org/v2/country/BO?format=json\n",
      "Brazil\n",
      "http://api.worldbank.org/v2/country/BR?format=json\n",
      "Barbados\n",
      "http://api.worldbank.org/v2/country/BB?format=json\n",
      "Brunei Darussalam\n",
      "http://api.worldbank.org/v2/country/BN?format=json\n",
      "Sub-Saharan Africa (IBRD-only countries)\n",
      "http://api.worldbank.org/v2/country/B6?format=json\n",
      "Bhutan\n",
      "http://api.worldbank.org/v2/country/BT?format=json\n",
      "Botswana\n",
      "http://api.worldbank.org/v2/country/BW?format=json\n",
      "Sub-Saharan Africa (IFC classification)\n",
      "http://api.worldbank.org/v2/country/C9?format=json\n",
      "Central African Republic\n",
      "http://api.worldbank.org/v2/country/CF?format=json\n",
      "Canada\n",
      "http://api.worldbank.org/v2/country/CA?format=json\n",
      "East Asia and the Pacific (IFC classification)\n",
      "http://api.worldbank.org/v2/country/C4?format=json\n",
      "Central Europe and the Baltics\n",
      "http://api.worldbank.org/v2/country/B8?format=json\n",
      "Europe and Central Asia (IFC classification)\n",
      "http://api.worldbank.org/v2/country/C5?format=json\n",
      "Switzerland\n",
      "http://api.worldbank.org/v2/country/CH?format=json\n",
      "Channel Islands\n",
      "http://api.worldbank.org/v2/country/JG?format=json\n",
      "Chile\n",
      "http://api.worldbank.org/v2/country/CL?format=json\n"
     ]
    }
   ],
   "source": [
    "#Report the names\n",
    "all = []\n",
    "for country in countries:\n",
    "    url = f\"http://api.worldbank.org/v2/country/{country['iso2Code']}?format=json\"\n",
    "    print(country[\"name\"])\n",
    "    req = requests.get(url).json()[1][0]\n",
    "#    print(req)\n",
    "    dict_a = {\n",
    "        \"id\": country['id'],\n",
    "        \"iso2Code\": country['iso2Code'],\n",
    "        \"name\": country['name'],\n",
    "        \"incomeLevel\": req['incomeLevel']['value']     \n",
    "        }\n",
    "    all.append(dict_a)\n",
    "    print(url)\n",
    "                           "
   ]
  },
  {
   "cell_type": "code",
   "execution_count": null,
   "id": "982318e6",
   "metadata": {},
   "outputs": [],
   "source": [
    "# First element is general information, second is countries themselves"
   ]
  },
  {
   "cell_type": "code",
   "execution_count": 136,
   "id": "4255071e",
   "metadata": {},
   "outputs": [
    {
     "data": {
      "text/html": [
       "<div>\n",
       "<style scoped>\n",
       "    .dataframe tbody tr th:only-of-type {\n",
       "        vertical-align: middle;\n",
       "    }\n",
       "\n",
       "    .dataframe tbody tr th {\n",
       "        vertical-align: top;\n",
       "    }\n",
       "\n",
       "    .dataframe thead th {\n",
       "        text-align: right;\n",
       "    }\n",
       "</style>\n",
       "<table border=\"1\" class=\"dataframe\">\n",
       "  <thead>\n",
       "    <tr style=\"text-align: right;\">\n",
       "      <th></th>\n",
       "      <th>id</th>\n",
       "      <th>iso2Code</th>\n",
       "      <th>name</th>\n",
       "      <th>incomeLevel</th>\n",
       "    </tr>\n",
       "  </thead>\n",
       "  <tbody>\n",
       "    <tr>\n",
       "      <th>0</th>\n",
       "      <td>ABW</td>\n",
       "      <td>AW</td>\n",
       "      <td>Aruba</td>\n",
       "      <td>High income</td>\n",
       "    </tr>\n",
       "    <tr>\n",
       "      <th>1</th>\n",
       "      <td>AFE</td>\n",
       "      <td>ZH</td>\n",
       "      <td>Africa Eastern and Southern</td>\n",
       "      <td>Aggregates</td>\n",
       "    </tr>\n",
       "    <tr>\n",
       "      <th>2</th>\n",
       "      <td>AFG</td>\n",
       "      <td>AF</td>\n",
       "      <td>Afghanistan</td>\n",
       "      <td>Low income</td>\n",
       "    </tr>\n",
       "    <tr>\n",
       "      <th>3</th>\n",
       "      <td>AFR</td>\n",
       "      <td>A9</td>\n",
       "      <td>Africa</td>\n",
       "      <td>Aggregates</td>\n",
       "    </tr>\n",
       "    <tr>\n",
       "      <th>4</th>\n",
       "      <td>AFW</td>\n",
       "      <td>ZI</td>\n",
       "      <td>Africa Western and Central</td>\n",
       "      <td>Aggregates</td>\n",
       "    </tr>\n",
       "  </tbody>\n",
       "</table>\n",
       "</div>"
      ],
      "text/plain": [
       "    id iso2Code                         name  incomeLevel\n",
       "0  ABW       AW                        Aruba  High income\n",
       "1  AFE       ZH  Africa Eastern and Southern   Aggregates\n",
       "2  AFG       AF                  Afghanistan   Low income\n",
       "3  AFR       A9                       Africa   Aggregates\n",
       "4  AFW       ZI   Africa Western and Central   Aggregates"
      ]
     },
     "execution_count": 136,
     "metadata": {},
     "output_type": "execute_result"
    }
   ],
   "source": [
    "# Report the names\n",
    "df = pd.DataFrame(all)\n",
    "df.head()"
   ]
  },
  {
   "cell_type": "code",
   "execution_count": 137,
   "id": "beae1ff9",
   "metadata": {},
   "outputs": [
    {
     "data": {
      "text/plain": [
       "High income            16\n",
       "Aggregates             14\n",
       "Upper middle income    10\n",
       "Lower middle income     6\n",
       "Low income              4\n",
       "Name: incomeLevel, dtype: int64"
      ]
     },
     "execution_count": 137,
     "metadata": {},
     "output_type": "execute_result"
    }
   ],
   "source": [
    "df[\"incomeLevel\"].value_counts()"
   ]
  },
  {
   "cell_type": "code",
   "execution_count": null,
   "id": "76c0b1a6",
   "metadata": {},
   "outputs": [],
   "source": [
    "#2.12"
   ]
  },
  {
   "cell_type": "code",
   "execution_count": 138,
   "id": "c9b4b149",
   "metadata": {},
   "outputs": [],
   "source": [
    "# Dependencies\n",
    "import requests\n",
    "url = \"http://api.worldbank.org/v2/\""
   ]
  },
  {
   "cell_type": "code",
   "execution_count": 139,
   "id": "c6bd0a59",
   "metadata": {},
   "outputs": [],
   "source": [
    "# Get the list of lending types the world bank has\n",
    "lending_response = requests.get(f\"{url}lendingTypes?format=json\").json()[1]"
   ]
  },
  {
   "cell_type": "code",
   "execution_count": 140,
   "id": "b9f1c821",
   "metadata": {},
   "outputs": [
    {
     "name": "stdout",
     "output_type": "stream",
     "text": [
      "[\n",
      "    {\n",
      "        \"id\": \"IBD\",\n",
      "        \"iso2code\": \"XF\",\n",
      "        \"value\": \"IBRD\"\n",
      "    },\n",
      "    {\n",
      "        \"id\": \"IDB\",\n",
      "        \"iso2code\": \"XH\",\n",
      "        \"value\": \"Blend\"\n",
      "    },\n",
      "    {\n",
      "        \"id\": \"IDX\",\n",
      "        \"iso2code\": \"XI\",\n",
      "        \"value\": \"IDA\"\n",
      "    },\n",
      "    {\n",
      "        \"id\": \"LNX\",\n",
      "        \"iso2code\": \"XX\",\n",
      "        \"value\": \"Not classified\"\n",
      "    }\n",
      "]\n"
     ]
    }
   ],
   "source": [
    "print(json.dumps(lending_response, indent=4))"
   ]
  },
  {
   "cell_type": "code",
   "execution_count": 141,
   "id": "0364cafc",
   "metadata": {},
   "outputs": [
    {
     "data": {
      "text/plain": [
       "['IBD', 'IDB', 'IDX', 'LNX']"
      ]
     },
     "execution_count": 141,
     "metadata": {},
     "output_type": "execute_result"
    }
   ],
   "source": [
    "lending_types = [x[\"id\"] for x in lending_response]\n",
    "lending_types"
   ]
  },
  {
   "cell_type": "code",
   "execution_count": 142,
   "id": "a5f58206",
   "metadata": {},
   "outputs": [],
   "source": [
    "lending_types = {}\n",
    "for lend in lending_types:\n",
    "    lendingtype[lend] = []\n",
    "    url2 = f\"http://api.worldbank.org/v2/country?lendingtype={lend}&format=json\"\n",
    "    response = requests.get(url2).json()[1]\n",
    "    for country in response:\n",
    "        lendingtype[lend].append(country[\"name\"])\n",
    "    "
   ]
  },
  {
   "cell_type": "code",
   "execution_count": 147,
   "id": "d7c1ac67",
   "metadata": {},
   "outputs": [],
   "source": [
    "# print(response[0][\"name\"])\n",
    "for lend in lending_types:\n",
    "    print(lend, len(lendingtype[lend]))"
   ]
  },
  {
   "cell_type": "code",
   "execution_count": 148,
   "id": "bfc25ed8",
   "metadata": {},
   "outputs": [
    {
     "data": {
      "text/plain": [
       "['IBD', 'IDB', 'IDX', 'LNX']"
      ]
     },
     "execution_count": 148,
     "metadata": {},
     "output_type": "execute_result"
    }
   ],
   "source": [
    "lending_types = [lending_type[\"id\"] for lending_type in lending_response]\n",
    "lending_types"
   ]
  },
  {
   "cell_type": "code",
   "execution_count": 149,
   "id": "0d1bfb55",
   "metadata": {},
   "outputs": [
    {
     "data": {
      "text/plain": [
       "{'IBD': 140, 'IDB': 30, 'IDX': 118, 'LNX': 74}"
      ]
     },
     "execution_count": 149,
     "metadata": {},
     "output_type": "execute_result"
    }
   ],
   "source": [
    "# Next determine how many countries fall into each lending type\n",
    "# Hint: Look at the first element of the response array.\n",
    "country_count_by_type = {}\n",
    "for lending_type in lending_types:\n",
    "    query = f\"{url}countries?lendingType={lending_type}&format=json\"\n",
    "    response = requests.get(query).json()\n",
    "    country_count_by_type[lending_type] = response[0][\"total\"]\n",
    "country_count_by_type"
   ]
  },
  {
   "cell_type": "code",
   "execution_count": 150,
   "id": "ea146aac",
   "metadata": {},
   "outputs": [
    {
     "name": "stdout",
     "output_type": "stream",
     "text": [
      "IBD 140\n",
      "IDB 30\n",
      "IDX 118\n",
      "LNX 74\n"
     ]
    }
   ],
   "source": [
    "for k, v in country_count_by_type.items():\n",
    "    print(k, v)"
   ]
  },
  {
   "cell_type": "code",
   "execution_count": 151,
   "id": "3035478d",
   "metadata": {},
   "outputs": [
    {
     "name": "stdout",
     "output_type": "stream",
     "text": [
      "The number of countries with lending type IBD is 140.\n",
      "The number of countries with lending type IDB is 30.\n",
      "The number of countries with lending type IDX is 118.\n",
      "The number of countries with lending type LNX is 74.\n"
     ]
    }
   ],
   "source": [
    "# Print the number of countries of each lending type\n",
    "for key, value in country_count_by_type.items():\n",
    "    print(f\"The number of countries with lending type {key} is {value}.\")"
   ]
  },
  {
   "cell_type": "code",
   "execution_count": null,
   "id": "3574125a",
   "metadata": {},
   "outputs": [],
   "source": []
  },
  {
   "cell_type": "code",
   "execution_count": null,
   "id": "6df42faa",
   "metadata": {},
   "outputs": [],
   "source": []
  },
  {
   "cell_type": "code",
   "execution_count": null,
   "id": "fb5485c5",
   "metadata": {},
   "outputs": [],
   "source": []
  },
  {
   "cell_type": "code",
   "execution_count": 105,
   "id": "c6248bc1",
   "metadata": {},
   "outputs": [
    {
     "name": "stdout",
     "output_type": "stream",
     "text": [
      "Woops. Can't do that.\n",
      "Oh, I forgot to define 'name'. D'oh.\n",
      "Drat. 'Gabriel' isn't a number?\n",
      "I made it through the gauntlet. The message survived!\n"
     ]
    }
   ],
   "source": [
    "# Your assignment is to get the last line to print without changing any\n",
    "# of the code below. Instead, wrap each line that throws an error in a\n",
    "# try/exept block.\n",
    "\n",
    "try:\n",
    "    print(\"Infinity looks like + \" + str(10 / 0) + \".\")\n",
    "except ZeroDivisionError:\n",
    "    print(\"Woops. Can't do that.\")\n",
    "\n",
    "try:\n",
    "    print(\"I think her name was + \" + name + \"?\")\n",
    "except NameError:\n",
    "    print(\"Oh, I forgot to define 'name'. D'oh.\")\n",
    "\n",
    "try:\n",
    "    print(\"Your name is a nonsense number. Look: \" + int(\"Gabriel\"))\n",
    "except ValueError:\n",
    "    print(\"Drat. 'Gabriel' isn't a number?\")\n",
    "\n",
    "print(\"I made it through the gauntlet. The message survived!\")"
   ]
  }
 ],
 "metadata": {
  "kernelspec": {
   "display_name": "Python 3",
   "language": "python",
   "name": "python3"
  },
  "language_info": {
   "codemirror_mode": {
    "name": "ipython",
    "version": 3
   },
   "file_extension": ".py",
   "mimetype": "text/x-python",
   "name": "python",
   "nbconvert_exporter": "python",
   "pygments_lexer": "ipython3",
   "version": "3.6.13"
  }
 },
 "nbformat": 4,
 "nbformat_minor": 5
}
