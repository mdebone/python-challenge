{
 "cells": [
  {
   "cell_type": "code",
   "execution_count": 1,
   "metadata": {},
   "outputs": [],
   "source": [
    "# Module used to connect Python with MongoDb\n",
    "import pymongo"
   ]
  },
  {
   "cell_type": "code",
   "execution_count": 2,
   "metadata": {},
   "outputs": [],
   "source": [
    "# The default port used by MongoDB is 27017\n",
    "# https://docs.mongodb.com/manual/reference/default-mongodb-port/\n",
    "client = pymongo.MongoClient('mongodb://localhost:27017')\n",
    "\n",
    "# Define the 'classDB' database in Mongo\n",
    "db = client.classDB"
   ]
  },
  {
   "cell_type": "code",
   "execution_count": null,
   "metadata": {},
   "outputs": [],
   "source": [
    "# if you want to create another table\n",
    "# db = client.DataClass\n",
    "# d.students"
   ]
  },
  {
   "cell_type": "code",
   "execution_count": 4,
   "metadata": {},
   "outputs": [
    {
     "name": "stdout",
     "output_type": "stream",
     "text": [
      "{'_id': ObjectId('61609d39d47af4e8e94050a0'), 'name': 'Matt', 'favoriteLibrary': 'python', 'age': '35', 'hobbies': ['painting', '3d_printing', 'reading']}\n",
      "{'_id': ObjectId('61609dc1d47af4e8e94050a1'), 'name': 'Kristin', 'favoriteLibrary': 'Numpy', 'age': '33', 'hobbies': ['walking', 'video_games', 'comic_books']}\n",
      "{'_id': ObjectId('61609e1dd47af4e8e94050a2'), 'name': 'Stephanie', 'favoriteLibrary': 'SQL', 'age': '31', 'hobbies': ['cooking', 'fashion_design', 'sewing']}\n"
     ]
    }
   ],
   "source": [
    "# Query all students\n",
    "# Here, db.students refers to the collection 'classroom '\n",
    "classroom = db.students.find()\n",
    "\n",
    "# Iterate through each student in the collection\n",
    "for student in classroom:\n",
    "    print(student)"
   ]
  },
  {
   "cell_type": "code",
   "execution_count": 5,
   "metadata": {},
   "outputs": [
    {
     "name": "stdout",
     "output_type": "stream",
     "text": [
      "{'_id': ObjectId('61609d39d47af4e8e94050a0'), 'name': 'Matt', 'favoriteLibrary': 'python', 'age': '35', 'hobbies': ['painting', '3d_printing', 'reading']}\n",
      "{'_id': ObjectId('61609dc1d47af4e8e94050a1'), 'name': 'Kristin', 'favoriteLibrary': 'Numpy', 'age': '33', 'hobbies': ['walking', 'video_games', 'comic_books']}\n",
      "{'_id': ObjectId('61609e1dd47af4e8e94050a2'), 'name': 'Stephanie', 'favoriteLibrary': 'SQL', 'age': '31', 'hobbies': ['cooking', 'fashion_design', 'sewing']}\n",
      "{'_id': ObjectId('6160bb7b0be3dc2034e63d81'), 'name': 'Ahmed', 'row': 3, 'favorite_python_library': 'Matplotlib', 'hobbies': ['Running', 'Stargazing', 'Reading']}\n"
     ]
    }
   ],
   "source": [
    "# Insert a document into the 'students' collection\n",
    "db.students.insert_one(\n",
    "    {\n",
    "        \"name\": \"Ahmed\",\n",
    "        \"row\": 3,\n",
    "        \"favorite_python_library\": \"Matplotlib\",\n",
    "        \"hobbies\": [\"Running\", \"Stargazing\", \"Reading\"]\n",
    "    }\n",
    ")\n",
    "\n",
    "# query the classroom collection\n",
    "classroom = db.students.find()\n",
    "\n",
    "# see change in collection\n",
    "for student in classroom:\n",
    "    print(student)"
   ]
  },
  {
   "cell_type": "code",
   "execution_count": 6,
   "metadata": {},
   "outputs": [
    {
     "name": "stdout",
     "output_type": "stream",
     "text": [
      "{'_id': ObjectId('61609d39d47af4e8e94050a0'), 'name': 'Matt', 'favoriteLibrary': 'python', 'age': '35', 'hobbies': ['painting', '3d_printing', 'reading']}\n",
      "{'_id': ObjectId('61609dc1d47af4e8e94050a1'), 'name': 'Kristin', 'favoriteLibrary': 'Numpy', 'age': '33', 'hobbies': ['walking', 'video_games', 'comic_books']}\n",
      "{'_id': ObjectId('61609e1dd47af4e8e94050a2'), 'name': 'Stephanie', 'favoriteLibrary': 'SQL', 'age': '31', 'hobbies': ['cooking', 'fashion_design', 'sewing']}\n",
      "{'_id': ObjectId('6160bb7b0be3dc2034e63d81'), 'name': 'Ahmed', 'row': 4, 'favorite_python_library': 'Matplotlib', 'hobbies': ['Running', 'Stargazing', 'Reading']}\n"
     ]
    }
   ],
   "source": [
    "# Update a document\n",
    "# UPDATE students SET row= 4 WHERE name = \"Ahmed\" LIMIT 1\n",
    "db.students.update_one(\n",
    "    {\"name\": \"Ahmed\"},\n",
    "    {\"$set\":\n",
    "        {\"row\": 4}\n",
    "     }\n",
    ")\n",
    "\n",
    "# query the classroom collection\n",
    "classroom = db.students.find()\n",
    "\n",
    "# see change in collection\n",
    "for student in classroom:\n",
    "    print(student)"
   ]
  },
  {
   "cell_type": "code",
   "execution_count": 7,
   "metadata": {},
   "outputs": [
    {
     "name": "stdout",
     "output_type": "stream",
     "text": [
      "{'_id': ObjectId('61609d39d47af4e8e94050a0'), 'name': 'Matt', 'favoriteLibrary': 'python', 'age': '35', 'hobbies': ['painting', '3d_printing', 'reading']}\n",
      "{'_id': ObjectId('61609dc1d47af4e8e94050a1'), 'name': 'Kristin', 'favoriteLibrary': 'Numpy', 'age': '33', 'hobbies': ['walking', 'video_games', 'comic_books']}\n",
      "{'_id': ObjectId('61609e1dd47af4e8e94050a2'), 'name': 'Stephanie', 'favoriteLibrary': 'SQL', 'age': '31', 'hobbies': ['cooking', 'fashion_design', 'sewing']}\n",
      "{'_id': ObjectId('6160bb7b0be3dc2034e63d81'), 'name': 'Ahmed', 'row': 4, 'favorite_python_library': 'Matplotlib', 'hobbies': ['Running', 'Stargazing', 'Reading', 'Listening to country music']}\n"
     ]
    }
   ],
   "source": [
    "# Add an item to a document array\n",
    "# UPDATE students SET hobbies=SERIALIZE(['Running', 'Stargazing', 'Reading']) WHERE name= 'Ahmed' Limit 1\n",
    "db.students.update_one(\n",
    "    {\"name\": \"Ahmed\"},\n",
    "    {\"$push\":\n",
    "        {\"hobbies\": \"Listening to country music\"}\n",
    "     }\n",
    ")\n",
    "\n",
    "# query the classroom collection\n",
    "classroom = db.students.find()\n",
    "\n",
    "# see change in collection\n",
    "for student in classroom:\n",
    "    print(student)"
   ]
  },
  {
   "cell_type": "code",
   "execution_count": 8,
   "metadata": {},
   "outputs": [
    {
     "name": "stdout",
     "output_type": "stream",
     "text": [
      "{'_id': ObjectId('61609d39d47af4e8e94050a0'), 'name': 'Matt', 'favoriteLibrary': 'python', 'age': '35', 'hobbies': ['painting', '3d_printing', 'reading']}\n",
      "{'_id': ObjectId('61609dc1d47af4e8e94050a1'), 'name': 'Kristin', 'favoriteLibrary': 'Numpy', 'age': '33', 'hobbies': ['walking', 'video_games', 'comic_books']}\n",
      "{'_id': ObjectId('61609e1dd47af4e8e94050a2'), 'name': 'Stephanie', 'favoriteLibrary': 'SQL', 'age': '31', 'hobbies': ['cooking', 'fashion_design', 'sewing']}\n",
      "{'_id': ObjectId('6160bb7b0be3dc2034e63d81'), 'name': 'Ahmed', 'favorite_python_library': 'Matplotlib', 'hobbies': ['Running', 'Stargazing', 'Reading', 'Listening to country music']}\n"
     ]
    }
   ],
   "source": [
    "# Delete a field from a document\n",
    "db.students.update_one({\"name\": \"Ahmed\"},\n",
    "                        {\"$unset\":\n",
    "                         {\"row\": \"\"}\n",
    "                         }\n",
    "                        )\n",
    "\n",
    "# query the classroom collection\n",
    "classroom = db.students.find()\n",
    "\n",
    "# see change in collection\n",
    "for student in classroom:\n",
    "    print(student)"
   ]
  },
  {
   "cell_type": "code",
   "execution_count": 9,
   "metadata": {},
   "outputs": [
    {
     "name": "stdout",
     "output_type": "stream",
     "text": [
      "{'_id': ObjectId('61609d39d47af4e8e94050a0'), 'name': 'Matt', 'favoriteLibrary': 'python', 'age': '35', 'hobbies': ['painting', '3d_printing', 'reading']}\n",
      "{'_id': ObjectId('61609dc1d47af4e8e94050a1'), 'name': 'Kristin', 'favoriteLibrary': 'Numpy', 'age': '33', 'hobbies': ['walking', 'video_games', 'comic_books']}\n",
      "{'_id': ObjectId('61609e1dd47af4e8e94050a2'), 'name': 'Stephanie', 'favoriteLibrary': 'SQL', 'age': '31', 'hobbies': ['cooking', 'fashion_design', 'sewing']}\n"
     ]
    }
   ],
   "source": [
    "# Delete a document from a collection\n",
    "db.students.delete_one(\n",
    "    {\"name\": \"Ahmed\"}\n",
    ")\n",
    "\n",
    "# query the classroom collection\n",
    "classroom = db.students.find()\n",
    "\n",
    "# see change in collection\n",
    "for student in classroom:\n",
    "    print(student)"
   ]
  },
  {
   "cell_type": "code",
   "execution_count": null,
   "metadata": {},
   "outputs": [],
   "source": []
  }
 ],
 "metadata": {
  "kernelspec": {
   "display_name": "Python 3 (ipykernel)",
   "language": "python",
   "name": "python3"
  },
  "language_info": {
   "codemirror_mode": {
    "name": "ipython",
    "version": 3
   },
   "file_extension": ".py",
   "mimetype": "text/x-python",
   "name": "python",
   "nbconvert_exporter": "python",
   "pygments_lexer": "ipython3",
   "version": "3.8.8"
  }
 },
 "nbformat": 4,
 "nbformat_minor": 4
}
