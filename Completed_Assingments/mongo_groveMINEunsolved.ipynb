{
 "cells": [
  {
   "cell_type": "code",
   "execution_count": 1,
   "metadata": {},
   "outputs": [],
   "source": [
    "import pymongo\n",
    "import datetime"
   ]
  },
  {
   "cell_type": "code",
   "execution_count": 2,
   "metadata": {},
   "outputs": [],
   "source": [
    "# The default port used by MongoDB is 27017\n",
    "client = pymongo.MongoClient('mongodb://localhost:27017')\n",
    "\n",
    "# Define the 'classDB' database in Mongo\n",
    "db = client.fruits_db\n",
    "\n",
    "# Declare the database <- this is prettier\n",
    "#db = client.fruits_db\n",
    "\n",
    "# Declare the collection\n",
    "collection = db.fruits"
   ]
  },
  {
   "cell_type": "code",
   "execution_count": 3,
   "metadata": {},
   "outputs": [],
   "source": [
    "# Here, db.fruits refers to the collection 'fruits '\n",
    "#fruits = db.fruits.find()\n",
    "\n",
    "# Iterate through each fruit in the collection\n",
    "#for fruit in fruits:\n",
    "#    print(fruit)"
   ]
  },
  {
   "cell_type": "code",
   "execution_count": 4,
   "metadata": {},
   "outputs": [
    {
     "name": "stdout",
     "output_type": "stream",
     "text": [
      "{'_id': ObjectId('6160cf18e52b78164a8a2366'), 'vendor name': 'Ahmed', 'type of fruit': 'apples', 'quantity received': 450, 'ripeness rating': 1, 'date': datetime.datetime(2021, 10, 8, 23, 7, 4, 145000)}\n"
     ]
    }
   ],
   "source": [
    "# A dictionary that represents the document to be inserted\n",
    "# Insert a document into the 'fruits' collection\n",
    "db.fruits.insert_one(\n",
    "    {\n",
    "        \"vendor name\": \"Ahmed\",\n",
    "        \"type of fruit\": \"apples\",\n",
    "        \"quantity received\": 450,\n",
    "        \"ripeness rating\": 1,\n",
    "        \"date\": datetime.datetime.utcnow()\n",
    "\n",
    "    }\n",
    ")\n",
    "\n",
    "# query the fruits collection\n",
    "fruits = db.fruits.find()\n",
    "\n",
    "# Insert the document into the database -------------- better\n",
    "# The database and collection, if they don't already exist, will be created at this point.-----------\n",
    "#fruits.insert_one(post) -------------\n",
    "\n",
    "# see change in collection\n",
    "for fruit in fruits:\n",
    "    print(fruit)"
   ]
  },
  {
   "cell_type": "code",
   "execution_count": 5,
   "metadata": {},
   "outputs": [
    {
     "name": "stdout",
     "output_type": "stream",
     "text": [
      "{'_id': ObjectId('6160cf18e52b78164a8a2366'), 'vendor name': 'Ahmed', 'type of fruit': 'apples', 'quantity received': 450, 'ripeness rating': 1, 'date': datetime.datetime(2021, 10, 8, 23, 7, 4, 145000)}\n",
      "{'_id': ObjectId('6160cf19e52b78164a8a2367'), 'vendor name': 'Matt', 'type of fruit': 'bananas', 'quantity received': 50, 'ripeness rating': 2, 'date': datetime.datetime(2021, 10, 8, 23, 7, 5, 532000)}\n"
     ]
    }
   ],
   "source": [
    "# Insert a document into the 'fruits' collection\n",
    "db.fruits.insert_one(\n",
    "    {\n",
    "        \"vendor name\": \"Matt\",\n",
    "        \"type of fruit\": \"bananas\",\n",
    "        \"quantity received\": 50,\n",
    "        \"ripeness rating\": 2,\n",
    "        \"date\": datetime.datetime.utcnow()\n",
    "    }\n",
    ")\n",
    "\n",
    "# query the fruits collection\n",
    "fruits = db.fruits.find()\n",
    "\n",
    "# see change in collection\n",
    "for fruit in fruits:\n",
    "    print(fruit)"
   ]
  },
  {
   "cell_type": "code",
   "execution_count": 6,
   "metadata": {},
   "outputs": [
    {
     "name": "stdin",
     "output_type": "stream",
     "text": [
      "Vendor name:  Frank\n",
      "Type of fruit:  fizzleberries\n",
      "Number of boxes received:  50\n",
      "Ripeness of fruit (1 is unripe; 2 is ripe, 3 is over-ripe:  1\n"
     ]
    }
   ],
   "source": [
    "# Ask the user for input. Store information into variables.\n",
    "vendor = input(\"Vendor name: \")\n",
    "fruit_type = input(\"Type of fruit: \")\n",
    "quantity = input(\"Number of boxes received: \")\n",
    "ripeness = input(\"Ripeness of fruit (1 is unripe; 2 is ripe, 3 is over-ripe: \")"
   ]
  },
  {
   "cell_type": "code",
   "execution_count": 7,
   "metadata": {},
   "outputs": [],
   "source": [
    "# A dictionary that will become a MongoDB document\n",
    "post = {\n",
    "    \"vendor\": vendor,\n",
    "    \"fruit\": fruit_type,\n",
    "    \"quantity\": quantity,\n",
    "    \"ripeness\": ripeness,\n",
    "    \"date\": datetime.datetime.utcnow()\n",
    "}"
   ]
  },
  {
   "cell_type": "code",
   "execution_count": 8,
   "metadata": {},
   "outputs": [
    {
     "data": {
      "text/plain": [
       "{'vendor': 'Frank',\n",
       " 'fruit': 'fizzleberries',\n",
       " 'quantity': '50',\n",
       " 'ripeness': '1',\n",
       " 'date': datetime.datetime(2021, 10, 8, 23, 7, 44, 124206)}"
      ]
     },
     "execution_count": 8,
     "metadata": {},
     "output_type": "execute_result"
    }
   ],
   "source": [
    "post"
   ]
  },
  {
   "cell_type": "code",
   "execution_count": 9,
   "metadata": {},
   "outputs": [
    {
     "ename": "AttributeError",
     "evalue": "'Cursor' object has no attribute 'insert_one'",
     "output_type": "error",
     "traceback": [
      "\u001b[1;31m---------------------------------------------------------------------------\u001b[0m",
      "\u001b[1;31mAttributeError\u001b[0m                            Traceback (most recent call last)",
      "\u001b[1;32m~\\AppData\\Local\\Temp/ipykernel_25268/1519942415.py\u001b[0m in \u001b[0;36m<module>\u001b[1;34m\u001b[0m\n\u001b[0;32m      1\u001b[0m \u001b[1;31m# Insert document into collection\u001b[0m\u001b[1;33m\u001b[0m\u001b[1;33m\u001b[0m\u001b[1;33m\u001b[0m\u001b[0m\n\u001b[1;32m----> 2\u001b[1;33m \u001b[0mfruits\u001b[0m\u001b[1;33m.\u001b[0m\u001b[0minsert_one\u001b[0m\u001b[1;33m(\u001b[0m\u001b[0mpost\u001b[0m\u001b[1;33m)\u001b[0m\u001b[1;33m\u001b[0m\u001b[1;33m\u001b[0m\u001b[0m\n\u001b[0m",
      "\u001b[1;31mAttributeError\u001b[0m: 'Cursor' object has no attribute 'insert_one'"
     ]
    }
   ],
   "source": [
    "# Insert document into collection\n",
    "fruits.insert_one(post)"
   ]
  },
  {
   "cell_type": "code",
   "execution_count": 12,
   "metadata": {},
   "outputs": [
    {
     "ename": "AttributeError",
     "evalue": "'Cursor' object has no attribute 'find'",
     "output_type": "error",
     "traceback": [
      "\u001b[1;31m---------------------------------------------------------------------------\u001b[0m",
      "\u001b[1;31mAttributeError\u001b[0m                            Traceback (most recent call last)",
      "\u001b[1;32m~\\AppData\\Local\\Temp/ipykernel_2976/3890859652.py\u001b[0m in \u001b[0;36m<module>\u001b[1;34m\u001b[0m\n\u001b[0;32m      1\u001b[0m \u001b[1;31m# Verify results:\u001b[0m\u001b[1;33m\u001b[0m\u001b[1;33m\u001b[0m\u001b[1;33m\u001b[0m\u001b[0m\n\u001b[1;32m----> 2\u001b[1;33m \u001b[0mresults\u001b[0m \u001b[1;33m=\u001b[0m \u001b[0mfruits\u001b[0m\u001b[1;33m.\u001b[0m\u001b[0mfind\u001b[0m\u001b[1;33m(\u001b[0m\u001b[1;33m)\u001b[0m\u001b[1;33m\u001b[0m\u001b[1;33m\u001b[0m\u001b[0m\n\u001b[0m\u001b[0;32m      3\u001b[0m \u001b[1;32mfor\u001b[0m \u001b[0mresult\u001b[0m \u001b[1;32min\u001b[0m \u001b[0mresults\u001b[0m\u001b[1;33m:\u001b[0m\u001b[1;33m\u001b[0m\u001b[1;33m\u001b[0m\u001b[0m\n\u001b[0;32m      4\u001b[0m     \u001b[0mprint\u001b[0m\u001b[1;33m(\u001b[0m\u001b[0mresult\u001b[0m\u001b[1;33m)\u001b[0m\u001b[1;33m\u001b[0m\u001b[1;33m\u001b[0m\u001b[0m\n",
      "\u001b[1;31mAttributeError\u001b[0m: 'Cursor' object has no attribute 'find'"
     ]
    }
   ],
   "source": [
    "# Verify results:\n",
    "results = fruits.find()\n",
    "for result in results:\n",
    "    print(result)"
   ]
  },
  {
   "cell_type": "code",
   "execution_count": null,
   "metadata": {},
   "outputs": [],
   "source": []
  }
 ],
 "metadata": {
  "kernelspec": {
   "display_name": "Python 3 (ipykernel)",
   "language": "python",
   "name": "python3"
  },
  "language_info": {
   "codemirror_mode": {
    "name": "ipython",
    "version": 3
   },
   "file_extension": ".py",
   "mimetype": "text/x-python",
   "name": "python",
   "nbconvert_exporter": "python",
   "pygments_lexer": "ipython3",
   "version": "3.8.8"
  }
 },
 "nbformat": 4,
 "nbformat_minor": 4
}
