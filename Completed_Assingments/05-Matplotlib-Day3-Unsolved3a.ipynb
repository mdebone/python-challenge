{
 "cells": [
  {
   "cell_type": "markdown",
   "metadata": {},
   "source": [
    "**`05-Matplotlib - Day 3 - Introduction to Statistics`**"
   ]
  },
  {
   "cell_type": "markdown",
   "metadata": {},
   "source": [
    "**Objectives**\n",
    "\n",
    "* Calculate summary statistics such as mean, median, mode, variance and standard deviation using Python.\n",
    "* Plot, characterize, and quantify a normally distributed dataset using Python.\n",
    "* Qualitatively and quantitatively identify potential outliers in a dataset.\n",
    "* Differentiate between a sample and a population in regards to a dataset.\n",
    "* Define and quantify correlation between two factors.\n",
    "* Calculate and plot a linear regression in Python."
   ]
  },
  {
   "cell_type": "markdown",
   "metadata": {},
   "source": [
    "**Resources**\n",
    "* [Intro to Statistics](https://rice.bootcampcontent.com/Rice-Coding-Bootcamp/rice-hou-data-pt-07-2021-u-c/-/blob/master/01-Lesson-Plans/05-Matplotlib/3/Supplemental/Intro%20to%20Statistics.pdf)\n",
    "* [ASA - P-ValueStatement](https://rice.bootcampcontent.com/Rice-Coding-Bootcamp/rice-hou-data-pt-07-2021-u-c/-/blob/master/01-Lesson-Plans/05-Matplotlib/3/Supplemental/ASA%20-%20P-ValueStatement.pdf)"
   ]
  },
  {
   "cell_type": "markdown",
   "metadata": {},
   "source": [
    "**Presentation**\n",
    "* [Introduction to Statistics](https://rice.bootcampcontent.com/Rice-Coding-Bootcamp/rice-hou-data-pt-07-2021-u-c/-/blob/master/01-Lesson-Plans/05-Matplotlib/Slideshows/Data-05.3_Introduction_to_Statistics.pdf)"
   ]
  },
  {
   "cell_type": "markdown",
   "metadata": {},
   "source": [
    "**Install in your `Git Bash` (Win) or `Terminal` (Mac)**\n",
    "```\n",
    "python -m pip install -U sklearn\n",
    "```"
   ]
  },
  {
   "cell_type": "code",
   "execution_count": 19,
   "metadata": {},
   "outputs": [],
   "source": [
    "# !python -m pip install -U sklearn"
   ]
  },
  {
   "cell_type": "markdown",
   "metadata": {},
   "source": [
    "# =========================================="
   ]
  },
  {
   "cell_type": "markdown",
   "metadata": {},
   "source": [
    "### 3.01 Instructor Do: Summary Statistics in Python (10 min)"
   ]
  },
  {
   "cell_type": "markdown",
   "metadata": {},
   "source": [
    "The most common **measures of central tendency** are the **mean**, **median** and **mode**.\n",
    "\n",
    "  * The **mean** of a dataset is what is known as the arithmetic average of a dataset. It is calculated from the sum all of the numbers divided by the number of elements in a dataset.\n",
    "\n",
    "  * The **median** of a dataset is the middle element. It is calculated from listing the data numerically and selecting the middle element. For even-length datasets, the average of the 2 center elements is the median of the dataset.\n",
    "\n",
    "  * The **mode** of a dataset is the most frequently occurring element. The mode can be used for either numeric or categorical data.\n",
    "\n",
    "    ![Categorical Mode](Images/catagorical_mode.png)"
   ]
  },
  {
   "cell_type": "markdown",
   "metadata": {},
   "source": [
    "Two packages to remember when calculating statistics are **[NumPy](https://numpy.org/)** and **[SciPy](https://www.scipy.org/)**.\n",
    "* **Mean** is calculated using **NumPy**.\n",
    "* **Median** is calculated using **NumPy**.\n",
    "* **Mode** is calculated using **SciPy**."
   ]
  },
  {
   "cell_type": "code",
   "execution_count": 2,
   "metadata": {},
   "outputs": [],
   "source": [
    "# Dependencies\n",
    "import pandas as pd\n",
    "import matplotlib.pyplot as plt\n",
    "import scipy.stats as sts\n",
    "import numpy as np"
   ]
  },
  {
   "cell_type": "code",
   "execution_count": 3,
   "metadata": {},
   "outputs": [],
   "source": [
    "# Read in the LAX temperature data\n",
    "temperature_df = pd.read_csv('01-Ins_Summary_Statistics/Resources/lax_temperature.csv')\n",
    "temperatures = temperature_df['HourlyDryBulbTemperature']"
   ]
  },
  {
   "cell_type": "markdown",
   "metadata": {},
   "source": [
    "The reason we need to use both **NumPy** and **SciPy** modules to calculate the **measures of central tendency** is that `mode` is not a function in **NumPy**. This is likely because **NumPy** is a very lightweight module and calculating the `mode` can be computationally intensive."
   ]
  },
  {
   "cell_type": "code",
   "execution_count": 4,
   "metadata": {},
   "outputs": [
    {
     "name": "stdout",
     "output_type": "stream",
     "text": [
      "The mean temperature at the LAX airport is 57.65514310002834\n",
      "The median temperature at the LAX airport is 57.0\n",
      "The mode temperature at the LAX airport is ModeResult(mode=array([57], dtype=int64), count=array([327]))\n"
     ]
    }
   ],
   "source": [
    "# Demonstrate calculating measures of central tendency\n",
    "mean_numpy = np.mean(temperatures)\n",
    "print(f\"The mean temperature at the LAX airport is {mean_numpy}\")\n",
    "\n",
    "median_numpy = np.median(temperatures)\n",
    "print(f\"The median temperature at the LAX airport is {median_numpy}\")\n",
    "\n",
    "mode_scipy = sts.mode(temperatures)\n",
    "print(f\"The mode temperature at the LAX airport is {mode_scipy}\")"
   ]
  },
  {
   "cell_type": "markdown",
   "metadata": {},
   "source": [
    "**Why Plot Data?**\n",
    "* To determine if the data is normally distributed.\n",
    "* To determine if the data is multimodal.\n",
    "* To characterize clusters in the dataset."
   ]
  },
  {
   "cell_type": "code",
   "execution_count": 5,
   "metadata": {},
   "outputs": [
    {
     "data": {
      "image/png": "[encoded data removed]",
      "text/plain": [
       "<Figure size 432x288 with 1 Axes>"
      ]
     },
     "metadata": {
      "needs_background": "light"
     },
     "output_type": "display_data"
    }
   ],
   "source": [
    "# Characterize the data set using matplotlib and stats.normaltest\n",
    "plt.hist(temperatures)\n",
    "plt.xlabel('Temperature (°F)')\n",
    "plt.ylabel('Counts')\n",
    "plt.show()"
   ]
  },
  {
   "cell_type": "markdown",
   "metadata": {},
   "source": [
    "***What Is Normally Distributed Data?***\n",
    "* Measurements in a dataset are obtained independent of one another.\n",
    "* The distribution of data follows a bell curve shape.\n",
    "![normal-distribution](Images/normal-distribution-1.png)\n",
    "* We can quantitatively test if a dataset is normal using **scipy.stats.normaltest()**"
   ]
  },
  {
   "cell_type": "code",
   "execution_count": 6,
   "metadata": {},
   "outputs": [
    {
     "name": "stdout",
     "output_type": "stream",
     "text": [
      "NormaltestResult(statistic=2.049722451244176, pvalue=0.35884626061730523)\n"
     ]
    }
   ],
   "source": [
    "print(sts.normaltest(temperatures.sample(50)))"
   ]
  },
  {
   "cell_type": "markdown",
   "metadata": {},
   "source": [
    "**What are variance and standard deviation?**\n",
    "* ***Variance*** is the measurement of how far each value is away from the mean of the dataset.\n",
    "* ***Standard deviation*** is the square root of variance.\n",
    "* In Python, both `variance` and `standard deviation` are calculated using the NumPy module."
   ]
  },
  {
   "cell_type": "code",
   "execution_count": 7,
   "metadata": {},
   "outputs": [
    {
     "name": "stdout",
     "output_type": "stream",
     "text": [
      "The population variance using the NumPy module is 32.33077618382964\n",
      "The population standard deviation using the NumPy module is 5.686015844493369\n"
     ]
    }
   ],
   "source": [
    "# Demonstrate calculating the variance and standard deviation using the different modules\n",
    "var_numpy = np.var(temperatures,ddof = 0)\n",
    "print(f\"The population variance using the NumPy module is {var_numpy}\")\n",
    "\n",
    "sd_numpy = np.std(temperatures,ddof = 0)\n",
    "print(f\"The population standard deviation using the NumPy module is {sd_numpy}\")"
   ]
  },
  {
   "cell_type": "markdown",
   "metadata": {},
   "source": [
    "When we have a dataset that is normally distributed, we can use the **68-95-99.7** rule to characterize the data.\n",
    "* The **68-95-99.7** rule states that roughly **68%** of all values in normally distributed data fall within one standard deviation of the mean (in either direction). Additionally, **95%** of the values fall within two standard deviations, and **99.7%** of the values fall within three standard deviations.\n",
    "![68-95-99.7 Rule](Images/68-95-99.7_rule.jpg)"
   ]
  },
  {
   "cell_type": "code",
   "execution_count": 8,
   "metadata": {},
   "outputs": [
    {
     "name": "stdout",
     "output_type": "stream",
     "text": [
      "Roughly 68% of the data is between 51.969 and 63.341\n",
      "Roughly 95% of the data is between 46.283 and 69.027\n",
      "Roughly 99.7% of the data is between 40.597 and 74.713\n"
     ]
    }
   ],
   "source": [
    "# Calculate the 68-95-99.7 rule using the standard deviation\n",
    "print(f\"Roughly 68% of the data is between {round(mean_numpy-sd_numpy,3)} and {round(mean_numpy+sd_numpy,3)}\")\n",
    "print(f\"Roughly 95% of the data is between {round(mean_numpy-2*sd_numpy,3)} and {round(mean_numpy+2*sd_numpy,3)}\")\n",
    "print(f\"Roughly 99.7% of the data is between {round(mean_numpy-3*sd_numpy,3)} and {round(mean_numpy+3*sd_numpy,3)}\")"
   ]
  },
  {
   "cell_type": "markdown",
   "metadata": {},
   "source": [
    "**What is a Z-Score?**\n",
    "* a **z-score** (also called a standard score) gives you an idea of how far from the **mean** a data point is. But more technically it’s a measure of how many **standard deviations** `below` or `above` the population mean a raw score is. \n",
    "\n",
    "* To calculate a **z-score** in Python, we must use the `scipy.stats.zscore` function."
   ]
  },
  {
   "cell_type": "code",
   "execution_count": 9,
   "metadata": {},
   "outputs": [
    {
     "name": "stdout",
     "output_type": "stream",
     "text": [
      "The z-scores using the SciPy module are [-0.99457041 -1.17044048 -0.99457041 ...  0.06065001  0.06065001\n",
      "  0.06065001]\n"
     ]
    }
   ],
   "source": [
    "# Demonstrate calculating the z-scores using SciPy\n",
    "z_scipy = sts.zscore(temperatures)\n",
    "print(f\"The z-scores using the SciPy module are {z_scipy}\")"
   ]
  },
  {
   "cell_type": "markdown",
   "metadata": {},
   "source": [
    "# =========================================="
   ]
  },
  {
   "cell_type": "markdown",
   "metadata": {},
   "source": [
    "### 3.02 Instructor Do: Quantiles and Outliers in Python (10 min)"
   ]
  },
  {
   "cell_type": "markdown",
   "metadata": {},
   "source": [
    "**What are quantiles, quartiles, and outliers?**\n",
    "* **[Quantiles](https://en.wikipedia.org/wiki/Quantile)** divide data into well-defined regions based on a sorted dataset.\n",
    "* **[Quartiles](https://en.wikipedia.org/wiki/Quartile)** are a specific type of quantile where a sorted dataset is split into four equal parts.\n",
    "  * Q1: 25% of the data\n",
    "  * Q2: 50% of the data\n",
    "  * Q3: 75% of the data\n",
    "![quartiles](Images/Quartile_02.png)\n",
    "* **[Outliers](https://www.mathsisfun.com/data/outliers.html)** are an extreme value in a dataset that can skew calculations and results.\n"
   ]
  },
  {
   "cell_type": "code",
   "execution_count": 10,
   "metadata": {},
   "outputs": [],
   "source": [
    "# Dependencies\n",
    "import pandas as pd\n",
    "import numpy as np\n",
    "import matplotlib.pyplot as plt"
   ]
  },
  {
   "cell_type": "markdown",
   "metadata": {},
   "source": [
    "**How to Identify Potential Outliers?**\n",
    "* **Qualitatively** Use box and whisker plots to visually identify potential outlier data points.\n",
    "![outlier_boxplot_annot.png](Images/outlier_boxplot_annot.png)\n",
    "* **Quantitatively** Determine the outlier boundaries in a dataset using the **1.5  IQR** rule.\n",
    "  * `IQR` is the interquartile range, or the range between the 1st and 3rd quartiles.\n",
    "  * Anything **below** `Q1 – 1.5  IQR` could be an outlier.\n",
    "  * Anything **above** `Q3 + 1.5  IQR` could be an outlier.\n"
   ]
  },
  {
   "cell_type": "code",
   "execution_count": 11,
   "metadata": {},
   "outputs": [
    {
     "data": {
      "image/png": "[encoded data removed]",
      "text/plain": [
       "<Figure size 432x288 with 1 Axes>"
      ]
     },
     "metadata": {
      "needs_background": "light"
     },
     "output_type": "display_data"
    }
   ],
   "source": [
    "# Example outlier plot of reaction times\n",
    "times = [96,98,100,105,85,88,95,100,101,102,97,98,5]\n",
    "fig1, ax1 = plt.subplots()\n",
    "ax1.set_title('Reaction Times at Baseball Batting Cage')\n",
    "ax1.set_ylabel('Reaction Time (ms)')\n",
    "# ax1.boxplot(times, showmeans=True)\n",
    "ax1.boxplot(times)\n",
    "plt.grid()\n",
    "plt.show()"
   ]
  },
  {
   "cell_type": "code",
   "execution_count": 12,
   "metadata": {},
   "outputs": [
    {
     "name": "stdout",
     "output_type": "stream",
     "text": [
      "[5, 85, 88, 95, 96, 97, 98, 98, 100, 100, 101, 102, 105]\n"
     ]
    }
   ],
   "source": [
    "# We need to sort the data to determine which could be outliers\n",
    "times.sort()\n",
    "print(times)"
   ]
  },
  {
   "cell_type": "code",
   "execution_count": 13,
   "metadata": {},
   "outputs": [
    {
     "data": {
      "image/png": "[encoded data removed]",
      "text/plain": [
       "<Figure size 432x288 with 1 Axes>"
      ]
     },
     "metadata": {
      "needs_background": "light"
     },
     "output_type": "display_data"
    }
   ],
   "source": [
    "# The second example again looks at the LAX temperature data set and computes quantiles\n",
    "temperature_df = pd.read_csv('02-Ins_Quartiles_and_Outliers/Resources/lax_temperature.csv')\n",
    "temperatures = temperature_df['HourlyDryBulbTemperature']\n",
    "\n",
    "fig1, ax1 = plt.subplots()\n",
    "ax1.set_title('Temperatures at LAX')\n",
    "ax1.set_ylabel('Temperature (°F)')\n",
    "ax1.boxplot(temperatures)\n",
    "plt.show()"
   ]
  },
  {
   "cell_type": "markdown",
   "metadata": {},
   "source": [
    "**How to Identify Potential Outliers in Python?**\n",
    "* **Qualitatively** Use Matplotlib’s pyplot.boxplot function to plot the box and whisker.\n",
    "* **Quantitatively**\n",
    "  * Use Pandas series.quantile function to calculate the quantile.\n",
    "  * Calculate the outlier boundaries."
   ]
  },
  {
   "cell_type": "code",
   "execution_count": 14,
   "metadata": {},
   "outputs": [
    {
     "name": "stdout",
     "output_type": "stream",
     "text": [
      "The lower quartile of temperatures is: 54.0\n",
      "The upper quartile of temperatures is: 60.0\n",
      "The interquartile range of temperatures is: 6.0\n",
      "The the median of temperatures is: 57.0 \n",
      "Values below 45.0 could be outliers.\n",
      "Values above 69.0 could be outliers.\n"
     ]
    }
   ],
   "source": [
    "# If the data is in a dataframe, we use pandas to give quartile calculations\n",
    "quartiles = temperatures.quantile([.25,.5,.75])\n",
    "lowerq = quartiles[0.25]\n",
    "upperq = quartiles[0.75]\n",
    "iqr = upperq-lowerq\n",
    "\n",
    "print(f\"The lower quartile of temperatures is: {lowerq}\")\n",
    "print(f\"The upper quartile of temperatures is: {upperq}\")\n",
    "print(f\"The interquartile range of temperatures is: {iqr}\")\n",
    "print(f\"The the median of temperatures is: {quartiles[0.5]} \")\n",
    "\n",
    "lower_bound = lowerq - (1.5*iqr)\n",
    "upper_bound = upperq + (1.5*iqr)\n",
    "print(f\"Values below {lower_bound} could be outliers.\")\n",
    "print(f\"Values above {upper_bound} could be outliers.\")"
   ]
  },
  {
   "cell_type": "markdown",
   "metadata": {},
   "source": [
    "# =========================================="
   ]
  },
  {
   "cell_type": "code",
   "execution_count": null,
   "metadata": {},
   "outputs": [],
   "source": [
    "### 3.03 Student Do: Summary Statistics in Python (15 min)"
   ]
  },
  {
   "cell_type": "markdown",
   "metadata": {},
   "source": [
    "## Instructions\n",
    "\n",
    "* Using Pandas, import the California housing dataset from the Resources folder.\n",
    "\n",
    "* Determine the most appropriate measure of central tendency to describe the population. Calculate this value.\n",
    "\n",
    "* Use both data visualization and a quantitative measurement to find whether the age of houses in California is considered normally distributed.\n",
    "\n",
    "* Inspect the average occupancy of housing in California and determine if there are any potential outliers in the dataset.\n",
    "\n",
    "  * **Hint**: This dataset is very large.\n",
    "\n",
    "* If there are potential outliers in the average occupancy, find the minimum and maximum of the median housing prices across the outliers.\n",
    "\n",
    "## Bonus\n",
    "\n",
    "Plot the latitude and longitude of the California housing data using Matplotlib and color the data points using the median income of the block. Does any location seem to be an outlier?"
   ]
  },
  {
   "cell_type": "code",
   "execution_count": 15,
   "metadata": {},
   "outputs": [],
   "source": [
    "# Dependencies\n",
    "import pandas as pd\n",
    "import matplotlib.pyplot as plt\n",
    "import scipy.stats as sts"
   ]
  },
  {
   "cell_type": "code",
   "execution_count": 20,
   "metadata": {},
   "outputs": [
    {
     "data": {
      "text/html": [
       "<div>\n",
       "<style scoped>\n",
       "    .dataframe tbody tr th:only-of-type {\n",
       "        vertical-align: middle;\n",
       "    }\n",
       "\n",
       "    .dataframe tbody tr th {\n",
       "        vertical-align: top;\n",
       "    }\n",
       "\n",
       "    .dataframe thead th {\n",
       "        text-align: right;\n",
       "    }\n",
       "</style>\n",
       "<table border=\"1\" class=\"dataframe\">\n",
       "  <thead>\n",
       "    <tr style=\"text-align: right;\">\n",
       "      <th></th>\n",
       "      <th>MedInc</th>\n",
       "      <th>HouseAge</th>\n",
       "      <th>AveRooms</th>\n",
       "      <th>AveBedrms</th>\n",
       "      <th>Population</th>\n",
       "      <th>AveOccup</th>\n",
       "      <th>Latitude</th>\n",
       "      <th>Longitude</th>\n",
       "    </tr>\n",
       "  </thead>\n",
       "  <tbody>\n",
       "    <tr>\n",
       "      <th>0</th>\n",
       "      <td>5.2742</td>\n",
       "      <td>17.0</td>\n",
       "      <td>8.908654</td>\n",
       "      <td>1.884615</td>\n",
       "      <td>351.0</td>\n",
       "      <td>1.687500</td>\n",
       "      <td>32.98</td>\n",
       "      <td>-117.27</td>\n",
       "    </tr>\n",
       "    <tr>\n",
       "      <th>1</th>\n",
       "      <td>1.8438</td>\n",
       "      <td>52.0</td>\n",
       "      <td>3.069847</td>\n",
       "      <td>1.044293</td>\n",
       "      <td>2382.0</td>\n",
       "      <td>4.057922</td>\n",
       "      <td>34.07</td>\n",
       "      <td>-118.26</td>\n",
       "    </tr>\n",
       "    <tr>\n",
       "      <th>2</th>\n",
       "      <td>7.0691</td>\n",
       "      <td>13.0</td>\n",
       "      <td>6.689697</td>\n",
       "      <td>1.009697</td>\n",
       "      <td>2444.0</td>\n",
       "      <td>2.962424</td>\n",
       "      <td>37.57</td>\n",
       "      <td>-121.87</td>\n",
       "    </tr>\n",
       "    <tr>\n",
       "      <th>3</th>\n",
       "      <td>5.4719</td>\n",
       "      <td>38.0</td>\n",
       "      <td>5.890080</td>\n",
       "      <td>0.957105</td>\n",
       "      <td>1228.0</td>\n",
       "      <td>3.292225</td>\n",
       "      <td>37.52</td>\n",
       "      <td>-122.28</td>\n",
       "    </tr>\n",
       "    <tr>\n",
       "      <th>4</th>\n",
       "      <td>4.0156</td>\n",
       "      <td>35.0</td>\n",
       "      <td>6.195312</td>\n",
       "      <td>1.171875</td>\n",
       "      <td>669.0</td>\n",
       "      <td>5.226562</td>\n",
       "      <td>33.93</td>\n",
       "      <td>-117.41</td>\n",
       "    </tr>\n",
       "  </tbody>\n",
       "</table>\n",
       "</div>"
      ],
      "text/plain": [
       "   MedInc  HouseAge  AveRooms  AveBedrms  Population  AveOccup  Latitude  \\\n",
       "0  5.2742      17.0  8.908654   1.884615       351.0  1.687500     32.98   \n",
       "1  1.8438      52.0  3.069847   1.044293      2382.0  4.057922     34.07   \n",
       "2  7.0691      13.0  6.689697   1.009697      2444.0  2.962424     37.57   \n",
       "3  5.4719      38.0  5.890080   0.957105      1228.0  3.292225     37.52   \n",
       "4  4.0156      35.0  6.195312   1.171875       669.0  5.226562     33.93   \n",
       "\n",
       "   Longitude  \n",
       "0    -117.27  \n",
       "1    -118.26  \n",
       "2    -121.87  \n",
       "3    -122.28  \n",
       "4    -117.41  "
      ]
     },
     "execution_count": 20,
     "metadata": {},
     "output_type": "execute_result"
    }
   ],
   "source": [
    "# Read in the california housing data set\n",
    "data_file = '03-Stu_Summary_Stats_Python/Resources/California_Housing.csv'\n",
    "\n"
   ]
  },
  {
   "cell_type": "code",
   "execution_count": 21,
   "metadata": {},
   "outputs": [
    {
     "data": {
      "image/png": "[encoded data removed]",
      "text/plain": [
       "<Figure size 432x288 with 1 Axes>"
      ]
     },
     "metadata": {
      "needs_background": "light"
     },
     "output_type": "display_data"
    },
    {
     "name": "stdout",
     "output_type": "stream",
     "text": [
      "1387.9633333333334\n",
      "1152.5\n",
      "0    1128.0\n",
      "dtype: float64\n"
     ]
    }
   ],
   "source": [
    "# Determine which measure of central tendency is most appropriate to describe the Population\n",
    "\n"
   ]
  },
  {
   "cell_type": "code",
   "execution_count": 22,
   "metadata": {},
   "outputs": [
    {
     "data": {
      "image/png": "[encoded data removed]",
      "text/plain": [
       "<Figure size 432x288 with 1 Axes>"
      ]
     },
     "metadata": {
      "needs_background": "light"
     },
     "output_type": "display_data"
    },
    {
     "name": "stdout",
     "output_type": "stream",
     "text": [
      "NormaltestResult(statistic=10.179099515244788, pvalue=0.006160793112949275)\n"
     ]
    }
   ],
   "source": [
    "# Determine if the house age in California is normally distributed\n",
    "\n"
   ]
  },
  {
   "cell_type": "code",
   "execution_count": 18,
   "metadata": {},
   "outputs": [
    {
     "name": "stdout",
     "output_type": "stream",
     "text": [
      "The lower quartile of occupancy is: 2.4250909806040477\n",
      "The upper quartile of occupancy is: 3.2974592743428355\n",
      "The interquartile range of occupancy is: 0.8723682937387878\n",
      "The the median of occupancy is: 2.81970199317512 \n",
      "Values below 1.116538539995866 could be outliers.\n",
      "Values above 4.606011714951017 could be outliers.\n"
     ]
    },
    {
     "data": {
      "text/html": [
       "<div>\n",
       "<style scoped>\n",
       "    .dataframe tbody tr th:only-of-type {\n",
       "        vertical-align: middle;\n",
       "    }\n",
       "\n",
       "    .dataframe tbody tr th {\n",
       "        vertical-align: top;\n",
       "    }\n",
       "\n",
       "    .dataframe thead th {\n",
       "        text-align: right;\n",
       "    }\n",
       "</style>\n",
       "<table border=\"1\" class=\"dataframe\">\n",
       "  <thead>\n",
       "    <tr style=\"text-align: right;\">\n",
       "      <th></th>\n",
       "      <th>MedInc</th>\n",
       "      <th>HouseAge</th>\n",
       "      <th>AveRooms</th>\n",
       "      <th>AveBedrms</th>\n",
       "      <th>Population</th>\n",
       "      <th>AveOccup</th>\n",
       "      <th>Latitude</th>\n",
       "      <th>Longitude</th>\n",
       "    </tr>\n",
       "  </thead>\n",
       "  <tbody>\n",
       "    <tr>\n",
       "      <th>4</th>\n",
       "      <td>4.0156</td>\n",
       "      <td>35.0</td>\n",
       "      <td>6.195312</td>\n",
       "      <td>1.171875</td>\n",
       "      <td>669.0</td>\n",
       "      <td>5.226562</td>\n",
       "      <td>33.93</td>\n",
       "      <td>-117.41</td>\n",
       "    </tr>\n",
       "    <tr>\n",
       "      <th>42</th>\n",
       "      <td>3.6429</td>\n",
       "      <td>26.0</td>\n",
       "      <td>5.836111</td>\n",
       "      <td>1.083333</td>\n",
       "      <td>2171.0</td>\n",
       "      <td>6.030556</td>\n",
       "      <td>38.57</td>\n",
       "      <td>-122.44</td>\n",
       "    </tr>\n",
       "    <tr>\n",
       "      <th>72</th>\n",
       "      <td>2.7759</td>\n",
       "      <td>30.0</td>\n",
       "      <td>4.167619</td>\n",
       "      <td>1.059048</td>\n",
       "      <td>2727.0</td>\n",
       "      <td>5.194286</td>\n",
       "      <td>33.83</td>\n",
       "      <td>-118.08</td>\n",
       "    </tr>\n",
       "    <tr>\n",
       "      <th>143</th>\n",
       "      <td>3.0509</td>\n",
       "      <td>30.0</td>\n",
       "      <td>5.598131</td>\n",
       "      <td>1.172897</td>\n",
       "      <td>1019.0</td>\n",
       "      <td>4.761682</td>\n",
       "      <td>33.94</td>\n",
       "      <td>-117.40</td>\n",
       "    </tr>\n",
       "    <tr>\n",
       "      <th>168</th>\n",
       "      <td>2.6300</td>\n",
       "      <td>29.0</td>\n",
       "      <td>3.496212</td>\n",
       "      <td>1.003788</td>\n",
       "      <td>2576.0</td>\n",
       "      <td>4.878788</td>\n",
       "      <td>33.97</td>\n",
       "      <td>-118.14</td>\n",
       "    </tr>\n",
       "    <tr>\n",
       "      <th>...</th>\n",
       "      <td>...</td>\n",
       "      <td>...</td>\n",
       "      <td>...</td>\n",
       "      <td>...</td>\n",
       "      <td>...</td>\n",
       "      <td>...</td>\n",
       "      <td>...</td>\n",
       "      <td>...</td>\n",
       "    </tr>\n",
       "    <tr>\n",
       "      <th>2793</th>\n",
       "      <td>2.5556</td>\n",
       "      <td>11.0</td>\n",
       "      <td>5.825112</td>\n",
       "      <td>1.255605</td>\n",
       "      <td>1158.0</td>\n",
       "      <td>5.192825</td>\n",
       "      <td>34.96</td>\n",
       "      <td>-120.45</td>\n",
       "    </tr>\n",
       "    <tr>\n",
       "      <th>2849</th>\n",
       "      <td>9.8892</td>\n",
       "      <td>40.0</td>\n",
       "      <td>8.244019</td>\n",
       "      <td>0.995215</td>\n",
       "      <td>976.0</td>\n",
       "      <td>4.669856</td>\n",
       "      <td>37.46</td>\n",
       "      <td>-122.20</td>\n",
       "    </tr>\n",
       "    <tr>\n",
       "      <th>2907</th>\n",
       "      <td>4.8750</td>\n",
       "      <td>5.0</td>\n",
       "      <td>7.101721</td>\n",
       "      <td>1.176056</td>\n",
       "      <td>7694.0</td>\n",
       "      <td>6.020344</td>\n",
       "      <td>34.69</td>\n",
       "      <td>-118.20</td>\n",
       "    </tr>\n",
       "    <tr>\n",
       "      <th>2919</th>\n",
       "      <td>1.6150</td>\n",
       "      <td>42.0</td>\n",
       "      <td>4.824000</td>\n",
       "      <td>1.216000</td>\n",
       "      <td>1167.0</td>\n",
       "      <td>4.668000</td>\n",
       "      <td>33.96</td>\n",
       "      <td>-118.28</td>\n",
       "    </tr>\n",
       "    <tr>\n",
       "      <th>2949</th>\n",
       "      <td>3.2197</td>\n",
       "      <td>17.0</td>\n",
       "      <td>6.537815</td>\n",
       "      <td>0.984874</td>\n",
       "      <td>2791.0</td>\n",
       "      <td>4.690756</td>\n",
       "      <td>32.80</td>\n",
       "      <td>-117.11</td>\n",
       "    </tr>\n",
       "  </tbody>\n",
       "</table>\n",
       "<p>100 rows × 8 columns</p>\n",
       "</div>"
      ],
      "text/plain": [
       "      MedInc  HouseAge  AveRooms  AveBedrms  Population  AveOccup  Latitude  \\\n",
       "4     4.0156      35.0  6.195312   1.171875       669.0  5.226562     33.93   \n",
       "42    3.6429      26.0  5.836111   1.083333      2171.0  6.030556     38.57   \n",
       "72    2.7759      30.0  4.167619   1.059048      2727.0  5.194286     33.83   \n",
       "143   3.0509      30.0  5.598131   1.172897      1019.0  4.761682     33.94   \n",
       "168   2.6300      29.0  3.496212   1.003788      2576.0  4.878788     33.97   \n",
       "...      ...       ...       ...        ...         ...       ...       ...   \n",
       "2793  2.5556      11.0  5.825112   1.255605      1158.0  5.192825     34.96   \n",
       "2849  9.8892      40.0  8.244019   0.995215       976.0  4.669856     37.46   \n",
       "2907  4.8750       5.0  7.101721   1.176056      7694.0  6.020344     34.69   \n",
       "2919  1.6150      42.0  4.824000   1.216000      1167.0  4.668000     33.96   \n",
       "2949  3.2197      17.0  6.537815   0.984874      2791.0  4.690756     32.80   \n",
       "\n",
       "      Longitude  \n",
       "4       -117.41  \n",
       "42      -122.44  \n",
       "72      -118.08  \n",
       "143     -117.40  \n",
       "168     -118.14  \n",
       "...         ...  \n",
       "2793    -120.45  \n",
       "2849    -122.20  \n",
       "2907    -118.20  \n",
       "2919    -118.28  \n",
       "2949    -117.11  \n",
       "\n",
       "[100 rows x 8 columns]"
      ]
     },
     "execution_count": 18,
     "metadata": {},
     "output_type": "execute_result"
    }
   ],
   "source": [
    "# Determine if there are any potential outliers in the average occupancy in California\n",
    "\n"
   ]
  },
  {
   "cell_type": "code",
   "execution_count": 19,
   "metadata": {},
   "outputs": [
    {
     "name": "stdout",
     "output_type": "stream",
     "text": [
      "The minimum median income of the potential outliers is 0.716\n",
      "The maximum median income of the potential outliers is 15.0001\n"
     ]
    }
   ],
   "source": [
    "# With the potential outliers, what is the lowest and highest median income (in $1000s) observed?\n",
    "\n"
   ]
  },
  {
   "cell_type": "code",
   "execution_count": 20,
   "metadata": {},
   "outputs": [
    {
     "data": {
      "image/png": "[encoded data removed]",
      "text/plain": [
       "<Figure size 432x288 with 2 Axes>"
      ]
     },
     "metadata": {
      "needs_background": "light"
     },
     "output_type": "display_data"
    }
   ],
   "source": [
    "# Bonus - plot the latitude and longitude of the California housing data using Matplotlib, color the data points using the median income of the block.\n",
    "\n"
   ]
  },
  {
   "cell_type": "markdown",
   "metadata": {},
   "source": [
    "# =========================================="
   ]
  },
  {
   "cell_type": "markdown",
   "metadata": {},
   "source": [
    "### 3.04 Instructor Do: Sample, Population, and SEM (10 min)"
   ]
  },
  {
   "cell_type": "markdown",
   "metadata": {},
   "source": [
    "**Population Dataset vs. Sample Dataset**\n",
    "* **Population Dataset**\n",
    "  * Dataset containing all possible elements of an experiment or study.\n",
    "  * In statistics, `population` does not mean `people`.\n",
    "  * Any `complete set` of data is a `population dataset`.\n",
    "\n",
    "* **Sample Dataset**\n",
    "  * A `subset` of `population dataset`.\n",
    "  * A `sample dataset` can be selected **randomly** from the `population dataset` or selected with **bias**.\n"
   ]
  },
  {
   "cell_type": "markdown",
   "metadata": {},
   "source": [
    "To estimate how well a sample is representative of the total **population**, we calculate the **standard error** (**standard error of the mean**, or **SEM**) of the **sample**.\n",
    "* [scipy.stats.sem](https://docs.scipy.org/doc/scipy/reference/generated/scipy.stats.sem.html)\n",
    "The **standard error of the mean (SEM)** can be expressed as:\n",
    "\n",
    "![Standard_error_formula.png](Images/Standard_error_formula.png#left)\n",
    "\n",
    "* **σ** is the **standard deviation** of the population.\n",
    "* **n** is the **size** (number of observations) of the sample."
   ]
  },
  {
   "cell_type": "code",
   "execution_count": 21,
   "metadata": {},
   "outputs": [],
   "source": [
    "# Dependencies\n",
    "import pandas as pd\n",
    "import random\n",
    "import matplotlib.pyplot as plt\n",
    "import numpy as np\n",
    "# import standard error of the mean (sem)\n",
    "from scipy.stats import sem\n",
    "\n",
    "# Set the seed so our data is reproducible\n",
    "random.seed(42)"
   ]
  },
  {
   "cell_type": "code",
   "execution_count": 22,
   "metadata": {},
   "outputs": [
    {
     "data": {
      "text/html": [
       "<div>\n",
       "<style scoped>\n",
       "    .dataframe tbody tr th:only-of-type {\n",
       "        vertical-align: middle;\n",
       "    }\n",
       "\n",
       "    .dataframe tbody tr th {\n",
       "        vertical-align: top;\n",
       "    }\n",
       "\n",
       "    .dataframe thead th {\n",
       "        text-align: right;\n",
       "    }\n",
       "</style>\n",
       "<table border=\"1\" class=\"dataframe\">\n",
       "  <thead>\n",
       "    <tr style=\"text-align: right;\">\n",
       "      <th></th>\n",
       "      <th>Type</th>\n",
       "      <th>Combined_MPG</th>\n",
       "      <th>Make_Model</th>\n",
       "    </tr>\n",
       "  </thead>\n",
       "  <tbody>\n",
       "    <tr>\n",
       "      <th>0</th>\n",
       "      <td>Two Seaters</td>\n",
       "      <td>21.0000</td>\n",
       "      <td>Acura_NSX</td>\n",
       "    </tr>\n",
       "    <tr>\n",
       "      <th>1</th>\n",
       "      <td>Two Seaters</td>\n",
       "      <td>27.9406</td>\n",
       "      <td>ALFA ROMEO_4C</td>\n",
       "    </tr>\n",
       "    <tr>\n",
       "      <th>2</th>\n",
       "      <td>Two Seaters</td>\n",
       "      <td>20.9455</td>\n",
       "      <td>Aston Martin Lagonda Ltd_Vantage V8</td>\n",
       "    </tr>\n",
       "    <tr>\n",
       "      <th>3</th>\n",
       "      <td>Two Seaters</td>\n",
       "      <td>25.9952</td>\n",
       "      <td>Audi_TT Roadster quattro</td>\n",
       "    </tr>\n",
       "    <tr>\n",
       "      <th>4</th>\n",
       "      <td>Two Seaters</td>\n",
       "      <td>27.6300</td>\n",
       "      <td>BMW_Z4 sDrive30i</td>\n",
       "    </tr>\n",
       "  </tbody>\n",
       "</table>\n",
       "</div>"
      ],
      "text/plain": [
       "          Type  Combined_MPG                           Make_Model\n",
       "0  Two Seaters       21.0000                            Acura_NSX\n",
       "1  Two Seaters       27.9406                        ALFA ROMEO_4C\n",
       "2  Two Seaters       20.9455  Aston Martin Lagonda Ltd_Vantage V8\n",
       "3  Two Seaters       25.9952             Audi_TT Roadster quattro\n",
       "4  Two Seaters       27.6300                     BMW_Z4 sDrive30i"
      ]
     },
     "execution_count": 22,
     "metadata": {},
     "output_type": "execute_result"
    }
   ],
   "source": [
    "# Sample versus population example fuel economy\n",
    "fuel_economy = pd.read_csv('04-Ins_Standard_Error/Resources/2019_fuel_economy.csv')\n",
    "\n",
    "# First overview the data set - how many factors, etc.\n",
    "fuel_economy.head()"
   ]
  },
  {
   "cell_type": "code",
   "execution_count": 23,
   "metadata": {},
   "outputs": [
    {
     "name": "stdout",
     "output_type": "stream",
     "text": [
      "The mean MPG of all vehicles is: 23.33\n",
      "The standard deviation of all vehicle's MPG is: 5.94\n"
     ]
    },
    {
     "data": {
      "image/png": "[encoded data removed]",
      "text/plain": [
       "<Figure size 432x288 with 1 Axes>"
      ]
     },
     "metadata": {
      "needs_background": "light"
     },
     "output_type": "display_data"
    }
   ],
   "source": [
    "# Calculate the summary statistics and plot the histogram of the entire population data\n",
    "print(f\"The mean MPG of all vehicles is: {round(fuel_economy.Combined_MPG.mean(),2)}\")\n",
    "print(f\"The standard deviation of all vehicle's MPG is: {round(fuel_economy.Combined_MPG.std(),2)}\")\n",
    "plt.hist(fuel_economy.Combined_MPG)\n",
    "plt.title(\"Entire population data\")\n",
    "plt.xlabel(\"Fuel Economy (MPG)\")\n",
    "plt.ylabel(\"Number of Vehicles\")\n",
    "plt.show()"
   ]
  },
  {
   "cell_type": "code",
   "execution_count": 24,
   "metadata": {},
   "outputs": [
    {
     "name": "stdout",
     "output_type": "stream",
     "text": [
      "The mean MPG of all vehicles is: 18.48\n",
      "The standard deviation of all vehicle's MPG is: 2.41\n"
     ]
    },
    {
     "data": {
      "image/png": "[encoded data removed]",
      "text/plain": [
       "<Figure size 432x288 with 1 Axes>"
      ]
     },
     "metadata": {
      "needs_background": "light"
     },
     "output_type": "display_data"
    }
   ],
   "source": [
    "# Calculate the summary statistics and plot the histogram of the sample data using iloc\n",
    "subset = fuel_economy.iloc[range(766,856)]\n",
    "print(f\"The mean MPG of all vehicles is: {round(subset.Combined_MPG.mean(),2)}\")\n",
    "print(f\"The standard deviation of all vehicle's MPG is: {round(subset.Combined_MPG.std(),2)}\")\n",
    "plt.hist(subset.Combined_MPG)\n",
    "plt.title(\"Sample data using iloc\")\n",
    "plt.xlabel(\"Fuel Economy (MPG)\")\n",
    "plt.ylabel(\"Number of Vehicles\")\n",
    "plt.show()"
   ]
  },
  {
   "cell_type": "code",
   "execution_count": 25,
   "metadata": {},
   "outputs": [
    {
     "name": "stdout",
     "output_type": "stream",
     "text": [
      "The mean MPG of all vehicles is: 23.25\n",
      "The standard deviation of all vehicle's MPG is: 5.27\n"
     ]
    },
    {
     "data": {
      "image/png": "[encoded data removed]",
      "text/plain": [
       "<Figure size 432x288 with 1 Axes>"
      ]
     },
     "metadata": {
      "needs_background": "light"
     },
     "output_type": "display_data"
    }
   ],
   "source": [
    "# Calculate the summary statistics and plot the histogram of the sample data using random sampling\n",
    "subset = fuel_economy.sample(90)\n",
    "print(f\"The mean MPG of all vehicles is: {round(subset.Combined_MPG.mean(),2)}\")\n",
    "print(f\"The standard deviation of all vehicle's MPG is: {round(subset.Combined_MPG.std(),2)}\")\n",
    "plt.hist(subset.Combined_MPG)\n",
    "plt.title(\"Sample data using random sampling\")\n",
    "plt.xlabel(\"Fuel Economy (MPG)\")\n",
    "plt.ylabel(\"Number of Vehicles\")\n",
    "plt.show()"
   ]
  },
  {
   "cell_type": "code",
   "execution_count": 26,
   "metadata": {},
   "outputs": [
    {
     "name": "stdout",
     "output_type": "stream",
     "text": [
      "The SEM value for the sample fuel economy data is 0.626250241117412\n"
     ]
    }
   ],
   "source": [
    "# Generate a new 30 vehicle sample and calculate the SEM of the sample\n",
    "sample = fuel_economy.sample(30)\n",
    "print(f\"The SEM value for the sample fuel economy data is {sem(sample.Combined_MPG)}\")"
   ]
  },
  {
   "cell_type": "code",
   "execution_count": 27,
   "metadata": {},
   "outputs": [],
   "source": [
    "# Create a sample set of 10, each with 30 vehicles\n",
    "vehicle_sample_set = [fuel_economy.sample(30) for x in range(0,10)]"
   ]
  },
  {
   "cell_type": "code",
   "execution_count": 28,
   "metadata": {},
   "outputs": [],
   "source": [
    "# Generate the plot data for each sample \n",
    "means = [sample.Combined_MPG.mean() for sample in vehicle_sample_set]\n",
    "standard_errors = [sem(sample.Combined_MPG) for sample in vehicle_sample_set]\n",
    "x_axis = np.arange(0, len(vehicle_sample_set), 1) + 1"
   ]
  },
  {
   "cell_type": "code",
   "execution_count": 29,
   "metadata": {},
   "outputs": [
    {
     "data": {
      "image/png": "[encoded data removed]",
      "text/plain": [
       "<Figure size 432x288 with 1 Axes>"
      ]
     },
     "metadata": {
      "needs_background": "light"
     },
     "output_type": "display_data"
    }
   ],
   "source": [
    "# Setting up the plot\n",
    "fig, ax = plt.subplots()\n",
    "ax.errorbar(x_axis, means, standard_errors, fmt=\"o\")\n",
    "ax.set_xlim(0, len(vehicle_sample_set) + 1)\n",
    "ax.set_ylim(20,28)\n",
    "ax.set_xlabel(\"Sample Number\")\n",
    "ax.set_ylabel(\"Mean MPG\")\n",
    "plt.show()"
   ]
  },
  {
   "cell_type": "markdown",
   "metadata": {},
   "source": [
    "# =========================================="
   ]
  },
  {
   "cell_type": "markdown",
   "metadata": {},
   "source": [
    "### 3.05 Student Do: SEM and Error Bars (20 min)"
   ]
  },
  {
   "cell_type": "markdown",
   "metadata": {},
   "source": [
    "## Instructions\n",
    "\n",
    "Work with a partner on this activity. Be sure to compare your calculated values as you progress through the activity.\n",
    "\n",
    "* Execute the starter code to import the Boston housing data set from scikit-learn.\n",
    "* Create a sample set of median housing prices using Pandas. Be sure to create samples of size 20.\n",
    "* Calculate the means and standard errors for each sample.\n",
    "* Create a plot displaying the means for each sample, with the standard error as error bars.\n",
    "* Calculate the range of SEM values across the sample set.\n",
    "* Determine which sample has the lowest standard error value.\n",
    "* Compare this sample's mean to the population's mean.\n",
    "* Rerun your sampling code a few times to generate new sample sets. Try changing the sample size and rerunning the sampling code.\n",
    "* Discuss with your partner what changes you observe when sample size changes."
   ]
  },
  {
   "cell_type": "code",
   "execution_count": 38,
   "metadata": {},
   "outputs": [],
   "source": [
    "%matplotlib notebook"
   ]
  },
  {
   "cell_type": "code",
   "execution_count": 39,
   "metadata": {},
   "outputs": [],
   "source": [
    "# Dependencies\n",
    "from matplotlib import pyplot as plt\n",
    "import numpy as np\n",
    "import pandas as pd\n",
    "from sklearn.datasets import load_boston\n",
    "from scipy.stats import sem"
   ]
  },
  {
   "cell_type": "code",
   "execution_count": 40,
   "metadata": {},
   "outputs": [],
   "source": [
    "# Import the Boston housing data set and get description\n",
    "boston_dataset = load_boston()\n"
   ]
  },
  {
   "cell_type": "code",
   "execution_count": 41,
   "metadata": {},
   "outputs": [
    {
     "data": {
      "text/html": [
       "<div>\n",
       "<style scoped>\n",
       "    .dataframe tbody tr th:only-of-type {\n",
       "        vertical-align: middle;\n",
       "    }\n",
       "\n",
       "    .dataframe tbody tr th {\n",
       "        vertical-align: top;\n",
       "    }\n",
       "\n",
       "    .dataframe thead th {\n",
       "        text-align: right;\n",
       "    }\n",
       "</style>\n",
       "<table border=\"1\" class=\"dataframe\">\n",
       "  <thead>\n",
       "    <tr style=\"text-align: right;\">\n",
       "      <th></th>\n",
       "      <th>CRIM</th>\n",
       "      <th>ZN</th>\n",
       "      <th>INDUS</th>\n",
       "      <th>CHAS</th>\n",
       "      <th>NOX</th>\n",
       "      <th>RM</th>\n",
       "      <th>AGE</th>\n",
       "      <th>DIS</th>\n",
       "      <th>RAD</th>\n",
       "      <th>TAX</th>\n",
       "      <th>PTRATIO</th>\n",
       "      <th>B</th>\n",
       "      <th>LSTAT</th>\n",
       "      <th>MEDV</th>\n",
       "    </tr>\n",
       "  </thead>\n",
       "  <tbody>\n",
       "    <tr>\n",
       "      <th>0</th>\n",
       "      <td>0.00632</td>\n",
       "      <td>18.0</td>\n",
       "      <td>2.31</td>\n",
       "      <td>0.0</td>\n",
       "      <td>0.538</td>\n",
       "      <td>6.575</td>\n",
       "      <td>65.2</td>\n",
       "      <td>4.0900</td>\n",
       "      <td>1.0</td>\n",
       "      <td>296.0</td>\n",
       "      <td>15.3</td>\n",
       "      <td>396.90</td>\n",
       "      <td>4.98</td>\n",
       "      <td>24.0</td>\n",
       "    </tr>\n",
       "    <tr>\n",
       "      <th>1</th>\n",
       "      <td>0.02731</td>\n",
       "      <td>0.0</td>\n",
       "      <td>7.07</td>\n",
       "      <td>0.0</td>\n",
       "      <td>0.469</td>\n",
       "      <td>6.421</td>\n",
       "      <td>78.9</td>\n",
       "      <td>4.9671</td>\n",
       "      <td>2.0</td>\n",
       "      <td>242.0</td>\n",
       "      <td>17.8</td>\n",
       "      <td>396.90</td>\n",
       "      <td>9.14</td>\n",
       "      <td>21.6</td>\n",
       "    </tr>\n",
       "    <tr>\n",
       "      <th>2</th>\n",
       "      <td>0.02729</td>\n",
       "      <td>0.0</td>\n",
       "      <td>7.07</td>\n",
       "      <td>0.0</td>\n",
       "      <td>0.469</td>\n",
       "      <td>7.185</td>\n",
       "      <td>61.1</td>\n",
       "      <td>4.9671</td>\n",
       "      <td>2.0</td>\n",
       "      <td>242.0</td>\n",
       "      <td>17.8</td>\n",
       "      <td>392.83</td>\n",
       "      <td>4.03</td>\n",
       "      <td>34.7</td>\n",
       "    </tr>\n",
       "    <tr>\n",
       "      <th>3</th>\n",
       "      <td>0.03237</td>\n",
       "      <td>0.0</td>\n",
       "      <td>2.18</td>\n",
       "      <td>0.0</td>\n",
       "      <td>0.458</td>\n",
       "      <td>6.998</td>\n",
       "      <td>45.8</td>\n",
       "      <td>6.0622</td>\n",
       "      <td>3.0</td>\n",
       "      <td>222.0</td>\n",
       "      <td>18.7</td>\n",
       "      <td>394.63</td>\n",
       "      <td>2.94</td>\n",
       "      <td>33.4</td>\n",
       "    </tr>\n",
       "    <tr>\n",
       "      <th>4</th>\n",
       "      <td>0.06905</td>\n",
       "      <td>0.0</td>\n",
       "      <td>2.18</td>\n",
       "      <td>0.0</td>\n",
       "      <td>0.458</td>\n",
       "      <td>7.147</td>\n",
       "      <td>54.2</td>\n",
       "      <td>6.0622</td>\n",
       "      <td>3.0</td>\n",
       "      <td>222.0</td>\n",
       "      <td>18.7</td>\n",
       "      <td>396.90</td>\n",
       "      <td>5.33</td>\n",
       "      <td>36.2</td>\n",
       "    </tr>\n",
       "  </tbody>\n",
       "</table>\n",
       "</div>"
      ],
      "text/plain": [
       "      CRIM    ZN  INDUS  CHAS    NOX     RM   AGE     DIS  RAD    TAX  \\\n",
       "0  0.00632  18.0   2.31   0.0  0.538  6.575  65.2  4.0900  1.0  296.0   \n",
       "1  0.02731   0.0   7.07   0.0  0.469  6.421  78.9  4.9671  2.0  242.0   \n",
       "2  0.02729   0.0   7.07   0.0  0.469  7.185  61.1  4.9671  2.0  242.0   \n",
       "3  0.03237   0.0   2.18   0.0  0.458  6.998  45.8  6.0622  3.0  222.0   \n",
       "4  0.06905   0.0   2.18   0.0  0.458  7.147  54.2  6.0622  3.0  222.0   \n",
       "\n",
       "   PTRATIO       B  LSTAT  MEDV  \n",
       "0     15.3  396.90   4.98  24.0  \n",
       "1     17.8  396.90   9.14  21.6  \n",
       "2     17.8  392.83   4.03  34.7  \n",
       "3     18.7  394.63   2.94  33.4  \n",
       "4     18.7  396.90   5.33  36.2  "
      ]
     },
     "execution_count": 41,
     "metadata": {},
     "output_type": "execute_result"
    }
   ],
   "source": [
    "# Read Boston housing data into a Pandas dataframe\n",
    "housing_data = pd.DataFrame(data=boston_dataset.data,columns=boston_dataset.feature_names)\n",
    "housing_data['MEDV'] = boston_dataset.target\n",
    "housing_data.head()"
   ]
  },
  {
   "cell_type": "code",
   "execution_count": 34,
   "metadata": {},
   "outputs": [],
   "source": [
    "# Create a bunch of samples, each with sample size of 20\n",
    "\n"
   ]
  },
  {
   "cell_type": "code",
   "execution_count": 35,
   "metadata": {},
   "outputs": [],
   "source": [
    "# Calculate standard error of means\n",
    "# Calculate means\n",
    "\n",
    "# Calculate standard error on means\n",
    "\n"
   ]
  },
  {
   "cell_type": "code",
   "execution_count": 36,
   "metadata": {},
   "outputs": [
    {
     "data": {
      "application/javascript": [
       "/* Put everything inside the global mpl namespace */\n",
       "window.mpl = {};\n",
       "\n",
       "\n",
       "mpl.get_websocket_type = function() {\n",
       "    if (typeof(WebSocket) !== 'undefined') {\n",
       "        return WebSocket;\n",
       "    } else if (typeof(MozWebSocket) !== 'undefined') {\n",
       "        return MozWebSocket;\n",
       "    } else {\n",
       "        alert('Your browser does not have WebSocket support. ' +\n",
       "              'Please try Chrome, Safari or Firefox ≥ 6. ' +\n",
       "              'Firefox 4 and 5 are also supported but you ' +\n",
       "              'have to enable WebSockets in about:config.');\n",
       "    };\n",
       "}\n",
       "\n",
       "mpl.figure = function(figure_id, websocket, ondownload, parent_element) {\n",
       "    this.id = figure_id;\n",
       "\n",
       "    this.ws = websocket;\n",
       "\n",
       "    this.supports_binary = (this.ws.binaryType != undefined);\n",
       "\n",
       "    if (!this.supports_binary) {\n",
       "        var warnings = document.getElementById(\"mpl-warnings\");\n",
       "        if (warnings) {\n",
       "            warnings.style.display = 'block';\n",
       "            warnings.textContent = (\n",
       "                \"This browser does not support binary websocket messages. \" +\n",
       "                    \"Performance may be slow.\");\n",
       "        }\n",
       "    }\n",
       "\n",
       "    this.imageObj = new Image();\n",
       "\n",
       "    this.context = undefined;\n",
       "    this.message = undefined;\n",
       "    this.canvas = undefined;\n",
       "    this.rubberband_canvas = undefined;\n",
       "    this.rubberband_context = undefined;\n",
       "    this.format_dropdown = undefined;\n",
       "\n",
       "    this.image_mode = 'full';\n",
       "\n",
       "    this.root = $('<div/>');\n",
       "    this._root_extra_style(this.root)\n",
       "    this.root.attr('style', 'display: inline-block');\n",
       "\n",
       "    $(parent_element).append(this.root);\n",
       "\n",
       "    this._init_header(this);\n",
       "    this._init_canvas(this);\n",
       "    this._init_toolbar(this);\n",
       "\n",
       "    var fig = this;\n",
       "\n",
       "    this.waiting = false;\n",
       "\n",
       "    this.ws.onopen =  function () {\n",
       "            fig.send_message(\"supports_binary\", {value: fig.supports_binary});\n",
       "            fig.send_message(\"send_image_mode\", {});\n",
       "            if (mpl.ratio != 1) {\n",
       "                fig.send_message(\"set_dpi_ratio\", {'dpi_ratio': mpl.ratio});\n",
       "            }\n",
       "            fig.send_message(\"refresh\", {});\n",
       "        }\n",
       "\n",
       "    this.imageObj.onload = function() {\n",
       "            if (fig.image_mode == 'full') {\n",
       "                // Full images could contain transparency (where diff images\n",
       "                // almost always do), so we need to clear the canvas so that\n",
       "                // there is no ghosting.\n",
       "                fig.context.clearRect(0, 0, fig.canvas.width, fig.canvas.height);\n",
       "            }\n",
       "            fig.context.drawImage(fig.imageObj, 0, 0);\n",
       "        };\n",
       "\n",
       "    this.imageObj.onunload = function() {\n",
       "        fig.ws.close();\n",
       "    }\n",
       "\n",
       "    this.ws.onmessage = this._make_on_message_function(this);\n",
       "\n",
       "    this.ondownload = ondownload;\n",
       "}\n",
       "\n",
       "mpl.figure.prototype._init_header = function() {\n",
       "    var titlebar = $(\n",
       "        '<div class=\"ui-dialog-titlebar ui-widget-header ui-corner-all ' +\n",
       "        'ui-helper-clearfix\"/>');\n",
       "    var titletext = $(\n",
       "        '<div class=\"ui-dialog-title\" style=\"width: 100%; ' +\n",
       "        'text-align: center; padding: 3px;\"/>');\n",
       "    titlebar.append(titletext)\n",
       "    this.root.append(titlebar);\n",
       "    this.header = titletext[0];\n",
       "}\n",
       "\n",
       "\n",
       "\n",
       "mpl.figure.prototype._canvas_extra_style = function(canvas_div) {\n",
       "\n",
       "}\n",
       "\n",
       "\n",
       "mpl.figure.prototype._root_extra_style = function(canvas_div) {\n",
       "\n",
       "}\n",
       "\n",
       "mpl.figure.prototype._init_canvas = function() {\n",
       "    var fig = this;\n",
       "\n",
       "    var canvas_div = $('<div/>');\n",
       "\n",
       "    canvas_div.attr('style', 'position: relative; clear: both; outline: 0');\n",
       "\n",
       "    function canvas_keyboard_event(event) {\n",
       "        return fig.key_event(event, event['data']);\n",
       "    }\n",
       "\n",
       "    canvas_div.keydown('key_press', canvas_keyboard_event);\n",
       "    canvas_div.keyup('key_release', canvas_keyboard_event);\n",
       "    this.canvas_div = canvas_div\n",
       "    this._canvas_extra_style(canvas_div)\n",
       "    this.root.append(canvas_div);\n",
       "\n",
       "    var canvas = $('<canvas/>');\n",
       "    canvas.addClass('mpl-canvas');\n",
       "    canvas.attr('style', \"left: 0; top: 0; z-index: 0; outline: 0\")\n",
       "\n",
       "    this.canvas = canvas[0];\n",
       "    this.context = canvas[0].getContext(\"2d\");\n",
       "\n",
       "    var backingStore = this.context.backingStorePixelRatio ||\n",
       "\tthis.context.webkitBackingStorePixelRatio ||\n",
       "\tthis.context.mozBackingStorePixelRatio ||\n",
       "\tthis.context.msBackingStorePixelRatio ||\n",
       "\tthis.context.oBackingStorePixelRatio ||\n",
       "\tthis.context.backingStorePixelRatio || 1;\n",
       "\n",
       "    mpl.ratio = (window.devicePixelRatio || 1) / backingStore;\n",
       "\n",
       "    var rubberband = $('<canvas/>');\n",
       "    rubberband.attr('style', \"position: absolute; left: 0; top: 0; z-index: 1;\")\n",
       "\n",
       "    var pass_mouse_events = true;\n",
       "\n",
       "    canvas_div.resizable({\n",
       "        start: function(event, ui) {\n",
       "            pass_mouse_events = false;\n",
       "        },\n",
       "        resize: function(event, ui) {\n",
       "            fig.request_resize(ui.size.width, ui.size.height);\n",
       "        },\n",
       "        stop: function(event, ui) {\n",
       "            pass_mouse_events = true;\n",
       "            fig.request_resize(ui.size.width, ui.size.height);\n",
       "        },\n",
       "    });\n",
       "\n",
       "    function mouse_event_fn(event) {\n",
       "        if (pass_mouse_events)\n",
       "            return fig.mouse_event(event, event['data']);\n",
       "    }\n",
       "\n",
       "    rubberband.mousedown('button_press', mouse_event_fn);\n",
       "    rubberband.mouseup('button_release', mouse_event_fn);\n",
       "    // Throttle sequential mouse events to 1 every 20ms.\n",
       "    rubberband.mousemove('motion_notify', mouse_event_fn);\n",
       "\n",
       "    rubberband.mouseenter('figure_enter', mouse_event_fn);\n",
       "    rubberband.mouseleave('figure_leave', mouse_event_fn);\n",
       "\n",
       "    canvas_div.on(\"wheel\", function (event) {\n",
       "        event = event.originalEvent;\n",
       "        event['data'] = 'scroll'\n",
       "        if (event.deltaY < 0) {\n",
       "            event.step = 1;\n",
       "        } else {\n",
       "            event.step = -1;\n",
       "        }\n",
       "        mouse_event_fn(event);\n",
       "    });\n",
       "\n",
       "    canvas_div.append(canvas);\n",
       "    canvas_div.append(rubberband);\n",
       "\n",
       "    this.rubberband = rubberband;\n",
       "    this.rubberband_canvas = rubberband[0];\n",
       "    this.rubberband_context = rubberband[0].getContext(\"2d\");\n",
       "    this.rubberband_context.strokeStyle = \"#000000\";\n",
       "\n",
       "    this._resize_canvas = function(width, height) {\n",
       "        // Keep the size of the canvas, canvas container, and rubber band\n",
       "        // canvas in synch.\n",
       "        canvas_div.css('width', width)\n",
       "        canvas_div.css('height', height)\n",
       "\n",
       "        canvas.attr('width', width * mpl.ratio);\n",
       "        canvas.attr('height', height * mpl.ratio);\n",
       "        canvas.attr('style', 'width: ' + width + 'px; height: ' + height + 'px;');\n",
       "\n",
       "        rubberband.attr('width', width);\n",
       "        rubberband.attr('height', height);\n",
       "    }\n",
       "\n",
       "    // Set the figure to an initial 600x600px, this will subsequently be updated\n",
       "    // upon first draw.\n",
       "    this._resize_canvas(600, 600);\n",
       "\n",
       "    // Disable right mouse context menu.\n",
       "    $(this.rubberband_canvas).bind(\"contextmenu\",function(e){\n",
       "        return false;\n",
       "    });\n",
       "\n",
       "    function set_focus () {\n",
       "        canvas.focus();\n",
       "        canvas_div.focus();\n",
       "    }\n",
       "\n",
       "    window.setTimeout(set_focus, 100);\n",
       "}\n",
       "\n",
       "mpl.figure.prototype._init_toolbar = function() {\n",
       "    var fig = this;\n",
       "\n",
       "    var nav_element = $('<div/>');\n",
       "    nav_element.attr('style', 'width: 100%');\n",
       "    this.root.append(nav_element);\n",
       "\n",
       "    // Define a callback function for later on.\n",
       "    function toolbar_event(event) {\n",
       "        return fig.toolbar_button_onclick(event['data']);\n",
       "    }\n",
       "    function toolbar_mouse_event(event) {\n",
       "        return fig.toolbar_button_onmouseover(event['data']);\n",
       "    }\n",
       "\n",
       "    for(var toolbar_ind in mpl.toolbar_items) {\n",
       "        var name = mpl.toolbar_items[toolbar_ind][0];\n",
       "        var tooltip = mpl.toolbar_items[toolbar_ind][1];\n",
       "        var image = mpl.toolbar_items[toolbar_ind][2];\n",
       "        var method_name = mpl.toolbar_items[toolbar_ind][3];\n",
       "\n",
       "        if (!name) {\n",
       "            // put a spacer in here.\n",
       "            continue;\n",
       "        }\n",
       "        var button = $('<button/>');\n",
       "        button.addClass('ui-button ui-widget ui-state-default ui-corner-all ' +\n",
       "                        'ui-button-icon-only');\n",
       "        button.attr('role', 'button');\n",
       "        button.attr('aria-disabled', 'false');\n",
       "        button.click(method_name, toolbar_event);\n",
       "        button.mouseover(tooltip, toolbar_mouse_event);\n",
       "\n",
       "        var icon_img = $('<span/>');\n",
       "        icon_img.addClass('ui-button-icon-primary ui-icon');\n",
       "        icon_img.addClass(image);\n",
       "        icon_img.addClass('ui-corner-all');\n",
       "\n",
       "        var tooltip_span = $('<span/>');\n",
       "        tooltip_span.addClass('ui-button-text');\n",
       "        tooltip_span.html(tooltip);\n",
       "\n",
       "        button.append(icon_img);\n",
       "        button.append(tooltip_span);\n",
       "\n",
       "        nav_element.append(button);\n",
       "    }\n",
       "\n",
       "    var fmt_picker_span = $('<span/>');\n",
       "\n",
       "    var fmt_picker = $('<select/>');\n",
       "    fmt_picker.addClass('mpl-toolbar-option ui-widget ui-widget-content');\n",
       "    fmt_picker_span.append(fmt_picker);\n",
       "    nav_element.append(fmt_picker_span);\n",
       "    this.format_dropdown = fmt_picker[0];\n",
       "\n",
       "    for (var ind in mpl.extensions) {\n",
       "        var fmt = mpl.extensions[ind];\n",
       "        var option = $(\n",
       "            '<option/>', {selected: fmt === mpl.default_extension}).html(fmt);\n",
       "        fmt_picker.append(option);\n",
       "    }\n",
       "\n",
       "    // Add hover states to the ui-buttons\n",
       "    $( \".ui-button\" ).hover(\n",
       "        function() { $(this).addClass(\"ui-state-hover\");},\n",
       "        function() { $(this).removeClass(\"ui-state-hover\");}\n",
       "    );\n",
       "\n",
       "    var status_bar = $('<span class=\"mpl-message\"/>');\n",
       "    nav_element.append(status_bar);\n",
       "    this.message = status_bar[0];\n",
       "}\n",
       "\n",
       "mpl.figure.prototype.request_resize = function(x_pixels, y_pixels) {\n",
       "    // Request matplotlib to resize the figure. Matplotlib will then trigger a resize in the client,\n",
       "    // which will in turn request a refresh of the image.\n",
       "    this.send_message('resize', {'width': x_pixels, 'height': y_pixels});\n",
       "}\n",
       "\n",
       "mpl.figure.prototype.send_message = function(type, properties) {\n",
       "    properties['type'] = type;\n",
       "    properties['figure_id'] = this.id;\n",
       "    this.ws.send(JSON.stringify(properties));\n",
       "}\n",
       "\n",
       "mpl.figure.prototype.send_draw_message = function() {\n",
       "    if (!this.waiting) {\n",
       "        this.waiting = true;\n",
       "        this.ws.send(JSON.stringify({type: \"draw\", figure_id: this.id}));\n",
       "    }\n",
       "}\n",
       "\n",
       "\n",
       "mpl.figure.prototype.handle_save = function(fig, msg) {\n",
       "    var format_dropdown = fig.format_dropdown;\n",
       "    var format = format_dropdown.options[format_dropdown.selectedIndex].value;\n",
       "    fig.ondownload(fig, format);\n",
       "}\n",
       "\n",
       "\n",
       "mpl.figure.prototype.handle_resize = function(fig, msg) {\n",
       "    var size = msg['size'];\n",
       "    if (size[0] != fig.canvas.width || size[1] != fig.canvas.height) {\n",
       "        fig._resize_canvas(size[0], size[1]);\n",
       "        fig.send_message(\"refresh\", {});\n",
       "    };\n",
       "}\n",
       "\n",
       "mpl.figure.prototype.handle_rubberband = function(fig, msg) {\n",
       "    var x0 = msg['x0'] / mpl.ratio;\n",
       "    var y0 = (fig.canvas.height - msg['y0']) / mpl.ratio;\n",
       "    var x1 = msg['x1'] / mpl.ratio;\n",
       "    var y1 = (fig.canvas.height - msg['y1']) / mpl.ratio;\n",
       "    x0 = Math.floor(x0) + 0.5;\n",
       "    y0 = Math.floor(y0) + 0.5;\n",
       "    x1 = Math.floor(x1) + 0.5;\n",
       "    y1 = Math.floor(y1) + 0.5;\n",
       "    var min_x = Math.min(x0, x1);\n",
       "    var min_y = Math.min(y0, y1);\n",
       "    var width = Math.abs(x1 - x0);\n",
       "    var height = Math.abs(y1 - y0);\n",
       "\n",
       "    fig.rubberband_context.clearRect(\n",
       "        0, 0, fig.canvas.width / mpl.ratio, fig.canvas.height / mpl.ratio);\n",
       "\n",
       "    fig.rubberband_context.strokeRect(min_x, min_y, width, height);\n",
       "}\n",
       "\n",
       "mpl.figure.prototype.handle_figure_label = function(fig, msg) {\n",
       "    // Updates the figure title.\n",
       "    fig.header.textContent = msg['label'];\n",
       "}\n",
       "\n",
       "mpl.figure.prototype.handle_cursor = function(fig, msg) {\n",
       "    var cursor = msg['cursor'];\n",
       "    switch(cursor)\n",
       "    {\n",
       "    case 0:\n",
       "        cursor = 'pointer';\n",
       "        break;\n",
       "    case 1:\n",
       "        cursor = 'default';\n",
       "        break;\n",
       "    case 2:\n",
       "        cursor = 'crosshair';\n",
       "        break;\n",
       "    case 3:\n",
       "        cursor = 'move';\n",
       "        break;\n",
       "    }\n",
       "    fig.rubberband_canvas.style.cursor = cursor;\n",
       "}\n",
       "\n",
       "mpl.figure.prototype.handle_message = function(fig, msg) {\n",
       "    fig.message.textContent = msg['message'];\n",
       "}\n",
       "\n",
       "mpl.figure.prototype.handle_draw = function(fig, msg) {\n",
       "    // Request the server to send over a new figure.\n",
       "    fig.send_draw_message();\n",
       "}\n",
       "\n",
       "mpl.figure.prototype.handle_image_mode = function(fig, msg) {\n",
       "    fig.image_mode = msg['mode'];\n",
       "}\n",
       "\n",
       "mpl.figure.prototype.updated_canvas_event = function() {\n",
       "    // Called whenever the canvas gets updated.\n",
       "    this.send_message(\"ack\", {});\n",
       "}\n",
       "\n",
       "// A function to construct a web socket function for onmessage handling.\n",
       "// Called in the figure constructor.\n",
       "mpl.figure.prototype._make_on_message_function = function(fig) {\n",
       "    return function socket_on_message(evt) {\n",
       "        if (evt.data instanceof Blob) {\n",
       "            /* FIXME: We get \"Resource interpreted as Image but\n",
       "             * transferred with MIME type text/plain:\" errors on\n",
       "             * Chrome.  But how to set the MIME type?  It doesn't seem\n",
       "             * to be part of the websocket stream */\n",
       "            evt.data.type = \"image/png\";\n",
       "\n",
       "            /* Free the memory for the previous frames */\n",
       "            if (fig.imageObj.src) {\n",
       "                (window.URL || window.webkitURL).revokeObjectURL(\n",
       "                    fig.imageObj.src);\n",
       "            }\n",
       "\n",
       "            fig.imageObj.src = (window.URL || window.webkitURL).createObjectURL(\n",
       "                evt.data);\n",
       "            fig.updated_canvas_event();\n",
       "            fig.waiting = false;\n",
       "            return;\n",
       "        }\n",
       "        else if (typeof evt.data === 'string' && evt.data.slice(0, 21) == \"data:image/png;base64\") {\n",
       "            fig.imageObj.src = evt.data;\n",
       "            fig.updated_canvas_event();\n",
       "            fig.waiting = false;\n",
       "            return;\n",
       "        }\n",
       "\n",
       "        var msg = JSON.parse(evt.data);\n",
       "        var msg_type = msg['type'];\n",
       "\n",
       "        // Call the  \"handle_{type}\" callback, which takes\n",
       "        // the figure and JSON message as its only arguments.\n",
       "        try {\n",
       "            var callback = fig[\"handle_\" + msg_type];\n",
       "        } catch (e) {\n",
       "            console.log(\"No handler for the '\" + msg_type + \"' message type: \", msg);\n",
       "            return;\n",
       "        }\n",
       "\n",
       "        if (callback) {\n",
       "            try {\n",
       "                // console.log(\"Handling '\" + msg_type + \"' message: \", msg);\n",
       "                callback(fig, msg);\n",
       "            } catch (e) {\n",
       "                console.log(\"Exception inside the 'handler_\" + msg_type + \"' callback:\", e, e.stack, msg);\n",
       "            }\n",
       "        }\n",
       "    };\n",
       "}\n",
       "\n",
       "// from http://stackoverflow.com/questions/1114465/getting-mouse-location-in-canvas\n",
       "mpl.findpos = function(e) {\n",
       "    //this section is from http://www.quirksmode.org/js/events_properties.html\n",
       "    var targ;\n",
       "    if (!e)\n",
       "        e = window.event;\n",
       "    if (e.target)\n",
       "        targ = e.target;\n",
       "    else if (e.srcElement)\n",
       "        targ = e.srcElement;\n",
       "    if (targ.nodeType == 3) // defeat Safari bug\n",
       "        targ = targ.parentNode;\n",
       "\n",
       "    // jQuery normalizes the pageX and pageY\n",
       "    // pageX,Y are the mouse positions relative to the document\n",
       "    // offset() returns the position of the element relative to the document\n",
       "    var x = e.pageX - $(targ).offset().left;\n",
       "    var y = e.pageY - $(targ).offset().top;\n",
       "\n",
       "    return {\"x\": x, \"y\": y};\n",
       "};\n",
       "\n",
       "/*\n",
       " * return a copy of an object with only non-object keys\n",
       " * we need this to avoid circular references\n",
       " * http://stackoverflow.com/a/24161582/3208463\n",
       " */\n",
       "function simpleKeys (original) {\n",
       "  return Object.keys(original).reduce(function (obj, key) {\n",
       "    if (typeof original[key] !== 'object')\n",
       "        obj[key] = original[key]\n",
       "    return obj;\n",
       "  }, {});\n",
       "}\n",
       "\n",
       "mpl.figure.prototype.mouse_event = function(event, name) {\n",
       "    var canvas_pos = mpl.findpos(event)\n",
       "\n",
       "    if (name === 'button_press')\n",
       "    {\n",
       "        this.canvas.focus();\n",
       "        this.canvas_div.focus();\n",
       "    }\n",
       "\n",
       "    var x = canvas_pos.x * mpl.ratio;\n",
       "    var y = canvas_pos.y * mpl.ratio;\n",
       "\n",
       "    this.send_message(name, {x: x, y: y, button: event.button,\n",
       "                             step: event.step,\n",
       "                             guiEvent: simpleKeys(event)});\n",
       "\n",
       "    /* This prevents the web browser from automatically changing to\n",
       "     * the text insertion cursor when the button is pressed.  We want\n",
       "     * to control all of the cursor setting manually through the\n",
       "     * 'cursor' event from matplotlib */\n",
       "    event.preventDefault();\n",
       "    return false;\n",
       "}\n",
       "\n",
       "mpl.figure.prototype._key_event_extra = function(event, name) {\n",
       "    // Handle any extra behaviour associated with a key event\n",
       "}\n",
       "\n",
       "mpl.figure.prototype.key_event = function(event, name) {\n",
       "\n",
       "    // Prevent repeat events\n",
       "    if (name == 'key_press')\n",
       "    {\n",
       "        if (event.which === this._key)\n",
       "            return;\n",
       "        else\n",
       "            this._key = event.which;\n",
       "    }\n",
       "    if (name == 'key_release')\n",
       "        this._key = null;\n",
       "\n",
       "    var value = '';\n",
       "    if (event.ctrlKey && event.which != 17)\n",
       "        value += \"ctrl+\";\n",
       "    if (event.altKey && event.which != 18)\n",
       "        value += \"alt+\";\n",
       "    if (event.shiftKey && event.which != 16)\n",
       "        value += \"shift+\";\n",
       "\n",
       "    value += 'k';\n",
       "    value += event.which.toString();\n",
       "\n",
       "    this._key_event_extra(event, name);\n",
       "\n",
       "    this.send_message(name, {key: value,\n",
       "                             guiEvent: simpleKeys(event)});\n",
       "    return false;\n",
       "}\n",
       "\n",
       "mpl.figure.prototype.toolbar_button_onclick = function(name) {\n",
       "    if (name == 'download') {\n",
       "        this.handle_save(this, null);\n",
       "    } else {\n",
       "        this.send_message(\"toolbar_button\", {name: name});\n",
       "    }\n",
       "};\n",
       "\n",
       "mpl.figure.prototype.toolbar_button_onmouseover = function(tooltip) {\n",
       "    this.message.textContent = tooltip;\n",
       "};\n",
       "mpl.toolbar_items = [[\"Home\", \"Reset original view\", \"fa fa-home icon-home\", \"home\"], [\"Back\", \"Back to previous view\", \"fa fa-arrow-left icon-arrow-left\", \"back\"], [\"Forward\", \"Forward to next view\", \"fa fa-arrow-right icon-arrow-right\", \"forward\"], [\"\", \"\", \"\", \"\"], [\"Pan\", \"Pan axes with left mouse, zoom with right\", \"fa fa-arrows icon-move\", \"pan\"], [\"Zoom\", \"Zoom to rectangle\", \"fa fa-square-o icon-check-empty\", \"zoom\"], [\"\", \"\", \"\", \"\"], [\"Download\", \"Download plot\", \"fa fa-floppy-o icon-save\", \"download\"]];\n",
       "\n",
       "mpl.extensions = [\"eps\", \"jpeg\", \"pdf\", \"png\", \"ps\", \"raw\", \"svg\", \"tif\"];\n",
       "\n",
       "mpl.default_extension = \"png\";var comm_websocket_adapter = function(comm) {\n",
       "    // Create a \"websocket\"-like object which calls the given IPython comm\n",
       "    // object with the appropriate methods. Currently this is a non binary\n",
       "    // socket, so there is still some room for performance tuning.\n",
       "    var ws = {};\n",
       "\n",
       "    ws.close = function() {\n",
       "        comm.close()\n",
       "    };\n",
       "    ws.send = function(m) {\n",
       "        //console.log('sending', m);\n",
       "        comm.send(m);\n",
       "    };\n",
       "    // Register the callback with on_msg.\n",
       "    comm.on_msg(function(msg) {\n",
       "        //console.log('receiving', msg['content']['data'], msg);\n",
       "        // Pass the mpl event to the overridden (by mpl) onmessage function.\n",
       "        ws.onmessage(msg['content']['data'])\n",
       "    });\n",
       "    return ws;\n",
       "}\n",
       "\n",
       "mpl.mpl_figure_comm = function(comm, msg) {\n",
       "    // This is the function which gets called when the mpl process\n",
       "    // starts-up an IPython Comm through the \"matplotlib\" channel.\n",
       "\n",
       "    var id = msg.content.data.id;\n",
       "    // Get hold of the div created by the display call when the Comm\n",
       "    // socket was opened in Python.\n",
       "    var element = $(\"#\" + id);\n",
       "    var ws_proxy = comm_websocket_adapter(comm)\n",
       "\n",
       "    function ondownload(figure, format) {\n",
       "        window.open(figure.imageObj.src);\n",
       "    }\n",
       "\n",
       "    var fig = new mpl.figure(id, ws_proxy,\n",
       "                           ondownload,\n",
       "                           element.get(0));\n",
       "\n",
       "    // Call onopen now - mpl needs it, as it is assuming we've passed it a real\n",
       "    // web socket which is closed, not our websocket->open comm proxy.\n",
       "    ws_proxy.onopen();\n",
       "\n",
       "    fig.parent_element = element.get(0);\n",
       "    fig.cell_info = mpl.find_output_cell(\"<div id='\" + id + \"'></div>\");\n",
       "    if (!fig.cell_info) {\n",
       "        console.error(\"Failed to find cell for figure\", id, fig);\n",
       "        return;\n",
       "    }\n",
       "\n",
       "    var output_index = fig.cell_info[2]\n",
       "    var cell = fig.cell_info[0];\n",
       "\n",
       "};\n",
       "\n",
       "mpl.figure.prototype.handle_close = function(fig, msg) {\n",
       "    var width = fig.canvas.width/mpl.ratio\n",
       "    fig.root.unbind('remove')\n",
       "\n",
       "    // Update the output cell to use the data from the current canvas.\n",
       "    fig.push_to_output();\n",
       "    var dataURL = fig.canvas.toDataURL();\n",
       "    // Re-enable the keyboard manager in IPython - without this line, in FF,\n",
       "    // the notebook keyboard shortcuts fail.\n",
       "    IPython.keyboard_manager.enable()\n",
       "    $(fig.parent_element).html('<img src=\"' + dataURL + '\" width=\"' + width + '\">');\n",
       "    fig.close_ws(fig, msg);\n",
       "}\n",
       "\n",
       "mpl.figure.prototype.close_ws = function(fig, msg){\n",
       "    fig.send_message('closing', msg);\n",
       "    // fig.ws.close()\n",
       "}\n",
       "\n",
       "mpl.figure.prototype.push_to_output = function(remove_interactive) {\n",
       "    // Turn the data on the canvas into data in the output cell.\n",
       "    var width = this.canvas.width/mpl.ratio\n",
       "    var dataURL = this.canvas.toDataURL();\n",
       "    this.cell_info[1]['text/html'] = '<img src=\"' + dataURL + '\" width=\"' + width + '\">';\n",
       "}\n",
       "\n",
       "mpl.figure.prototype.updated_canvas_event = function() {\n",
       "    // Tell IPython that the notebook contents must change.\n",
       "    IPython.notebook.set_dirty(true);\n",
       "    this.send_message(\"ack\", {});\n",
       "    var fig = this;\n",
       "    // Wait a second, then push the new image to the DOM so\n",
       "    // that it is saved nicely (might be nice to debounce this).\n",
       "    setTimeout(function () { fig.push_to_output() }, 1000);\n",
       "}\n",
       "\n",
       "mpl.figure.prototype._init_toolbar = function() {\n",
       "    var fig = this;\n",
       "\n",
       "    var nav_element = $('<div/>');\n",
       "    nav_element.attr('style', 'width: 100%');\n",
       "    this.root.append(nav_element);\n",
       "\n",
       "    // Define a callback function for later on.\n",
       "    function toolbar_event(event) {\n",
       "        return fig.toolbar_button_onclick(event['data']);\n",
       "    }\n",
       "    function toolbar_mouse_event(event) {\n",
       "        return fig.toolbar_button_onmouseover(event['data']);\n",
       "    }\n",
       "\n",
       "    for(var toolbar_ind in mpl.toolbar_items){\n",
       "        var name = mpl.toolbar_items[toolbar_ind][0];\n",
       "        var tooltip = mpl.toolbar_items[toolbar_ind][1];\n",
       "        var image = mpl.toolbar_items[toolbar_ind][2];\n",
       "        var method_name = mpl.toolbar_items[toolbar_ind][3];\n",
       "\n",
       "        if (!name) { continue; };\n",
       "\n",
       "        var button = $('<button class=\"btn btn-default\" href=\"#\" title=\"' + name + '\"><i class=\"fa ' + image + ' fa-lg\"></i></button>');\n",
       "        button.click(method_name, toolbar_event);\n",
       "        button.mouseover(tooltip, toolbar_mouse_event);\n",
       "        nav_element.append(button);\n",
       "    }\n",
       "\n",
       "    // Add the status bar.\n",
       "    var status_bar = $('<span class=\"mpl-message\" style=\"text-align:right; float: right;\"/>');\n",
       "    nav_element.append(status_bar);\n",
       "    this.message = status_bar[0];\n",
       "\n",
       "    // Add the close button to the window.\n",
       "    var buttongrp = $('<div class=\"btn-group inline pull-right\"></div>');\n",
       "    var button = $('<button class=\"btn btn-mini btn-primary\" href=\"#\" title=\"Stop Interaction\"><i class=\"fa fa-power-off icon-remove icon-large\"></i></button>');\n",
       "    button.click(function (evt) { fig.handle_close(fig, {}); } );\n",
       "    button.mouseover('Stop Interaction', toolbar_mouse_event);\n",
       "    buttongrp.append(button);\n",
       "    var titlebar = this.root.find($('.ui-dialog-titlebar'));\n",
       "    titlebar.prepend(buttongrp);\n",
       "}\n",
       "\n",
       "mpl.figure.prototype._root_extra_style = function(el){\n",
       "    var fig = this\n",
       "    el.on(\"remove\", function(){\n",
       "\tfig.close_ws(fig, {});\n",
       "    });\n",
       "}\n",
       "\n",
       "mpl.figure.prototype._canvas_extra_style = function(el){\n",
       "    // this is important to make the div 'focusable\n",
       "    el.attr('tabindex', 0)\n",
       "    // reach out to IPython and tell the keyboard manager to turn it's self\n",
       "    // off when our div gets focus\n",
       "\n",
       "    // location in version 3\n",
       "    if (IPython.notebook.keyboard_manager) {\n",
       "        IPython.notebook.keyboard_manager.register_events(el);\n",
       "    }\n",
       "    else {\n",
       "        // location in version 2\n",
       "        IPython.keyboard_manager.register_events(el);\n",
       "    }\n",
       "\n",
       "}\n",
       "\n",
       "mpl.figure.prototype._key_event_extra = function(event, name) {\n",
       "    var manager = IPython.notebook.keyboard_manager;\n",
       "    if (!manager)\n",
       "        manager = IPython.keyboard_manager;\n",
       "\n",
       "    // Check for shift+enter\n",
       "    if (event.shiftKey && event.which == 13) {\n",
       "        this.canvas_div.blur();\n",
       "        // select the cell after this one\n",
       "        var index = IPython.notebook.find_cell_index(this.cell_info[0]);\n",
       "        IPython.notebook.select(index + 1);\n",
       "    }\n",
       "}\n",
       "\n",
       "mpl.figure.prototype.handle_save = function(fig, msg) {\n",
       "    fig.ondownload(fig, null);\n",
       "}\n",
       "\n",
       "\n",
       "mpl.find_output_cell = function(html_output) {\n",
       "    // Return the cell and output element which can be found *uniquely* in the notebook.\n",
       "    // Note - this is a bit hacky, but it is done because the \"notebook_saving.Notebook\"\n",
       "    // IPython event is triggered only after the cells have been serialised, which for\n",
       "    // our purposes (turning an active figure into a static one), is too late.\n",
       "    var cells = IPython.notebook.get_cells();\n",
       "    var ncells = cells.length;\n",
       "    for (var i=0; i<ncells; i++) {\n",
       "        var cell = cells[i];\n",
       "        if (cell.cell_type === 'code'){\n",
       "            for (var j=0; j<cell.output_area.outputs.length; j++) {\n",
       "                var data = cell.output_area.outputs[j];\n",
       "                if (data.data) {\n",
       "                    // IPython >= 3 moved mimebundle to data attribute of output\n",
       "                    data = data.data;\n",
       "                }\n",
       "                if (data['text/html'] == html_output) {\n",
       "                    return [cell, data, j];\n",
       "                }\n",
       "            }\n",
       "        }\n",
       "    }\n",
       "}\n",
       "\n",
       "// Register the function which deals with the matplotlib target/channel.\n",
       "// The kernel may be null if the page has been refreshed.\n",
       "if (IPython.notebook.kernel != null) {\n",
       "    IPython.notebook.kernel.comm_manager.register_target('matplotlib', mpl.mpl_figure_comm);\n",
       "}\n"
      ],
      "text/plain": [
       "<IPython.core.display.Javascript object>"
      ]
     },
     "metadata": {},
     "output_type": "display_data"
    },
    {
     "data": {
      "text/html": [
       "<img src=\"data:image/png;base64,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\" width=\"639.9166666666667\">"
      ],
      "text/plain": [
       "<IPython.core.display.HTML object>"
      ]
     },
     "metadata": {},
     "output_type": "display_data"
    }
   ],
   "source": [
    "# Plot sample means with error bars\n",
    "\n"
   ]
  },
  {
   "cell_type": "code",
   "execution_count": 37,
   "metadata": {},
   "outputs": [
    {
     "name": "stdout",
     "output_type": "stream",
     "text": [
      "The range of SEM values in the sample set is 1.7274826278558464\n"
     ]
    }
   ],
   "source": [
    "# Calculate the range of SEM values\n"
   ]
  },
  {
   "cell_type": "code",
   "execution_count": 38,
   "metadata": {},
   "outputs": [
    {
     "name": "stdout",
     "output_type": "stream",
     "text": [
      "The smallest SEM observed was 1.0203011681284162\n",
      "The sample with the smallest SEM is sample 3\n"
     ]
    }
   ],
   "source": [
    "# Determine which sample's mean is closest to the population mean\n",
    "\n"
   ]
  },
  {
   "cell_type": "code",
   "execution_count": 39,
   "metadata": {},
   "outputs": [
    {
     "name": "stdout",
     "output_type": "stream",
     "text": [
      "The mean of the sample 5 is 18.215\n",
      "The mean of the population data set is 22.532806324110698\n"
     ]
    }
   ],
   "source": [
    "# Compare to the population mean\n",
    "\n"
   ]
  },
  {
   "cell_type": "markdown",
   "metadata": {},
   "source": [
    "# =========================================="
   ]
  },
  {
   "cell_type": "markdown",
   "metadata": {},
   "source": [
    "## Break (0:30)"
   ]
  },
  {
   "cell_type": "markdown",
   "metadata": {},
   "source": [
    "# =========================================="
   ]
  },
  {
   "cell_type": "markdown",
   "metadata": {},
   "source": [
    "### 3.06 Instructor Do: Correlation Conundrum (15 min)"
   ]
  },
  {
   "cell_type": "markdown",
   "metadata": {},
   "source": [
    "**Correlation** describes the question, `Is there a relationship between A and B?`\n",
    "![correlations.png](Images/correlations.png)"
   ]
  },
  {
   "cell_type": "markdown",
   "metadata": {},
   "source": [
    "**Pearson's Correlation Coefficient**\n",
    "In statistics, we quantify correlation using **Pearson’s r**.\n",
    "* Pearson’s correlation coefficient describes the variability between two factors, denoted by the variable r.\n",
    "* Pearson’s r is –1 ≤ r ≤ 1\n",
    "  * –1 indicates perfect negative correlation.\n",
    "  * 1 indicates perfect positive correlation.\n",
    "  * 0 indicates no correlation.\n",
    "* Real-world data is never perfect."
   ]
  },
  {
   "cell_type": "code",
   "execution_count": 1,
   "metadata": {},
   "outputs": [],
   "source": [
    "# Dependencies\n",
    "import pandas as pd\n",
    "import matplotlib.pyplot as plt\n",
    "import scipy.stats as st"
   ]
  },
  {
   "cell_type": "code",
   "execution_count": 2,
   "metadata": {},
   "outputs": [
    {
     "data": {
      "text/html": [
       "<div>\n",
       "<style scoped>\n",
       "    .dataframe tbody tr th:only-of-type {\n",
       "        vertical-align: middle;\n",
       "    }\n",
       "\n",
       "    .dataframe tbody tr th {\n",
       "        vertical-align: top;\n",
       "    }\n",
       "\n",
       "    .dataframe thead th {\n",
       "        text-align: right;\n",
       "    }\n",
       "</style>\n",
       "<table border=\"1\" class=\"dataframe\">\n",
       "  <thead>\n",
       "    <tr style=\"text-align: right;\">\n",
       "      <th></th>\n",
       "      <th>Country</th>\n",
       "      <th>Income_Per_Capita</th>\n",
       "      <th>Population (in thousands) total</th>\n",
       "      <th>Population_Median_Age</th>\n",
       "      <th>Percent_Population_over_60</th>\n",
       "      <th>Percent_Goverment_Expenditure_on_Health</th>\n",
       "      <th>Female_Life_Expectancy</th>\n",
       "      <th>Male_Life_Expectancy</th>\n",
       "      <th>Liters_of_Alcohol (Avg. Per year per person)</th>\n",
       "      <th>Percent_Population_Access_To_Clean_Water</th>\n",
       "      <th>Cell_phones_per_100_people</th>\n",
       "      <th>Cell_phones_total</th>\n",
       "      <th>Measles_immunization</th>\n",
       "    </tr>\n",
       "  </thead>\n",
       "  <tbody>\n",
       "    <tr>\n",
       "      <th>1</th>\n",
       "      <td>Albania</td>\n",
       "      <td>6000.0</td>\n",
       "      <td>3172.0</td>\n",
       "      <td>29.0</td>\n",
       "      <td>13.0</td>\n",
       "      <td>11.3</td>\n",
       "      <td>63.0</td>\n",
       "      <td>59.0</td>\n",
       "      <td>2.01</td>\n",
       "      <td>97.0</td>\n",
       "      <td>48.9</td>\n",
       "      <td>1100000.0</td>\n",
       "      <td>97.0</td>\n",
       "    </tr>\n",
       "    <tr>\n",
       "      <th>2</th>\n",
       "      <td>Algeria</td>\n",
       "      <td>5940.0</td>\n",
       "      <td>33351.0</td>\n",
       "      <td>24.0</td>\n",
       "      <td>7.0</td>\n",
       "      <td>9.5</td>\n",
       "      <td>62.0</td>\n",
       "      <td>60.0</td>\n",
       "      <td>0.15</td>\n",
       "      <td>85.0</td>\n",
       "      <td>41.5</td>\n",
       "      <td>4682690.0</td>\n",
       "      <td>83.0</td>\n",
       "    </tr>\n",
       "    <tr>\n",
       "      <th>4</th>\n",
       "      <td>Angola</td>\n",
       "      <td>3890.0</td>\n",
       "      <td>16557.0</td>\n",
       "      <td>17.0</td>\n",
       "      <td>4.0</td>\n",
       "      <td>5.0</td>\n",
       "      <td>35.0</td>\n",
       "      <td>32.0</td>\n",
       "      <td>3.86</td>\n",
       "      <td>51.0</td>\n",
       "      <td>10.3</td>\n",
       "      <td>940000.0</td>\n",
       "      <td>45.0</td>\n",
       "    </tr>\n",
       "    <tr>\n",
       "      <th>6</th>\n",
       "      <td>Argentina</td>\n",
       "      <td>11670.0</td>\n",
       "      <td>39134.0</td>\n",
       "      <td>29.0</td>\n",
       "      <td>14.0</td>\n",
       "      <td>14.2</td>\n",
       "      <td>68.0</td>\n",
       "      <td>62.0</td>\n",
       "      <td>8.40</td>\n",
       "      <td>96.0</td>\n",
       "      <td>57.4</td>\n",
       "      <td>13500000.0</td>\n",
       "      <td>99.0</td>\n",
       "    </tr>\n",
       "    <tr>\n",
       "      <th>7</th>\n",
       "      <td>Armenia</td>\n",
       "      <td>4950.0</td>\n",
       "      <td>3010.0</td>\n",
       "      <td>32.0</td>\n",
       "      <td>14.0</td>\n",
       "      <td>9.7</td>\n",
       "      <td>63.0</td>\n",
       "      <td>59.0</td>\n",
       "      <td>1.48</td>\n",
       "      <td>98.0</td>\n",
       "      <td>10.5</td>\n",
       "      <td>203309.0</td>\n",
       "      <td>94.0</td>\n",
       "    </tr>\n",
       "  </tbody>\n",
       "</table>\n",
       "</div>"
      ],
      "text/plain": [
       "     Country  Income_Per_Capita  Population (in thousands) total  \\\n",
       "1    Albania             6000.0                           3172.0   \n",
       "2    Algeria             5940.0                          33351.0   \n",
       "4     Angola             3890.0                          16557.0   \n",
       "6  Argentina            11670.0                          39134.0   \n",
       "7    Armenia             4950.0                           3010.0   \n",
       "\n",
       "   Population_Median_Age  Percent_Population_over_60  \\\n",
       "1                   29.0                        13.0   \n",
       "2                   24.0                         7.0   \n",
       "4                   17.0                         4.0   \n",
       "6                   29.0                        14.0   \n",
       "7                   32.0                        14.0   \n",
       "\n",
       "   Percent_Goverment_Expenditure_on_Health  Female_Life_Expectancy  \\\n",
       "1                                     11.3                    63.0   \n",
       "2                                      9.5                    62.0   \n",
       "4                                      5.0                    35.0   \n",
       "6                                     14.2                    68.0   \n",
       "7                                      9.7                    63.0   \n",
       "\n",
       "   Male_Life_Expectancy  Liters_of_Alcohol (Avg. Per year per person)  \\\n",
       "1                  59.0                                          2.01   \n",
       "2                  60.0                                          0.15   \n",
       "4                  32.0                                          3.86   \n",
       "6                  62.0                                          8.40   \n",
       "7                  59.0                                          1.48   \n",
       "\n",
       "   Percent_Population_Access_To_Clean_Water  Cell_phones_per_100_people  \\\n",
       "1                                      97.0                        48.9   \n",
       "2                                      85.0                        41.5   \n",
       "4                                      51.0                        10.3   \n",
       "6                                      96.0                        57.4   \n",
       "7                                      98.0                        10.5   \n",
       "\n",
       "   Cell_phones_total  Measles_immunization  \n",
       "1          1100000.0                  97.0  \n",
       "2          4682690.0                  83.0  \n",
       "4           940000.0                  45.0  \n",
       "6         13500000.0                  99.0  \n",
       "7           203309.0                  94.0  "
      ]
     },
     "execution_count": 2,
     "metadata": {},
     "output_type": "execute_result"
    }
   ],
   "source": [
    "# Import the WHO dataset, drop missing data\n",
    "who_data = pd.read_csv('06-Ins_Correlation_Conundrum/Resources/WHO_data.csv')\n",
    "who_data = who_data.dropna()\n",
    "who_data.head()"
   ]
  },
  {
   "cell_type": "code",
   "execution_count": 3,
   "metadata": {},
   "outputs": [
    {
     "data": {
      "image/png": "[encoded data removed]",
      "text/plain": [
       "<Figure size 432x288 with 1 Axes>"
      ]
     },
     "metadata": {
      "needs_background": "light"
     },
     "output_type": "display_data"
    }
   ],
   "source": [
    "# For the first example, determine which pairs of factors are correlated. \n",
    "plt.scatter(who_data.iloc[:,1],who_data.iloc[:,8])\n",
    "plt.xlabel('Income Per Capita')\n",
    "plt.ylabel('Average Alcohol Consumed Per Person Per Year (L)')\n",
    "plt.show()"
   ]
  },
  {
   "cell_type": "code",
   "execution_count": 4,
   "metadata": {},
   "outputs": [
    {
     "data": {
      "image/png": "[encoded data removed]",
      "text/plain": [
       "<Figure size 432x288 with 1 Axes>"
      ]
     },
     "metadata": {
      "needs_background": "light"
     },
     "output_type": "display_data"
    }
   ],
   "source": [
    "plt.scatter(who_data.iloc[:,3],who_data.iloc[:,10])\n",
    "plt.xlabel('Population Median Age')\n",
    "plt.ylabel('Cell Phones Per 100 People')\n",
    "plt.show()"
   ]
  },
  {
   "cell_type": "code",
   "execution_count": 5,
   "metadata": {},
   "outputs": [
    {
     "data": {
      "image/png": "[encoded data removed]",
      "text/plain": [
       "<Figure size 432x288 with 1 Axes>"
      ]
     },
     "metadata": {
      "needs_background": "light"
     },
     "output_type": "display_data"
    }
   ],
   "source": [
    "plt.scatter(who_data.iloc[:,5],who_data.iloc[:,7])\n",
    "plt.xlabel('% Government Expenditure on Health')\n",
    "plt.ylabel('Male Life Expectancy')\n",
    "plt.show()"
   ]
  },
  {
   "cell_type": "code",
   "execution_count": 6,
   "metadata": {},
   "outputs": [
    {
     "data": {
      "image/png": "[encoded data removed]",
      "text/plain": [
       "<Figure size 432x288 with 1 Axes>"
      ]
     },
     "metadata": {
      "needs_background": "light"
     },
     "output_type": "display_data"
    }
   ],
   "source": [
    "plt.scatter(who_data.iloc[:,1],who_data.iloc[:,12])\n",
    "plt.xlabel('Income Per Capita')\n",
    "plt.ylabel('% Measles Immunization')\n",
    "plt.show()"
   ]
  },
  {
   "cell_type": "code",
   "execution_count": 7,
   "metadata": {},
   "outputs": [
    {
     "name": "stdout",
     "output_type": "stream",
     "text": [
      "The correlation between both factors is 0.61\n"
     ]
    }
   ],
   "source": [
    "# The next example will compute the Pearson correlation coefficient between \"Income per Capita\" and \"Average Alcohol Consumed\"\n",
    "income = who_data.iloc[:,1]\n",
    "alcohol = who_data.iloc[:,8]\n",
    "correlation = st.pearsonr(income,alcohol)\n",
    "print(f\"The correlation between both factors is {round(correlation[0],2)}\")"
   ]
  },
  {
   "cell_type": "code",
   "execution_count": 8,
   "metadata": {},
   "outputs": [
    {
     "name": "stdout",
     "output_type": "stream",
     "text": [
      "The correlation between both factors is 0.61\n"
     ]
    },
    {
     "data": {
      "image/png": "[encoded data removed]",
      "text/plain": [
       "<Figure size 432x288 with 1 Axes>"
      ]
     },
     "metadata": {
      "needs_background": "light"
     },
     "output_type": "display_data"
    }
   ],
   "source": [
    "# Compare the calcualted Pearson's r to the plots\n",
    "plt.scatter(income,alcohol)\n",
    "plt.xlabel('Income Per Capita')\n",
    "plt.ylabel('Average Alcohol Consumed Per Person Per Year (L)')\n",
    "print(f\"The correlation between both factors is {round(correlation[0],2)}\")\n",
    "plt.show()"
   ]
  },
  {
   "cell_type": "code",
   "execution_count": 9,
   "metadata": {},
   "outputs": [
    {
     "name": "stdout",
     "output_type": "stream",
     "text": [
      "The correlation between both factors is 0.82\n"
     ]
    },
    {
     "data": {
      "image/png": "[encoded data removed]",
      "text/plain": [
       "<Figure size 432x288 with 1 Axes>"
      ]
     },
     "metadata": {
      "needs_background": "light"
     },
     "output_type": "display_data"
    }
   ],
   "source": [
    "age = who_data.iloc[:,3]\n",
    "cell_phones = who_data.iloc[:,10]\n",
    "correlation = st.pearsonr(age,cell_phones)\n",
    "plt.scatter(age,cell_phones)\n",
    "plt.xlabel('Population Median Age')\n",
    "plt.ylabel('Cell Phones Per 100 People')\n",
    "print(f\"The correlation between both factors is {round(correlation[0],2)}\")\n",
    "plt.show()"
   ]
  },
  {
   "cell_type": "code",
   "execution_count": 10,
   "metadata": {},
   "outputs": [
    {
     "name": "stdout",
     "output_type": "stream",
     "text": [
      "The correlation between both factors is 0.28\n"
     ]
    },
    {
     "data": {
      "image/png": "[encoded data removed]",
      "text/plain": [
       "<Figure size 432x288 with 1 Axes>"
      ]
     },
     "metadata": {
      "needs_background": "light"
     },
     "output_type": "display_data"
    }
   ],
   "source": [
    "government = who_data.iloc[:,5]\n",
    "life = who_data.iloc[:,7]\n",
    "correlation = st.pearsonr(government,life)\n",
    "plt.scatter(government,life)\n",
    "plt.xlabel('% Government Expenditure on Health')\n",
    "plt.ylabel('Male Life Expectancy')\n",
    "print(f\"The correlation between both factors is {round(correlation[0],2)}\")\n",
    "plt.show()"
   ]
  },
  {
   "cell_type": "code",
   "execution_count": 11,
   "metadata": {},
   "outputs": [
    {
     "name": "stdout",
     "output_type": "stream",
     "text": [
      "The correlation between both factors is 0.34\n"
     ]
    },
    {
     "data": {
      "image/png": "[encoded data removed]",
      "text/plain": [
       "<Figure size 432x288 with 1 Axes>"
      ]
     },
     "metadata": {
      "needs_background": "light"
     },
     "output_type": "display_data"
    }
   ],
   "source": [
    "income = who_data.iloc[:,1]\n",
    "measles = who_data.iloc[:,12]\n",
    "correlation = st.pearsonr(income,measles)\n",
    "plt.scatter(income,measles)\n",
    "plt.xlabel('Income Per Capita')\n",
    "plt.ylabel('% Measles Immunization')\n",
    "print(f\"The correlation between both factors is {round(correlation[0],2)}\")\n",
    "plt.show()"
   ]
  },
  {
   "cell_type": "markdown",
   "metadata": {},
   "source": [
    "# =========================================="
   ]
  },
  {
   "cell_type": "markdown",
   "metadata": {},
   "source": [
    "### 3.07 Student Do: Correlation Conquerors (10 min)"
   ]
  },
  {
   "cell_type": "markdown",
   "metadata": {},
   "source": [
    "## Instructions\n",
    "\n",
    "* Execute the starter code to import the wine recognition dataset from scikit-learn.\n",
    "* Using the dataset, plot the factors malic acid versus flavanoids on a scatter plot. Is this relationship positively correlated, negatively correlated, or not correlated? How strong is the correlation?\n",
    "* Calculate the Pearson's correlation coefficient for  malic acid versus flavanoids. Compare the correlation coefficient to the Strength of Correlation table below. Was your prediction correct?\n",
    "\n",
    "![correlation strength table](07-Stu_Correlation_Conquerors/Images/correlation_table.png)\n",
    "\n",
    "* Plot the factors alcohol versus color intensity on a scatter plot. Is this relationship positively correlated, negatively correlated, or not correlated? How strong is the correlation?\n",
    "* Calculate the Pearson's correlation coefficient for alcohol versus color intensity. Compare the correlation coefficient to the Strength of Correlation table. Was your prediction correct?\n",
    "\n",
    "## Bonus\n",
    "\n",
    "* Look at the [Pandas documentation](https://pandas.pydata.org/pandas-docs/stable/) to find how to generate a correlation matrix. This matrix will contain the Pearson's correlation coefficient for all pairs of factors in the DataFrame.\n",
    "* Generate the correlation matrix and try to find the pair of factors that generate the strongest positive and strongest negative correlations."
   ]
  },
  {
   "cell_type": "code",
   "execution_count": 12,
   "metadata": {},
   "outputs": [],
   "source": [
    "# Dependencies\n",
    "import pandas as pd\n",
    "import sklearn.datasets as dta\n",
    "import scipy.stats as st\n",
    "import matplotlib.pyplot as plt"
   ]
  },
  {
   "cell_type": "code",
   "execution_count": 36,
   "metadata": {},
   "outputs": [],
   "source": [
    "# Read in the wine recognition data set from sklearn and load into Pandas\n",
    "data = dta.load_wine()\n",
    "wine_data = pd.DataFrame(data.data,columns=data.feature_names)\n"
   ]
  },
  {
   "cell_type": "code",
   "execution_count": 14,
   "metadata": {},
   "outputs": [
    {
     "data": {
      "image/png": "[encoded data removed]",
      "text/plain": [
       "<Figure size 432x288 with 1 Axes>"
      ]
     },
     "metadata": {
      "needs_background": "light"
     },
     "output_type": "display_data"
    }
   ],
   "source": [
    "# Plot malic_acid versus flavanoids on a scatterplot\n",
    "\n"
   ]
  },
  {
   "cell_type": "code",
   "execution_count": 15,
   "metadata": {},
   "outputs": [
    {
     "name": "stdout",
     "output_type": "stream",
     "text": [
      "The correlation coefficient between malic acid and flavanoids is -0.41\n"
     ]
    }
   ],
   "source": [
    "# Calculate the correlation coefficient between malic_acid and flavanoids\n",
    "\n"
   ]
  },
  {
   "cell_type": "code",
   "execution_count": 16,
   "metadata": {},
   "outputs": [
    {
     "data": {
      "image/png": "[encoded data removed]",
      "text/plain": [
       "<Figure size 432x288 with 1 Axes>"
      ]
     },
     "metadata": {
      "needs_background": "light"
     },
     "output_type": "display_data"
    }
   ],
   "source": [
    "# Plot alcohol versus colour_intensity on a scatterplot\n",
    "\n"
   ]
  },
  {
   "cell_type": "code",
   "execution_count": 17,
   "metadata": {},
   "outputs": [
    {
     "name": "stdout",
     "output_type": "stream",
     "text": [
      "The correlation coefficient between alcohol and color intensity is 0.55\n"
     ]
    }
   ],
   "source": [
    "# Calculate the correlation coefficient between alcohol and color_intensity\n"
   ]
  },
  {
   "cell_type": "code",
   "execution_count": 18,
   "metadata": {},
   "outputs": [
    {
     "data": {
      "text/plain": [
       "malic_acid                    hue                            -0.561296\n",
       "hue                           malic_acid                     -0.561296\n",
       "nonflavanoid_phenols          flavanoids                     -0.537900\n",
       "flavanoids                    nonflavanoid_phenols           -0.537900\n",
       "hue                           color_intensity                -0.521813\n",
       "                                                                ...   \n",
       "alcalinity_of_ash             alcalinity_of_ash               1.000000\n",
       "ash                           ash                             1.000000\n",
       "malic_acid                    malic_acid                      1.000000\n",
       "od280/od315_of_diluted_wines  od280/od315_of_diluted_wines    1.000000\n",
       "proline                       proline                         1.000000\n",
       "Length: 169, dtype: float64"
      ]
     },
     "execution_count": 18,
     "metadata": {},
     "output_type": "execute_result"
    }
   ],
   "source": [
    "# BONUS: Generate the correlation matrix and find the strongest positive and negative correlations\n",
    "\n"
   ]
  },
  {
   "cell_type": "markdown",
   "metadata": {},
   "source": [
    "# =========================================="
   ]
  },
  {
   "cell_type": "markdown",
   "metadata": {},
   "source": [
    "### 3.08 Instructor Do: Fits and Regression (10 min)"
   ]
  },
  {
   "cell_type": "markdown",
   "metadata": {},
   "source": [
    "**Equation of a Straight Line**\n",
    "\n",
    "* ***y = mx + b***\n",
    "\n",
    "* **m** is Slope or Gradient, **Slope** = Change in Y / Change in X\n",
    "\n",
    "* **Y Intercept** the value of **y** when **x** = 0"
   ]
  },
  {
   "cell_type": "markdown",
   "metadata": {},
   "source": [
    "In this example: \n",
    "* Slope = 1\n",
    "* y-intercept = 0\n",
    "* Whatever x is, the value of y is the same.\n",
    "\n",
    "![lineregress_plot1.png](Images/lineregress_plot1.png)\n",
    "\n",
    "In this example:\n",
    "* Slope = 0.2\n",
    "* y-intercept = +5\n",
    "* If x = 7, then y = 6.4\n",
    "\n",
    "![lineregress_plot2.png](Images/lineregress_plot2.png)\n",
    "\n"
   ]
  },
  {
   "cell_type": "code",
   "execution_count": 19,
   "metadata": {},
   "outputs": [],
   "source": [
    "# Dependencies\n",
    "from matplotlib import pyplot as plt\n",
    "from scipy.stats import linregress\n",
    "import numpy as np\n",
    "from sklearn import datasets\n",
    "import pandas as pd"
   ]
  },
  {
   "cell_type": "code",
   "execution_count": 20,
   "metadata": {},
   "outputs": [],
   "source": [
    "# This example compares different factors in the Boston housing data set\n",
    "boston_data = datasets.load_boston()\n",
    "housing_data = pd.DataFrame(data=boston_data.data,columns=boston_data.feature_names)\n",
    "housing_data['MEDV'] = boston_data.target"
   ]
  },
  {
   "cell_type": "code",
   "execution_count": 21,
   "metadata": {},
   "outputs": [
    {
     "data": {
      "image/png": "[encoded data removed]",
      "text/plain": [
       "<Figure size 432x288 with 1 Axes>"
      ]
     },
     "metadata": {
      "needs_background": "light"
     },
     "output_type": "display_data"
    }
   ],
   "source": [
    "# Plot out rooms versus median house price\n",
    "x_values = housing_data['RM']\n",
    "y_values = housing_data['MEDV']\n",
    "plt.scatter(x_values,y_values)\n",
    "plt.xlabel('Rooms in House')\n",
    "plt.ylabel('Median House Prices ($1000)')\n",
    "plt.show()"
   ]
  },
  {
   "cell_type": "code",
   "execution_count": 22,
   "metadata": {},
   "outputs": [
    {
     "data": {
      "image/png": "[encoded data removed]",
      "text/plain": [
       "<Figure size 432x288 with 1 Axes>"
      ]
     },
     "metadata": {
      "needs_background": "light"
     },
     "output_type": "display_data"
    }
   ],
   "source": [
    "# Add the linear regression equation and line to plot\n",
    "x_values = housing_data['RM']\n",
    "y_values = housing_data['MEDV']\n",
    "(slope, intercept, rvalue, pvalue, stderr) = linregress(x_values, y_values)\n",
    "regress_values = x_values * slope + intercept\n",
    "line_eq = \"y = \" + str(round(slope,2)) + \"x + \" + str(round(intercept,2))\n",
    "plt.scatter(x_values,y_values)\n",
    "plt.plot(x_values,regress_values,\"r-\")\n",
    "plt.annotate(line_eq,(6,10),fontsize=15,color=\"red\")\n",
    "plt.xlabel('Rooms in House')\n",
    "plt.ylabel('Median House Prices ($1000)')\n",
    "plt.show()"
   ]
  },
  {
   "cell_type": "code",
   "execution_count": 23,
   "metadata": {},
   "outputs": [
    {
     "name": "stdout",
     "output_type": "stream",
     "text": [
      "The r-squared is: 0.695359947071539\n"
     ]
    },
    {
     "data": {
      "image/png": "[encoded data removed]",
      "text/plain": [
       "<Figure size 432x288 with 1 Axes>"
      ]
     },
     "metadata": {
      "needs_background": "light"
     },
     "output_type": "display_data"
    }
   ],
   "source": [
    "# Print out the r-squared value along with the plot.\n",
    "x_values = housing_data['RM']\n",
    "y_values = housing_data['MEDV']\n",
    "(slope, intercept, rvalue, pvalue, stderr) = linregress(x_values, y_values)\n",
    "regress_values = x_values * slope + intercept\n",
    "line_eq = \"y = \" + str(round(slope,2)) + \"x + \" + str(round(intercept,2))\n",
    "plt.scatter(x_values,y_values)\n",
    "plt.plot(x_values,regress_values,\"r-\")\n",
    "plt.annotate(line_eq,(6,10),fontsize=15,color=\"red\")\n",
    "plt.xlabel('Rooms in House')\n",
    "plt.ylabel('Median House Prices ($1000)')\n",
    "print(f\"The r-squared is: {rvalue}\")\n",
    "plt.show()"
   ]
  },
  {
   "cell_type": "code",
   "execution_count": 24,
   "metadata": {},
   "outputs": [],
   "source": [
    "# The next example looks at a diabetes data set with less linear relationships\n",
    "diabetes_data = datasets.load_diabetes()\n",
    "data = pd.DataFrame(diabetes_data.data,columns=diabetes_data.feature_names)\n",
    "data['1Y_Disease_Progress'] = diabetes_data.target"
   ]
  },
  {
   "cell_type": "code",
   "execution_count": 25,
   "metadata": {},
   "outputs": [
    {
     "name": "stdout",
     "output_type": "stream",
     "text": [
      "The r-squared is: 0.44148384893088605\n"
     ]
    },
    {
     "data": {
      "image/png": "[encoded data removed]",
      "text/plain": [
       "<Figure size 432x288 with 1 Axes>"
      ]
     },
     "metadata": {
      "needs_background": "light"
     },
     "output_type": "display_data"
    }
   ],
   "source": [
    "x_values = data['bp']\n",
    "y_values = data['1Y_Disease_Progress']\n",
    "(slope, intercept, rvalue, pvalue, stderr) = linregress(x_values, y_values)\n",
    "regress_values = x_values * slope + intercept\n",
    "line_eq = \"y = \" + str(round(slope,2)) + \"x + \" + str(round(intercept,2))\n",
    "plt.scatter(x_values,y_values)\n",
    "plt.plot(x_values,regress_values,\"r-\")\n",
    "plt.annotate(line_eq,(0,50),fontsize=15,color=\"red\")\n",
    "plt.xlabel('Normalized Blood Pressure')\n",
    "plt.ylabel('1Y_Disease_Progress')\n",
    "print(f\"The r-squared is: {rvalue}\")\n",
    "plt.show()"
   ]
  },
  {
   "cell_type": "markdown",
   "metadata": {},
   "source": [
    "# =========================================="
   ]
  },
  {
   "cell_type": "markdown",
   "metadata": {},
   "source": [
    "### 3.09 Student Do: Fits and Regression (20 min)"
   ]
  },
  {
   "cell_type": "markdown",
   "metadata": {},
   "source": [
    "## Instructions\n",
    "\n",
    "* Execute the starter code. This starter code will import the dependencies you will need as well as load the FBI CIUS (Crime in the United States 20*) dataset.\n",
    "* Generate a scatter plot with Matplotlib using the year as the independent (*x*) variable and the violent crime rate as the dependent (*y*) variable.\n",
    "* Use `stats.linregress` to perform a linear regression with the year as the independent variable (*x*) and the violent crime rate as the dependent variable (*y*).\n",
    "* Use the information returned by `stats.linregress` to create the equation of a line from the model.\n",
    "* Calculate the predicted violent crime rate of the linear model using the year as the *x* values.\n",
    "* Plot the linear model of year versus violent crime rate on top of your scatter plot.\n",
    "  * **Hint**: Your scatter plot and line plot share the same axis.\n",
    "  * **Hint**: In order to overlay plots in a notebook, the plots must be in the same code block.\n",
    "* Repeat the process of generating a scatter plot, calculating the linear regression model, and plotting the regression line over the scatter plot for the following pairs of variables:\n",
    "  * Year versus murder rate.\n",
    "  * Year versus aggravated assault.\n",
    "\n",
    "## Bonus\n",
    "* Use `pyplot.subplots` from Matplotlib to create a new figure that displays all three pairs of variables on the same plot. For each pair of variables, there should be a scatter plot and a regression line.\n",
    "  * **Hint**: All three plots share the same x-axis.\n",
    "* Use the regression lines you created to predict what the violent crime rate, murder rate, and assault rate will be in 20*.\n",
    "\n",
    "## Hints\n",
    "\n",
    "* See the documentation for [stats.linregress](https://docs.scipy.org/doc/scipy-0.*.0/reference/generated/scipy.stats.linregress.html).\n",
    "* Recall that `stats.linregress` returns a slope, called *m*,, and a *y*-intercept, called *b*. These let you define a line for each fit by simply writing: `y-values = m * x-values + b`, for each linear regression you perform."
   ]
  },
  {
   "cell_type": "code",
   "execution_count": 26,
   "metadata": {},
   "outputs": [],
   "source": [
    "# Dependencies\n",
    "from matplotlib import pyplot as plt\n",
    "from scipy import stats\n",
    "import numpy as np\n",
    "import pandas as pd"
   ]
  },
  {
   "cell_type": "code",
   "execution_count": 27,
   "metadata": {
    "scrolled": true
   },
   "outputs": [
    {
     "data": {
      "text/html": [
       "<div>\n",
       "<style scoped>\n",
       "    .dataframe tbody tr th:only-of-type {\n",
       "        vertical-align: middle;\n",
       "    }\n",
       "\n",
       "    .dataframe tbody tr th {\n",
       "        vertical-align: top;\n",
       "    }\n",
       "\n",
       "    .dataframe thead th {\n",
       "        text-align: right;\n",
       "    }\n",
       "</style>\n",
       "<table border=\"1\" class=\"dataframe\">\n",
       "  <thead>\n",
       "    <tr style=\"text-align: right;\">\n",
       "      <th></th>\n",
       "      <th>year</th>\n",
       "      <th>population</th>\n",
       "      <th>violent crime</th>\n",
       "      <th>violent crime rate</th>\n",
       "      <th>murder and non-negligent manslaughter</th>\n",
       "      <th>murder and non-negligent manslaughter rate</th>\n",
       "      <th>rape</th>\n",
       "      <th>rape rate</th>\n",
       "      <th>robbery</th>\n",
       "      <th>robbery rate</th>\n",
       "      <th>aggravated assault</th>\n",
       "      <th>aggravated assault rate</th>\n",
       "      <th>property crime</th>\n",
       "      <th>property crime rate</th>\n",
       "      <th>burglary</th>\n",
       "      <th>burglary rate</th>\n",
       "      <th>larceny-theft</th>\n",
       "      <th>larceny-theft rate</th>\n",
       "      <th>motor vehicle theft</th>\n",
       "      <th>motor vehicle theft rate</th>\n",
       "    </tr>\n",
       "  </thead>\n",
       "  <tbody>\n",
       "    <tr>\n",
       "      <th>0</th>\n",
       "      <td>1994.0</td>\n",
       "      <td>260327021.0</td>\n",
       "      <td>1857670.0</td>\n",
       "      <td>713.6</td>\n",
       "      <td>23326.0</td>\n",
       "      <td>9.0</td>\n",
       "      <td>102216.0</td>\n",
       "      <td>39.3</td>\n",
       "      <td>618949.0</td>\n",
       "      <td>237.8</td>\n",
       "      <td>1113179.0</td>\n",
       "      <td>427.6</td>\n",
       "      <td>12131873.0</td>\n",
       "      <td>4660.2</td>\n",
       "      <td>2712774.0</td>\n",
       "      <td>1042.1</td>\n",
       "      <td>7879812.0</td>\n",
       "      <td>3026.9</td>\n",
       "      <td>1539287.0</td>\n",
       "      <td>591.3</td>\n",
       "    </tr>\n",
       "    <tr>\n",
       "      <th>1</th>\n",
       "      <td>1995.0</td>\n",
       "      <td>262803276.0</td>\n",
       "      <td>1798792.0</td>\n",
       "      <td>684.5</td>\n",
       "      <td>21606.0</td>\n",
       "      <td>8.2</td>\n",
       "      <td>97470.0</td>\n",
       "      <td>37.1</td>\n",
       "      <td>580509.0</td>\n",
       "      <td>220.9</td>\n",
       "      <td>1099207.0</td>\n",
       "      <td>418.3</td>\n",
       "      <td>12063935.0</td>\n",
       "      <td>4590.5</td>\n",
       "      <td>2593784.0</td>\n",
       "      <td>987.0</td>\n",
       "      <td>7997710.0</td>\n",
       "      <td>3043.2</td>\n",
       "      <td>1472441.0</td>\n",
       "      <td>560.3</td>\n",
       "    </tr>\n",
       "    <tr>\n",
       "      <th>2</th>\n",
       "      <td>1996.0</td>\n",
       "      <td>265228572.0</td>\n",
       "      <td>1688540.0</td>\n",
       "      <td>636.6</td>\n",
       "      <td>19645.0</td>\n",
       "      <td>7.4</td>\n",
       "      <td>96252.0</td>\n",
       "      <td>36.3</td>\n",
       "      <td>535594.0</td>\n",
       "      <td>201.9</td>\n",
       "      <td>1037049.0</td>\n",
       "      <td>391.0</td>\n",
       "      <td>11805323.0</td>\n",
       "      <td>4451.0</td>\n",
       "      <td>2506400.0</td>\n",
       "      <td>945.0</td>\n",
       "      <td>7904685.0</td>\n",
       "      <td>2980.3</td>\n",
       "      <td>1394238.0</td>\n",
       "      <td>525.7</td>\n",
       "    </tr>\n",
       "    <tr>\n",
       "      <th>3</th>\n",
       "      <td>1997.0</td>\n",
       "      <td>267783607.0</td>\n",
       "      <td>1636096.0</td>\n",
       "      <td>611.0</td>\n",
       "      <td>18208.0</td>\n",
       "      <td>6.8</td>\n",
       "      <td>96153.0</td>\n",
       "      <td>35.9</td>\n",
       "      <td>498534.0</td>\n",
       "      <td>186.2</td>\n",
       "      <td>1023201.0</td>\n",
       "      <td>382.1</td>\n",
       "      <td>11558475.0</td>\n",
       "      <td>4316.3</td>\n",
       "      <td>2460526.0</td>\n",
       "      <td>918.8</td>\n",
       "      <td>7743760.0</td>\n",
       "      <td>2891.8</td>\n",
       "      <td>1354189.0</td>\n",
       "      <td>505.7</td>\n",
       "    </tr>\n",
       "    <tr>\n",
       "      <th>4</th>\n",
       "      <td>1998.0</td>\n",
       "      <td>270248003.0</td>\n",
       "      <td>1533887.0</td>\n",
       "      <td>567.6</td>\n",
       "      <td>16974.0</td>\n",
       "      <td>6.3</td>\n",
       "      <td>93144.0</td>\n",
       "      <td>34.5</td>\n",
       "      <td>447186.0</td>\n",
       "      <td>165.5</td>\n",
       "      <td>976583.0</td>\n",
       "      <td>361.4</td>\n",
       "      <td>10951827.0</td>\n",
       "      <td>4052.5</td>\n",
       "      <td>2332735.0</td>\n",
       "      <td>863.2</td>\n",
       "      <td>7376311.0</td>\n",
       "      <td>2729.5</td>\n",
       "      <td>1242781.0</td>\n",
       "      <td>459.9</td>\n",
       "    </tr>\n",
       "  </tbody>\n",
       "</table>\n",
       "</div>"
      ],
      "text/plain": [
       "     year   population  violent crime  violent crime rate  \\\n",
       "0  1994.0  260327021.0      1857670.0               713.6   \n",
       "1  1995.0  262803276.0      1798792.0               684.5   \n",
       "2  1996.0  265228572.0      1688540.0               636.6   \n",
       "3  1997.0  267783607.0      1636096.0               611.0   \n",
       "4  1998.0  270248003.0      1533887.0               567.6   \n",
       "\n",
       "   murder and non-negligent manslaughter  \\\n",
       "0                                23326.0   \n",
       "1                                21606.0   \n",
       "2                                19645.0   \n",
       "3                                18208.0   \n",
       "4                                16974.0   \n",
       "\n",
       "    murder and non-negligent manslaughter rate      rape  rape rate   robbery  \\\n",
       "0                                          9.0  102216.0       39.3  618949.0   \n",
       "1                                          8.2   97470.0       37.1  580509.0   \n",
       "2                                          7.4   96252.0       36.3  535594.0   \n",
       "3                                          6.8   96153.0       35.9  498534.0   \n",
       "4                                          6.3   93144.0       34.5  447186.0   \n",
       "\n",
       "   robbery rate   aggravated assault  aggravated assault rate  property crime  \\\n",
       "0         237.8            1113179.0                    427.6      12131873.0   \n",
       "1         220.9            1099207.0                    418.3      12063935.0   \n",
       "2         201.9            1037049.0                    391.0      11805323.0   \n",
       "3         186.2            1023201.0                    382.1      11558475.0   \n",
       "4         165.5             976583.0                    361.4      10951827.0   \n",
       "\n",
       "   property crime rate   burglary  burglary rate  larceny-theft  \\\n",
       "0               4660.2  2712774.0         1042.1      7879812.0   \n",
       "1               4590.5  2593784.0          987.0      7997710.0   \n",
       "2               4451.0  2506400.0          945.0      7904685.0   \n",
       "3               4316.3  2460526.0          918.8      7743760.0   \n",
       "4               4052.5  2332735.0          863.2      7376311.0   \n",
       "\n",
       "   larceny-theft rate  motor vehicle theft  motor vehicle theft rate  \n",
       "0              3026.9            1539287.0                     591.3  \n",
       "1              3043.2            1472441.0                     560.3  \n",
       "2              2980.3            1394238.0                     525.7  \n",
       "3              2891.8            1354189.0                     505.7  \n",
       "4              2729.5            1242781.0                     459.9  "
      ]
     },
     "execution_count": 27,
     "metadata": {},
     "output_type": "execute_result"
    }
   ],
   "source": [
    "# Load crime data set into pandas\n",
    "crime_data = pd.read_csv(\"09-Stu_Fits_and_Regression/Resources/crime_data.csv\")\n",
    "crime_data.head()"
   ]
  },
  {
   "cell_type": "code",
   "execution_count": 28,
   "metadata": {},
   "outputs": [
    {
     "data": {
      "image/png": "[encoded data removed]",
      "text/plain": [
       "<Figure size 432x288 with 1 Axes>"
      ]
     },
     "metadata": {
      "needs_background": "light"
     },
     "output_type": "display_data"
    }
   ],
   "source": [
    "# Generate a scatter plot of year versus violent crime rate\n",
    "\n"
   ]
  },
  {
   "cell_type": "code",
   "execution_count": 29,
   "metadata": {},
   "outputs": [],
   "source": [
    "# Perform a linear regression on year versus violent crime rate\n"
   ]
  },
  {
   "cell_type": "code",
   "execution_count": 30,
   "metadata": {},
   "outputs": [],
   "source": [
    "# Create equation of line to calculate predicted violent crime rate\n"
   ]
  },
  {
   "cell_type": "code",
   "execution_count": 31,
   "metadata": {},
   "outputs": [
    {
     "data": {
      "image/png": "[encoded data removed]",
      "text/plain": [
       "<Figure size 432x288 with 1 Axes>"
      ]
     },
     "metadata": {
      "needs_background": "light"
     },
     "output_type": "display_data"
    }
   ],
   "source": [
    "# Plot the linear model on top of scatter plot \n",
    "\n"
   ]
  },
  {
   "cell_type": "code",
   "execution_count": 32,
   "metadata": {},
   "outputs": [
    {
     "data": {
      "image/png": "[encoded data removed]",
      "text/plain": [
       "<Figure size 432x288 with 1 Axes>"
      ]
     },
     "metadata": {
      "needs_background": "light"
     },
     "output_type": "display_data"
    }
   ],
   "source": [
    "# Repeat plotting scatter and linear model for year versus murder rate\n",
    "\n"
   ]
  },
  {
   "cell_type": "code",
   "execution_count": 33,
   "metadata": {},
   "outputs": [
    {
     "data": {
      "image/png": "[encoded data removed]",
      "text/plain": [
       "<Figure size 432x288 with 1 Axes>"
      ]
     },
     "metadata": {
      "needs_background": "light"
     },
     "output_type": "display_data"
    }
   ],
   "source": [
    "# Repeat plotting scatter and linear model for year versus aggravated assault\n",
    "\n"
   ]
  },
  {
   "cell_type": "code",
   "execution_count": 34,
   "metadata": {},
   "outputs": [
    {
     "data": {
      "image/png": "[encoded data removed]",
      "text/plain": [
       "<Figure size 432x288 with 3 Axes>"
      ]
     },
     "metadata": {
      "needs_background": "light"
     },
     "output_type": "display_data"
    }
   ],
   "source": [
    "# Generate a facet plot of all 3 figures\n",
    "\n"
   ]
  },
  {
   "cell_type": "code",
   "execution_count": 35,
   "metadata": {},
   "outputs": [
    {
     "name": "stdout",
     "output_type": "stream",
     "text": [
      "The violent crime rate in 2019 will be 262.21.\n",
      "The murder rate in 2019 will be 3.24.\n",
      "The aggravated assault rate in 2019 will be 72.87.\n"
     ]
    }
   ],
   "source": [
    "# Calculate the crime rates for 2019\n",
    "\n"
   ]
  },
  {
   "cell_type": "markdown",
   "metadata": {},
   "source": [
    "# =========================================="
   ]
  },
  {
   "cell_type": "markdown",
   "metadata": {},
   "source": [
    "### Rating Class Objectives\n",
    "\n",
    "* rate your understanding using 1-5 method in each objective"
   ]
  },
  {
   "cell_type": "code",
   "execution_count": null,
   "metadata": {},
   "outputs": [],
   "source": [
    "title = \"05-Matplotlib - Day 3 - Introduction to Statistics\"\n",
    "objectives = [\n",
    "    \"Calculate summary statistics such as mean, median, mode, variance and standard deviation using Python\",\n",
    "    \"Plot, characterize, and quantify a normally distributed dataset using Python\",\n",
    "    \"Qualitatively and quantitatively identify potential outliers in a dataset\",\n",
    "    \"Differentiate between a sample and a population in regards to a dataset\",\n",
    "    \"Define and quantify correlation between two factors\",\n",
    "    \"Calculate and plot a linear regression in Python\",\n",
    "]\n",
    "rating = []\n",
    "total = 0\n",
    "for i in range(len(objectives)):\n",
    "    rate = input(objectives[i]+\"? \")\n",
    "    total += int(rate)\n",
    "    rating.append(objectives[i] + \". (\" + rate + \"/5)\")\n",
    "print(\"=\"*96)\n",
    "print(f\"Self Evaluation for: {title}\")\n",
    "print(\"-\"*24)\n",
    "for i in rating:\n",
    "    print(i)\n",
    "print(\"-\"*64)\n",
    "print(\"Average: \" + str(total/len(objectives)))"
   ]
  },
  {
   "cell_type": "code",
   "execution_count": null,
   "metadata": {},
   "outputs": [],
   "source": []
  },
  {
   "cell_type": "code",
   "execution_count": null,
   "metadata": {},
   "outputs": [],
   "source": []
  }
 ],
 "metadata": {
  "kernelspec": {
   "display_name": "Python 3",
   "language": "python",
   "name": "python3"
  },
  "language_info": {
   "codemirror_mode": {
    "name": "ipython",
    "version": 3
   },
   "file_extension": ".py",
   "mimetype": "text/x-python",
   "name": "python",
   "nbconvert_exporter": "python",
   "pygments_lexer": "ipython3",
   "version": "3.6.13"
  }
 },
 "nbformat": 4,
 "nbformat_minor": 4
}
