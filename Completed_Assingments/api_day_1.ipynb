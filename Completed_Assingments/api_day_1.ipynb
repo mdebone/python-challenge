{
 "cells": [
  {
   "cell_type": "code",
   "execution_count": 1,
   "id": "8e73a70e",
   "metadata": {},
   "outputs": [],
   "source": [
    " # Dependencies\n",
    "import requests\n",
    "import json"
   ]
  },
  {
   "cell_type": "code",
   "execution_count": 2,
   "id": "db36d2b5",
   "metadata": {},
   "outputs": [],
   "source": [
    "# URL for GET requests to retrieve vehicle data\n",
    "url = \"https://api.spacexdata.com/v2/launchpads\""
   ]
  },
  {
   "cell_type": "code",
   "execution_count": 3,
   "id": "2f279d9f",
   "metadata": {},
   "outputs": [
    {
     "name": "stdout",
     "output_type": "stream",
     "text": [
      "<Response [200]>\n"
     ]
    }
   ],
   "source": [
    "# print the respone request\n",
    "response = requests.get(url)\n",
    "print(response)"
   ]
  },
  {
   "cell_type": "code",
   "execution_count": 4,
   "id": "91d4ee2e",
   "metadata": {},
   "outputs": [
    {
     "name": "stdout",
     "output_type": "stream",
     "text": [
      "[{'padid': 5, 'id': 'vafb_slc_3w', 'name': 'VAFB SLC 3W', 'full_name': 'Vandenberg Air Force Base Space Launch Complex 3W', 'status': 'retired', 'location': {'name': 'Vandenberg Air Force Base', 'region': 'California', 'latitude': 34.6440904, 'longitude': -120.5931438}, 'vehicles_launched': ['Falcon 1'], 'attempted_launches': 0, 'successful_launches': 0, 'wikipedia': 'https://en.wikipedia.org/wiki/Vandenberg_AFB_Space_Launch_Complex_3', 'details': 'SpaceX original west coast launch pad for Falcon 1. Performed a static fire but was never used for a launch and abandoned due to scheduling conflicts.'}, {'padid': 2, 'id': 'ccafs_slc_40', 'name': 'CCAFS SLC 40', 'full_name': 'Cape Canaveral Air Force Station Space Launch Complex 40', 'status': 'active', 'location': {'name': 'Cape Canaveral', 'region': 'Florida', 'latitude': 28.5618571, 'longitude': -80.577366}, 'vehicles_launched': ['Falcon 9'], 'attempted_launches': 61, 'successful_launches': 59, 'wikipedia': 'https://en.wikipedia.org/wiki/Cape_Canaveral_Air_Force_Station_Space_Launch_Complex_40', 'details': 'SpaceX primary Falcon 9 launch pad, where all east coast Falcon 9s launched prior to the AMOS-6 anomaly. Initially used to launch Titan rockets for Lockheed Martin. Back online since CRS-13 on 2017-12-15.'}, {'padid': 8, 'id': 'stls', 'name': 'STLS', 'full_name': 'SpaceX South Texas Launch Site', 'status': 'under construction', 'location': {'name': 'Boca Chica Village', 'region': 'Texas', 'latitude': 25.9972641, 'longitude': -97.1560845}, 'vehicles_launched': ['Falcon 9'], 'attempted_launches': 0, 'successful_launches': 0, 'wikipedia': 'https://en.wikipedia.org/wiki/SpaceX_South_Texas_Launch_Site', 'details': 'SpaceX new launch site currently under construction to help keep up with the Falcon 9 and Heavy manifests. Expected to be completed in late 2018. Initially will be limited to 12 flights per year, and only GTO launches.'}, {'padid': 1, 'id': 'kwajalein_atoll', 'name': 'Kwajalein Atoll', 'full_name': 'Kwajalein Atoll Omelek Island', 'status': 'retired', 'location': {'name': 'Omelek Island', 'region': 'Marshall Islands', 'latitude': 9.0477206, 'longitude': 167.7431292}, 'vehicles_launched': ['Falcon 1'], 'attempted_launches': 5, 'successful_launches': 2, 'wikipedia': 'https://en.wikipedia.org/wiki/Omelek_Island', 'details': 'SpaceX original launch site, where all of the Falcon 1 launches occured. Abandoned as SpaceX decided against upgrading the pad to support Falcon 9.'}, {'padid': 6, 'id': 'vafb_slc_4e', 'name': 'VAFB SLC 4E', 'full_name': 'Vandenberg Air Force Base Space Launch Complex 4E', 'status': 'active', 'location': {'name': 'Vandenberg Air Force Base', 'region': 'California', 'latitude': 34.632093, 'longitude': -120.610829}, 'vehicles_launched': ['Falcon 9'], 'attempted_launches': 16, 'successful_launches': 16, 'wikipedia': 'https://en.wikipedia.org/wiki/Vandenberg_AFB_Space_Launch_Complex_4', 'details': 'SpaceX primary west coast launch pad for polar orbits and sun synchronous orbits, primarily used for Iridium. Also intended to be capable of launching Falcon Heavy.'}, {'padid': 4, 'id': 'ksc_lc_39a', 'name': 'KSC LC 39A', 'full_name': 'Kennedy Space Center Historic Launch Complex 39A', 'status': 'active', 'location': {'name': 'Cape Canaveral', 'region': 'Florida', 'latitude': 28.6080585, 'longitude': -80.6039558}, 'vehicles_launched': ['Falcon 9', 'Falcon Heavy'], 'attempted_launches': 27, 'successful_launches': 26, 'wikipedia': 'https://en.wikipedia.org/wiki/Kennedy_Space_Center_Launch_Complex_39#Launch_Complex_39A', 'details': 'NASA historic launch pad that launched most of the Saturn V and Space Shuttle missions. Initially for Falcon Heavy launches, it is now launching all of SpaceX east coast missions due to the damage from the AMOS-6 anomaly. After SLC-40 repairs are complete, it will be upgraded to support Falcon Heavy, a process which will take about two months. In the future it will launch commercial crew missions and the Interplanetary Transport System.'}]\n"
     ]
    }
   ],
   "source": [
    "print(requests.get(url).json())"
   ]
  },
  {
   "cell_type": "code",
   "execution_count": 5,
   "id": "3cd1e811",
   "metadata": {},
   "outputs": [
    {
     "name": "stdout",
     "output_type": "stream",
     "text": [
      "[{'padid': 5, 'id': 'vafb_slc_3w', 'name': 'VAFB SLC 3W', 'full_name': 'Vandenberg Air Force Base Space Launch Complex 3W', 'status': 'retired', 'location': {'name': 'Vandenberg Air Force Base', 'region': 'California', 'latitude': 34.6440904, 'longitude': -120.5931438}, 'vehicles_launched': ['Falcon 1'], 'attempted_launches': 0, 'successful_launches': 0, 'wikipedia': 'https://en.wikipedia.org/wiki/Vandenberg_AFB_Space_Launch_Complex_3', 'details': 'SpaceX original west coast launch pad for Falcon 1. Performed a static fire but was never used for a launch and abandoned due to scheduling conflicts.'}, {'padid': 2, 'id': 'ccafs_slc_40', 'name': 'CCAFS SLC 40', 'full_name': 'Cape Canaveral Air Force Station Space Launch Complex 40', 'status': 'active', 'location': {'name': 'Cape Canaveral', 'region': 'Florida', 'latitude': 28.5618571, 'longitude': -80.577366}, 'vehicles_launched': ['Falcon 9'], 'attempted_launches': 61, 'successful_launches': 59, 'wikipedia': 'https://en.wikipedia.org/wiki/Cape_Canaveral_Air_Force_Station_Space_Launch_Complex_40', 'details': 'SpaceX primary Falcon 9 launch pad, where all east coast Falcon 9s launched prior to the AMOS-6 anomaly. Initially used to launch Titan rockets for Lockheed Martin. Back online since CRS-13 on 2017-12-15.'}, {'padid': 8, 'id': 'stls', 'name': 'STLS', 'full_name': 'SpaceX South Texas Launch Site', 'status': 'under construction', 'location': {'name': 'Boca Chica Village', 'region': 'Texas', 'latitude': 25.9972641, 'longitude': -97.1560845}, 'vehicles_launched': ['Falcon 9'], 'attempted_launches': 0, 'successful_launches': 0, 'wikipedia': 'https://en.wikipedia.org/wiki/SpaceX_South_Texas_Launch_Site', 'details': 'SpaceX new launch site currently under construction to help keep up with the Falcon 9 and Heavy manifests. Expected to be completed in late 2018. Initially will be limited to 12 flights per year, and only GTO launches.'}, {'padid': 1, 'id': 'kwajalein_atoll', 'name': 'Kwajalein Atoll', 'full_name': 'Kwajalein Atoll Omelek Island', 'status': 'retired', 'location': {'name': 'Omelek Island', 'region': 'Marshall Islands', 'latitude': 9.0477206, 'longitude': 167.7431292}, 'vehicles_launched': ['Falcon 1'], 'attempted_launches': 5, 'successful_launches': 2, 'wikipedia': 'https://en.wikipedia.org/wiki/Omelek_Island', 'details': 'SpaceX original launch site, where all of the Falcon 1 launches occured. Abandoned as SpaceX decided against upgrading the pad to support Falcon 9.'}, {'padid': 6, 'id': 'vafb_slc_4e', 'name': 'VAFB SLC 4E', 'full_name': 'Vandenberg Air Force Base Space Launch Complex 4E', 'status': 'active', 'location': {'name': 'Vandenberg Air Force Base', 'region': 'California', 'latitude': 34.632093, 'longitude': -120.610829}, 'vehicles_launched': ['Falcon 9'], 'attempted_launches': 16, 'successful_launches': 16, 'wikipedia': 'https://en.wikipedia.org/wiki/Vandenberg_AFB_Space_Launch_Complex_4', 'details': 'SpaceX primary west coast launch pad for polar orbits and sun synchronous orbits, primarily used for Iridium. Also intended to be capable of launching Falcon Heavy.'}, {'padid': 4, 'id': 'ksc_lc_39a', 'name': 'KSC LC 39A', 'full_name': 'Kennedy Space Center Historic Launch Complex 39A', 'status': 'active', 'location': {'name': 'Cape Canaveral', 'region': 'Florida', 'latitude': 28.6080585, 'longitude': -80.6039558}, 'vehicles_launched': ['Falcon 9', 'Falcon Heavy'], 'attempted_launches': 27, 'successful_launches': 26, 'wikipedia': 'https://en.wikipedia.org/wiki/Kennedy_Space_Center_Launch_Complex_39#Launch_Complex_39A', 'details': 'NASA historic launch pad that launched most of the Saturn V and Space Shuttle missions. Initially for Falcon Heavy launches, it is now launching all of SpaceX east coast missions due to the damage from the AMOS-6 anomaly. After SLC-40 repairs are complete, it will be upgraded to support Falcon Heavy, a process which will take about two months. In the future it will launch commercial crew missions and the Interplanetary Transport System.'}]\n"
     ]
    }
   ],
   "source": [
    "# retrieve the data and convert it to JSON\n",
    "print(response.json())"
   ]
  },
  {
   "cell_type": "code",
   "execution_count": 6,
   "id": "2590acf0",
   "metadata": {},
   "outputs": [
    {
     "name": "stdout",
     "output_type": "stream",
     "text": [
      "[\n",
      "    {\n",
      "        \"padid\": 5,\n",
      "        \"id\": \"vafb_slc_3w\",\n",
      "        \"name\": \"VAFB SLC 3W\",\n",
      "        \"full_name\": \"Vandenberg Air Force Base Space Launch Complex 3W\",\n",
      "        \"status\": \"retired\",\n",
      "        \"location\": {\n",
      "            \"name\": \"Vandenberg Air Force Base\",\n",
      "            \"region\": \"California\",\n",
      "            \"latitude\": 34.6440904,\n",
      "            \"longitude\": -120.5931438\n",
      "        },\n",
      "        \"vehicles_launched\": [\n",
      "            \"Falcon 1\"\n",
      "        ],\n",
      "        \"attempted_launches\": 0,\n",
      "        \"successful_launches\": 0,\n",
      "        \"wikipedia\": \"https://en.wikipedia.org/wiki/Vandenberg_AFB_Space_Launch_Complex_3\",\n",
      "        \"details\": \"SpaceX original west coast launch pad for Falcon 1. Performed a static fire but was never used for a launch and abandoned due to scheduling conflicts.\"\n",
      "    },\n",
      "    {\n",
      "        \"padid\": 2,\n",
      "        \"id\": \"ccafs_slc_40\",\n",
      "        \"name\": \"CCAFS SLC 40\",\n",
      "        \"full_name\": \"Cape Canaveral Air Force Station Space Launch Complex 40\",\n",
      "        \"status\": \"active\",\n",
      "        \"location\": {\n",
      "            \"name\": \"Cape Canaveral\",\n",
      "            \"region\": \"Florida\",\n",
      "            \"latitude\": 28.5618571,\n",
      "            \"longitude\": -80.577366\n",
      "        },\n",
      "        \"vehicles_launched\": [\n",
      "            \"Falcon 9\"\n",
      "        ],\n",
      "        \"attempted_launches\": 61,\n",
      "        \"successful_launches\": 59,\n",
      "        \"wikipedia\": \"https://en.wikipedia.org/wiki/Cape_Canaveral_Air_Force_Station_Space_Launch_Complex_40\",\n",
      "        \"details\": \"SpaceX primary Falcon 9 launch pad, where all east coast Falcon 9s launched prior to the AMOS-6 anomaly. Initially used to launch Titan rockets for Lockheed Martin. Back online since CRS-13 on 2017-12-15.\"\n",
      "    },\n",
      "    {\n",
      "        \"padid\": 8,\n",
      "        \"id\": \"stls\",\n",
      "        \"name\": \"STLS\",\n",
      "        \"full_name\": \"SpaceX South Texas Launch Site\",\n",
      "        \"status\": \"under construction\",\n",
      "        \"location\": {\n",
      "            \"name\": \"Boca Chica Village\",\n",
      "            \"region\": \"Texas\",\n",
      "            \"latitude\": 25.9972641,\n",
      "            \"longitude\": -97.1560845\n",
      "        },\n",
      "        \"vehicles_launched\": [\n",
      "            \"Falcon 9\"\n",
      "        ],\n",
      "        \"attempted_launches\": 0,\n",
      "        \"successful_launches\": 0,\n",
      "        \"wikipedia\": \"https://en.wikipedia.org/wiki/SpaceX_South_Texas_Launch_Site\",\n",
      "        \"details\": \"SpaceX new launch site currently under construction to help keep up with the Falcon 9 and Heavy manifests. Expected to be completed in late 2018. Initially will be limited to 12 flights per year, and only GTO launches.\"\n",
      "    },\n",
      "    {\n",
      "        \"padid\": 1,\n",
      "        \"id\": \"kwajalein_atoll\",\n",
      "        \"name\": \"Kwajalein Atoll\",\n",
      "        \"full_name\": \"Kwajalein Atoll Omelek Island\",\n",
      "        \"status\": \"retired\",\n",
      "        \"location\": {\n",
      "            \"name\": \"Omelek Island\",\n",
      "            \"region\": \"Marshall Islands\",\n",
      "            \"latitude\": 9.0477206,\n",
      "            \"longitude\": 167.7431292\n",
      "        },\n",
      "        \"vehicles_launched\": [\n",
      "            \"Falcon 1\"\n",
      "        ],\n",
      "        \"attempted_launches\": 5,\n",
      "        \"successful_launches\": 2,\n",
      "        \"wikipedia\": \"https://en.wikipedia.org/wiki/Omelek_Island\",\n",
      "        \"details\": \"SpaceX original launch site, where all of the Falcon 1 launches occured. Abandoned as SpaceX decided against upgrading the pad to support Falcon 9.\"\n",
      "    },\n",
      "    {\n",
      "        \"padid\": 6,\n",
      "        \"id\": \"vafb_slc_4e\",\n",
      "        \"name\": \"VAFB SLC 4E\",\n",
      "        \"full_name\": \"Vandenberg Air Force Base Space Launch Complex 4E\",\n",
      "        \"status\": \"active\",\n",
      "        \"location\": {\n",
      "            \"name\": \"Vandenberg Air Force Base\",\n",
      "            \"region\": \"California\",\n",
      "            \"latitude\": 34.632093,\n",
      "            \"longitude\": -120.610829\n",
      "        },\n",
      "        \"vehicles_launched\": [\n",
      "            \"Falcon 9\"\n",
      "        ],\n",
      "        \"attempted_launches\": 16,\n",
      "        \"successful_launches\": 16,\n",
      "        \"wikipedia\": \"https://en.wikipedia.org/wiki/Vandenberg_AFB_Space_Launch_Complex_4\",\n",
      "        \"details\": \"SpaceX primary west coast launch pad for polar orbits and sun synchronous orbits, primarily used for Iridium. Also intended to be capable of launching Falcon Heavy.\"\n",
      "    },\n",
      "    {\n",
      "        \"padid\": 4,\n",
      "        \"id\": \"ksc_lc_39a\",\n",
      "        \"name\": \"KSC LC 39A\",\n",
      "        \"full_name\": \"Kennedy Space Center Historic Launch Complex 39A\",\n",
      "        \"status\": \"active\",\n",
      "        \"location\": {\n",
      "            \"name\": \"Cape Canaveral\",\n",
      "            \"region\": \"Florida\",\n",
      "            \"latitude\": 28.6080585,\n",
      "            \"longitude\": -80.6039558\n",
      "        },\n",
      "        \"vehicles_launched\": [\n",
      "            \"Falcon 9\",\n",
      "            \"Falcon Heavy\"\n",
      "        ],\n",
      "        \"attempted_launches\": 27,\n",
      "        \"successful_launches\": 26,\n",
      "        \"wikipedia\": \"https://en.wikipedia.org/wiki/Kennedy_Space_Center_Launch_Complex_39#Launch_Complex_39A\",\n",
      "        \"details\": \"NASA historic launch pad that launched most of the Saturn V and Space Shuttle missions. Initially for Falcon Heavy launches, it is now launching all of SpaceX east coast missions due to the damage from the AMOS-6 anomaly. After SLC-40 repairs are complete, it will be upgraded to support Falcon Heavy, a process which will take about two months. In the future it will launch commercial crew missions and the Interplanetary Transport System.\"\n",
      "    }\n",
      "]\n"
     ]
    },
    {
     "ename": "TypeError",
     "evalue": "list indices must be integers or slices, not str",
     "output_type": "error",
     "traceback": [
      "\u001b[1;31m---------------------------------------------------------------------------\u001b[0m",
      "\u001b[1;31mTypeError\u001b[0m                                 Traceback (most recent call last)",
      "\u001b[1;32m<ipython-input-6-d24bba1f824c>\u001b[0m in \u001b[0;36m<module>\u001b[1;34m\u001b[0m\n\u001b[0;32m      3\u001b[0m \u001b[1;31m#print(json.dumps(ret, indent=4, sort_key=True))\u001b[0m\u001b[1;33m\u001b[0m\u001b[1;33m\u001b[0m\u001b[1;33m\u001b[0m\u001b[0m\n\u001b[0;32m      4\u001b[0m \u001b[0mprint\u001b[0m\u001b[1;33m(\u001b[0m\u001b[0mjson\u001b[0m\u001b[1;33m.\u001b[0m\u001b[0mdumps\u001b[0m\u001b[1;33m(\u001b[0m\u001b[0mret\u001b[0m\u001b[1;33m,\u001b[0m \u001b[0mindent\u001b[0m\u001b[1;33m=\u001b[0m\u001b[1;36m4\u001b[0m\u001b[1;33m)\u001b[0m\u001b[1;33m)\u001b[0m\u001b[1;33m\u001b[0m\u001b[1;33m\u001b[0m\u001b[0m\n\u001b[1;32m----> 5\u001b[1;33m \u001b[1;33m[\u001b[0m\u001b[1;36m0\u001b[0m\u001b[1;33m]\u001b[0m\u001b[1;33m[\u001b[0m\u001b[1;34m\"name\"\u001b[0m\u001b[1;33m]\u001b[0m\u001b[1;33m[\u001b[0m\u001b[1;34m\"location\"\u001b[0m\u001b[1;33m]\u001b[0m\u001b[1;33m\u001b[0m\u001b[1;33m\u001b[0m\u001b[0m\n\u001b[0m",
      "\u001b[1;31mTypeError\u001b[0m: list indices must be integers or slices, not str"
     ]
    }
   ],
   "source": [
    "# pretty print the output of the json\n",
    "ret = response.json()\n",
    "#print(json.dumps(ret, indent=4, sort_key=True))\n",
    "print(json.dumps(ret, indent=4))\n",
    "[0][\"name\"][\"location\"]"
   ]
  },
  {
   "cell_type": "code",
   "execution_count": null,
   "id": "bdd21022",
   "metadata": {},
   "outputs": [],
   "source": [
    "# got thru the parents and children\n",
    "ret[0][\"location\"][\"latitude\"]"
   ]
  },
  {
   "cell_type": "code",
   "execution_count": null,
   "id": "ea2ef889",
   "metadata": {},
   "outputs": [],
   "source": [
    "len(ret)"
   ]
  },
  {
   "cell_type": "code",
   "execution_count": null,
   "id": "fe7ed17c",
   "metadata": {},
   "outputs": [],
   "source": [
    " ret[5][\"details\"]"
   ]
  },
  {
   "cell_type": "code",
   "execution_count": null,
   "id": "f8fd4381",
   "metadata": {},
   "outputs": [],
   "source": [
    "for x in ret:\n",
    "    print(\"-\"*32)\n",
    "    print(x[\"full_name\"])\n",
    "    print(x[\"status\"])\n",
    "    print(x[\"details\"])"
   ]
  },
  {
   "cell_type": "code",
   "execution_count": null,
   "id": "add67b22",
   "metadata": {},
   "outputs": [],
   "source": [
    "# Dependencies\n",
    "import requests\n",
    "from pprint import pprint\n",
    "import json"
   ]
  },
  {
   "cell_type": "code",
   "execution_count": null,
   "id": "12f93066",
   "metadata": {},
   "outputs": [],
   "source": [
    "# URL for GET requests to retrieve vehicle data\n",
    "url = \"https://api.spacexdata.com/v3/launchpads\""
   ]
  },
  {
   "cell_type": "code",
   "execution_count": null,
   "id": "e1edf8ce",
   "metadata": {},
   "outputs": [],
   "source": [
    "# pretty print JSON for all launchpads\n",
    "response = requests.get(url).json()\n",
    "#pprint.pprint(response)\n",
    "print(response)"
   ]
  },
  {
   "cell_type": "code",
   "execution_count": null,
   "id": "654f4a49",
   "metadata": {},
   "outputs": [],
   "source": [
    "print(json.dumps(response[0], indent=4, sort_keys=True))"
   ]
  },
  {
   "cell_type": "code",
   "execution_count": null,
   "id": "cade809f",
   "metadata": {},
   "outputs": [],
   "source": [
    "site_id = response[0][\"site_id\"]\n",
    "new_url = f\"[{url}/{site_id}\"\n",
    "new_url"
   ]
  },
  {
   "cell_type": "code",
   "execution_count": null,
   "id": "0832a7a1",
   "metadata": {},
   "outputs": [],
   "source": [
    "new_url = url + \"/\" + response[0][\"site_id\"]"
   ]
  },
  {
   "cell_type": "code",
   "execution_count": null,
   "id": "10eba933",
   "metadata": {},
   "outputs": [],
   "source": [
    "# pretty print JSON for a specific launchpad\n",
    "response = requests.get(new_url).json()\n",
    "print(json.dumps(response, indent=4, sort_keys=True))"
   ]
  },
  {
   "cell_type": "code",
   "execution_count": null,
   "id": "c61cedc2",
   "metadata": {},
   "outputs": [],
   "source": [
    "vehicles_launched = response[0][\"vehicles_launched\"]\n",
    "vehicles_launched"
   ]
  },
  {
   "cell_type": "code",
   "execution_count": null,
   "id": "da1298cd",
   "metadata": {},
   "outputs": [],
   "source": [
    "for x in response:\n",
    "    print(x, \":\", response[x])"
   ]
  },
  {
   "cell_type": "code",
   "execution_count": null,
   "id": "b7dbebd1",
   "metadata": {},
   "outputs": [],
   "source": [
    "# 1.3 Dependencies\n",
    "import requests\n",
    "import json"
   ]
  },
  {
   "cell_type": "code",
   "execution_count": null,
   "id": "506bb54f",
   "metadata": {},
   "outputs": [],
   "source": [
    "# Performing a GET request and saving the API's response within a variable\n",
    "url = \"https://api.spacexdata.com/v2/rockets/falcon9\"\n",
    "response = requests.get(url)\n",
    "response_json = response.json()\n",
    "print(json.dumps(response_json, indent=4, sort_keys=True))"
   ]
  },
  {
   "cell_type": "code",
   "execution_count": null,
   "id": "7db92037",
   "metadata": {},
   "outputs": [],
   "source": [
    "# it is possible to grab a specific value \n",
    "# from within the JSON object\n",
    "# DOUBLE QUOTATION\n",
    "print(\"\\n\".join(response_json[\"flickr_images\"][0:-1]))\n",
    "print(f'{response_json[\"flickr_images\"][3]}')\n",
    "print(f'{response_json[\"cost_per_launch\"]:,.0f}')"
   ]
  },
  {
   "cell_type": "code",
   "execution_count": null,
   "id": "8c6814c0",
   "metadata": {},
   "outputs": [],
   "source": [
    "#NOW we can PPRINT\n",
    "pprint(response_json[\"payload_weights\"])"
   ]
  },
  {
   "cell_type": "code",
   "execution_count": null,
   "id": "dd53d2f1",
   "metadata": {},
   "outputs": [],
   "source": [
    "# It is also possible to perform some analyses on values stored within the JSON object\n",
    "number_payloads = len(response_json[\"payload_weights\"])\n",
    "weights = 0\n",
    "weightsKG = 0\n",
    "for x in response_json[\"payload_weights\"]:\n",
    "    weights += x[\"lb\"]\n",
    "    weightsKG += x[\"kg\"]\n",
    "    \n",
    "print(f\"There are {number_payloads} payloads. Total: {weights:,.2f} (Lbs) {weightsKG:,.2f}  (KG)\")"
   ]
  },
  {
   "cell_type": "code",
   "execution_count": null,
   "id": "95eabfc9",
   "metadata": {},
   "outputs": [],
   "source": [
    "# Finally, it is possible to reference the\n",
    "# values stored with sub-dictionaries and sub-lists\n",
    "payload_weight = response_json[\"payload_weights\"][2][\"kg\"]\n",
    "print(f\"The third payloads weighed {payload_weight} Kilograms\")"
   ]
  },
  {
   "cell_type": "code",
   "execution_count": null,
   "id": "67f25a29",
   "metadata": {},
   "outputs": [],
   "source": [
    "#1.4\n",
    "# Dependencies\n",
    "import requests\n",
    "import json"
   ]
  },
  {
   "cell_type": "code",
   "execution_count": null,
   "id": "ce89b01a",
   "metadata": {},
   "outputs": [],
   "source": [
    "# URL for GET requests to retrieve Star Wars character data\n",
    "base_url = \"https://swapi.dev/api/people/\"\n",
    "# Perfrom a get request on this character\n",
    "response = requests.get(base_url).json()\n",
    "#response_json = response.json()\n",
    "#print(json.dumps(response_json, indent=4))"
   ]
  },
  {
   "cell_type": "code",
   "execution_count": null,
   "id": "cc645c8b",
   "metadata": {},
   "outputs": [],
   "source": [
    "response[\"results\"][0]"
   ]
  },
  {
   "cell_type": "code",
   "execution_count": null,
   "id": "63e27712",
   "metadata": {},
   "outputs": [],
   "source": [
    "for person in response[\"results\"]:\n",
    "    print(\"-\"*64)\n",
    "    print(person[\"name\"])\n",
    "    for film in person[\"films\"]:\n",
    "        film_details = requests.get(film).json()\n",
    "        print(\"Movie:\", film_details[\"title\"])\n",
    "    for vehicle in person[\"vehicles\"]:\n",
    "        vehicle_details = requests.get(vehicle).json()\n",
    "        print(\"Vehicle:\", vehicle_details[\"name\"], \"Model:\", vehicle_details[\"model\"])"
   ]
  },
  {
   "cell_type": "code",
   "execution_count": null,
   "id": "91691ce2",
   "metadata": {},
   "outputs": [],
   "source": [
    "# create a url with a specific charater id\n",
    "character_id = '4'\n",
    "url = base_url + character_id\n",
    "print(url)"
   ]
  },
  {
   "cell_type": "code",
   "execution_count": null,
   "id": "d63be3c5",
   "metadata": {},
   "outputs": [],
   "source": [
    "# Perform a GET request for  this character\n",
    "response = requests.get(url)\n",
    "print(response.url)"
   ]
  },
  {
   "cell_type": "code",
   "execution_count": null,
   "id": "457a965c",
   "metadata": {},
   "outputs": [],
   "source": [
    "# Storing the JSON response with a variable\n",
    "data = response.json()\n",
    "# Use json dumps to print the json\n",
    "print(json.dumps(data, indent=4, sort_keys=True))"
   ]
  },
  {
   "cell_type": "code",
   "execution_count": null,
   "id": "9596adf2",
   "metadata": {},
   "outputs": [],
   "source": [
    "# print the name of the character\n",
    "character_name = data[\"name\"]\n",
    "print(character_name)"
   ]
  },
  {
   "cell_type": "code",
   "execution_count": null,
   "id": "87f172b4",
   "metadata": {},
   "outputs": [],
   "source": [
    "# print the number of films they were in (hint: use Len()\n",
    "films = data[\"films\"]\n",
    "print(len(films))"
   ]
  },
  {
   "cell_type": "code",
   "execution_count": null,
   "id": "fa526320",
   "metadata": {},
   "outputs": [],
   "source": [
    "# Request the starship URI found in  the starships property of the \n",
    "# previously retreived json, then use the response to figure out what this \n",
    "# character's first starship was\n",
    "first_ship_url = data[\"starships\"][0]\n",
    "ship_response = requests.get(first_ship_url).json()\n",
    "ship_response"
   ]
  },
  {
   "cell_type": "code",
   "execution_count": null,
   "id": "6a5e63a3",
   "metadata": {},
   "outputs": [],
   "source": [
    "first_ship = ship_response[\"name\"]\n",
    "print(f\"Their first ship: {first_ship}\")"
   ]
  },
  {
   "cell_type": "code",
   "execution_count": null,
   "id": "122a9e7d",
   "metadata": {},
   "outputs": [],
   "source": [
    "# Bonus\n",
    "films = []\n",
    "\n",
    "for film in data['films']:\n",
    "    cur_film = requests.get(film).json()\n",
    "    film_title = cur_film[\"title\"]\n",
    "    films.append(film_title)\n",
    "    \n",
    "print(f\"{character_name} appeared in these {films}\")"
   ]
  },
  {
   "cell_type": "code",
   "execution_count": null,
   "id": "562a2159",
   "metadata": {},
   "outputs": [],
   "source": [
    "#1.5\n",
    "# Dependecies\n",
    "import requests\n",
    "import json"
   ]
  },
  {
   "cell_type": "code",
   "execution_count": null,
   "id": "6ccf0a75",
   "metadata": {},
   "outputs": [],
   "source": [
    "# Base URL for GET requests to retrieve number/date facts\n",
    "\n",
    "types =[\"trivia\", \"math\", \"data\", \"year\"]\n",
    "number = 50\n",
    "\n"
   ]
  },
  {
   "cell_type": "code",
   "execution_count": null,
   "id": "10cf0291",
   "metadata": {},
   "outputs": [],
   "source": [
    "type = input(f\"Choose from a type({', '.join(types)})\")"
   ]
  },
  {
   "cell_type": "code",
   "execution_count": null,
   "id": "1b9e98b1",
   "metadata": {},
   "outputs": [],
   "source": [
    "number = input(f\"Choose from a number/date are you looking for: \")"
   ]
  },
  {
   "cell_type": "code",
   "execution_count": null,
   "id": "33992d73",
   "metadata": {},
   "outputs": [],
   "source": [
    "url = f\"http://numbersapi.com/{number}/{type}\"\n",
    "print(url)\n",
    "requests.get(url).text"
   ]
  },
  {
   "cell_type": "code",
   "execution_count": null,
   "id": "54810dcb",
   "metadata": {},
   "outputs": [],
   "source": [
    "#url + number + \"/\" + kind_of_search.lower()+ \"?json\""
   ]
  },
  {
   "cell_type": "code",
   "execution_count": null,
   "id": "af69741c",
   "metadata": {},
   "outputs": [],
   "source": [
    "# Dependencies\n",
    "import requests\n",
    "import json\n",
    "from config import omdb_api_key"
   ]
  },
  {
   "cell_type": "code",
   "execution_count": null,
   "id": "fc646a3a",
   "metadata": {},
   "outputs": [],
   "source": [
    "from pprint import pprint"
   ]
  },
  {
   "cell_type": "code",
   "execution_count": null,
   "id": "63bb22a1",
   "metadata": {},
   "outputs": [],
   "source": [
    "url = f\"http://www.omdbapi.com/?s=\" \n",
    "api_key= \"&api_key=\" + omdb_api_key"
   ]
  },
  {
   "cell_type": "code",
   "execution_count": null,
   "id": "a3c95d9b",
   "metadata": {},
   "outputs": [],
   "source": [
    "full_url = url + \"Dune\" + omdb_api_key\n",
    "full_url"
   ]
  },
  {
   "cell_type": "code",
   "execution_count": null,
   "id": "3a0d3781",
   "metadata": {},
   "outputs": [],
   "source": [
    "# Performing a GET request similar to the one we executed earlier\n",
    "response = requests.get(full_url)\n",
    "response"
   ]
  },
  {
   "cell_type": "code",
   "execution_count": null,
   "id": "e7051946",
   "metadata": {
    "scrolled": true
   },
   "outputs": [],
   "source": [
    "# Convert the response to JSON and print the result.\n",
    "data = response.json()\n",
    "print(json.dumps(data, indent=4))"
   ]
  },
  {
   "cell_type": "code",
   "execution_count": null,
   "id": "46ed9a45",
   "metadata": {},
   "outputs": [],
   "source": [
    "# Print a few keys from the response JSON.\n",
    "print(f\"Movie was directed by {data['Director']}.\")\n",
    "print(f\"Movie was released in {data['Year']}.\")\n",
    "print(f\"Movie was released in {data['Rated']}.\")\n",
    "print(f\"Movie was released in {data['Ratings']}.\")"
   ]
  },
  {
   "cell_type": "code",
   "execution_count": null,
   "id": "3dd34f3e",
   "metadata": {},
   "outputs": [],
   "source": [
    "#1.8\n",
    "import requests\n",
    "from config import omdb_api_key\n",
    "url = f\"http://www.omdbapi.com/?apikey={omdb_api_key}&t=\"\n",
    "url"
   ]
  },
  {
   "cell_type": "code",
   "execution_count": null,
   "id": "d97252fb",
   "metadata": {},
   "outputs": [],
   "source": [
    "# who was the director of the movie Aliens?\n",
    "movie = requests.get(url + \"Aliens\").json()\n",
    "print(f\"The director of Aliens was {movie[\"Director\"]}.\")"
   ]
  },
  {
   "cell_type": "code",
   "execution_count": null,
   "id": "6bbed7d2",
   "metadata": {},
   "outputs": [],
   "source": [
    "#1.9 Do Iterative Requests\n",
    "#Dependencies\n",
    "import random\n",
    "import json\n",
    "import requests"
   ]
  },
  {
   "cell_type": "code",
   "execution_count": null,
   "id": "9d5a2672",
   "metadata": {},
   "outputs": [],
   "source": [
    "url = \"http://jsonplaceholder.typicode.com/posts/\""
   ]
  },
  {
   "cell_type": "code",
   "execution_count": null,
   "id": "4246eed2",
   "metadata": {},
   "outputs": [],
   "source": [
    "# Create an empty list to store the responses\n",
    "response_json = []"
   ]
  },
  {
   "cell_type": "code",
   "execution_count": null,
   "id": "d857e968",
   "metadata": {},
   "outputs": [],
   "source": [
    "# Create the random indicies representing a user's choice of posts\n",
    "indices = random.sample(list(range(1,100)), 5)\n",
    "indices"
   ]
  },
  {
   "cell_type": "code",
   "execution_count": null,
   "id": "a5ffbbea",
   "metadata": {},
   "outputs": [],
   "source": [
    "# Make a request for each of the indicies\n",
    "for x in range(len(indices)):\n",
    "    print(f\"Making request number: {x} for ID: {indices[x]}\")\n",
    "    \n",
    "    # Get one of the posts\n",
    "    post_response = requests.get(url + str(indices[x]))\n",
    "    \n",
    "    # Save post's JSON\n",
    "    response_json.append(post_response.json())"
   ]
  },
  {
   "cell_type": "code",
   "execution_count": null,
   "id": "db27dc72",
   "metadata": {},
   "outputs": [],
   "source": [
    "# Now we have 10 post objects, which we got by making 100 requests to the API\n",
    "print(f\"We have {len(response_json)} posts!\")"
   ]
  },
  {
   "cell_type": "code",
   "execution_count": null,
   "id": "19a0bb17",
   "metadata": {},
   "outputs": [],
   "source": [
    "response_json"
   ]
  },
  {
   "cell_type": "code",
   "execution_count": null,
   "id": "39b45f0b",
   "metadata": {},
   "outputs": [],
   "source": [
    "print(json.dumps(response_json, indent=4, sort_keys=True))"
   ]
  },
  {
   "cell_type": "code",
   "execution_count": null,
   "id": "60082f1a",
   "metadata": {},
   "outputs": [],
   "source": [
    "#1.11\n",
    "# Dependencies\n",
    "import requests\n",
    "from pprint import pprint\n",
    "from config import nyt_api_key\n",
    "url = \"https://api.nytimes.com/svc/search/v2/articlesearch.json?\" "
   ]
  },
  {
   "cell_type": "code",
   "execution_count": null,
   "id": "0b7521d8",
   "metadata": {},
   "outputs": [],
   "source": [
    "# search for articles that mention granola\n",
    "query = \"coronavirus\""
   ]
  },
  {
   "cell_type": "code",
   "execution_count": null,
   "id": "b46c981c",
   "metadata": {},
   "outputs": [],
   "source": [
    "# Build query URL\n",
    "query_url = url +\"api_key=\" + nyt_api_key + \"&q=\" + query"
   ]
  },
  {
   "cell_type": "code",
   "execution_count": null,
   "id": "7e9eaadf",
   "metadata": {},
   "outputs": [],
   "source": [
    "print(query_url)"
   ]
  },
  {
   "cell_type": "code",
   "execution_count": null,
   "id": "ffe72c5b",
   "metadata": {},
   "outputs": [],
   "source": [
    "# Request articles\n",
    "articles = requests.get(query_url).json()\n",
    "\n",
    "# The \"response\" property in articles conatins the actual list comprehension\n",
    "articles_list = articles[\"response\"][\"docs\"]\n",
    "pprint(articles_list)"
   ]
  },
  {
   "cell_type": "code",
   "execution_count": 1,
   "id": "988f08a9",
   "metadata": {},
   "outputs": [],
   "source": [
    "# Dependencies\n",
    "from random import random\n",
    "import matplotlib.pyplot as plt\n",
    "import numpy as np\n",
    "from scipy.stats import sem"
   ]
  },
  {
   "cell_type": "code",
   "execution_count": 8,
   "id": "ac099abf",
   "metadata": {},
   "outputs": [
    {
     "data": {
      "image/png": "[encoded data removed]",
      "text/plain": [
       "<Figure size 432x288 with 1 Axes>"
      ]
     },
     "metadata": {
      "needs_background": "light"
     },
     "output_type": "display_data"
    }
   ],
   "source": [
    "# \"Will you vote for a republican in this election?\"\n",
    "sample_size = 100\n",
    "\n",
    "# Like a nested for-loop, there is a list comprehension nested inside the outer list comprehension\n",
    "# The inner list comprehension generates a list of True and False values.\n",
    "# The outer list comprehension generates ten such lists\n",
    "samples = [[True if random() < 0.5 else False for x in range(0, sample_size)]\n",
    "    for y in range(0, 20)]\n",
    "\n",
    "x_axis = np.arange(0,len(samples), 1)\n",
    "\n",
    "# Evaluate the mean of each list in samples\n",
    "means = [np.mean(s) for s in samples]\n",
    "\n",
    "# Evaluate the standard error measurement for each list in samples\n",
    "standard_errors = [sem(s) for s in samples]\n",
    "\n",
    "# Generate an errorbar plot\n",
    "# the 'yerr' argument refers to the error bar for each sample, oriented to the y-axis\n",
    "plt.errorbar(\n",
    "    x_axis,\n",
    "    means,\n",
    "    yerr=standard_errors,\n",
    "    color='r',\n",
    "    marker='o',\n",
    "    markersize=5,\n",
    "    linestyle='dashed',\n",
    "    linewidth=0.5\n",
    "    )\n",
    "\n",
    "# Display the plot\n",
    "plt.show()"
   ]
  },
  {
   "cell_type": "code",
   "execution_count": 3,
   "id": "003c806a",
   "metadata": {},
   "outputs": [],
   "source": []
  },
  {
   "cell_type": "code",
   "execution_count": null,
   "id": "7f400238",
   "metadata": {},
   "outputs": [],
   "source": []
  }
 ],
 "metadata": {
  "kernelspec": {
   "display_name": "Python 3",
   "language": "python",
   "name": "python3"
  },
  "language_info": {
   "codemirror_mode": {
    "name": "ipython",
    "version": 3
   },
   "file_extension": ".py",
   "mimetype": "text/x-python",
   "name": "python",
   "nbconvert_exporter": "python",
   "pygments_lexer": "ipython3",
   "version": "3.6.13"
  }
 },
 "nbformat": 4,
 "nbformat_minor": 5
}
